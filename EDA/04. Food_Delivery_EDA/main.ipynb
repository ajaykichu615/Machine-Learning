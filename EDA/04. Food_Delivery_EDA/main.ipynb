{
 "cells": [
  {
   "cell_type": "markdown",
   "id": "42ba9803",
   "metadata": {},
   "source": [
    "### Basic Understanding about the data"
   ]
  },
  {
   "cell_type": "markdown",
   "id": "9f11d54a",
   "metadata": {},
   "source": [
    "Reading the CSV to DataFrame"
   ]
  },
  {
   "cell_type": "code",
   "execution_count": 157,
   "id": "99b1c076",
   "metadata": {},
   "outputs": [],
   "source": [
    "import pandas as pd\n",
    "import numpy as np\n",
    "import matplotlib.pyplot as plt\n",
    "import seaborn as sns"
   ]
  },
  {
   "cell_type": "code",
   "execution_count": 158,
   "id": "58dbfc9b",
   "metadata": {},
   "outputs": [],
   "source": [
    "df = pd.read_csv('food_delivery_orders.csv')"
   ]
  },
  {
   "cell_type": "code",
   "execution_count": 159,
   "id": "d7385649",
   "metadata": {},
   "outputs": [
    {
     "data": {
      "text/html": [
       "<div>\n",
       "<style scoped>\n",
       "    .dataframe tbody tr th:only-of-type {\n",
       "        vertical-align: middle;\n",
       "    }\n",
       "\n",
       "    .dataframe tbody tr th {\n",
       "        vertical-align: top;\n",
       "    }\n",
       "\n",
       "    .dataframe thead th {\n",
       "        text-align: right;\n",
       "    }\n",
       "</style>\n",
       "<table border=\"1\" class=\"dataframe\">\n",
       "  <thead>\n",
       "    <tr style=\"text-align: right;\">\n",
       "      <th></th>\n",
       "      <th>Order_ID</th>\n",
       "      <th>Customer_Name</th>\n",
       "      <th>Order_Date</th>\n",
       "      <th>Delivery_Time_Min</th>\n",
       "      <th>Food_Item</th>\n",
       "      <th>Restaurant_Rating</th>\n",
       "      <th>Price</th>\n",
       "      <th>Payment_Method</th>\n",
       "      <th>Is_Repeated_Customer</th>\n",
       "    </tr>\n",
       "  </thead>\n",
       "  <tbody>\n",
       "    <tr>\n",
       "      <th>0</th>\n",
       "      <td>OID1000</td>\n",
       "      <td>Cody Mitchell</td>\n",
       "      <td>2025-03-16</td>\n",
       "      <td>NaN</td>\n",
       "      <td>Biryani</td>\n",
       "      <td>3.0</td>\n",
       "      <td>659.1</td>\n",
       "      <td>UPI</td>\n",
       "      <td>1</td>\n",
       "    </tr>\n",
       "    <tr>\n",
       "      <th>1</th>\n",
       "      <td>OID1001</td>\n",
       "      <td>Christy Robbins</td>\n",
       "      <td>2025-01-19</td>\n",
       "      <td>38.0</td>\n",
       "      <td>Pizza</td>\n",
       "      <td>4.0</td>\n",
       "      <td>304.98</td>\n",
       "      <td>Cash</td>\n",
       "      <td>0</td>\n",
       "    </tr>\n",
       "    <tr>\n",
       "      <th>2</th>\n",
       "      <td>OID1002</td>\n",
       "      <td>Teresa Bush</td>\n",
       "      <td>2025-04-21</td>\n",
       "      <td>46.0</td>\n",
       "      <td>Pizza</td>\n",
       "      <td>1.0</td>\n",
       "      <td>785.98</td>\n",
       "      <td>UPI</td>\n",
       "      <td>0</td>\n",
       "    </tr>\n",
       "    <tr>\n",
       "      <th>3</th>\n",
       "      <td>OID1003</td>\n",
       "      <td>Richard Stanley</td>\n",
       "      <td>2024-07-19</td>\n",
       "      <td>55.0</td>\n",
       "      <td>Biryani</td>\n",
       "      <td>3.0</td>\n",
       "      <td>521.32</td>\n",
       "      <td>UPI</td>\n",
       "      <td>1</td>\n",
       "    </tr>\n",
       "    <tr>\n",
       "      <th>4</th>\n",
       "      <td>OID1004</td>\n",
       "      <td>Tammie Scott</td>\n",
       "      <td>2025-05-24</td>\n",
       "      <td>37.0</td>\n",
       "      <td>Pasta</td>\n",
       "      <td>2.0</td>\n",
       "      <td>507.7</td>\n",
       "      <td>UPI</td>\n",
       "      <td>0</td>\n",
       "    </tr>\n",
       "    <tr>\n",
       "      <th>...</th>\n",
       "      <td>...</td>\n",
       "      <td>...</td>\n",
       "      <td>...</td>\n",
       "      <td>...</td>\n",
       "      <td>...</td>\n",
       "      <td>...</td>\n",
       "      <td>...</td>\n",
       "      <td>...</td>\n",
       "      <td>...</td>\n",
       "    </tr>\n",
       "    <tr>\n",
       "      <th>805</th>\n",
       "      <td>OID1461</td>\n",
       "      <td>April Patterson</td>\n",
       "      <td>2025-03-03</td>\n",
       "      <td>40.0</td>\n",
       "      <td>Burger</td>\n",
       "      <td>3.0</td>\n",
       "      <td>237.27</td>\n",
       "      <td>Wallet</td>\n",
       "      <td>0</td>\n",
       "    </tr>\n",
       "    <tr>\n",
       "      <th>806</th>\n",
       "      <td>OID1504</td>\n",
       "      <td>Craig Peters</td>\n",
       "      <td>2025-05-17</td>\n",
       "      <td>33.0</td>\n",
       "      <td>Tacos</td>\n",
       "      <td>4.0</td>\n",
       "      <td>522.66</td>\n",
       "      <td>Cash</td>\n",
       "      <td>0</td>\n",
       "    </tr>\n",
       "    <tr>\n",
       "      <th>807</th>\n",
       "      <td>OID1534</td>\n",
       "      <td>Cody Yang</td>\n",
       "      <td>2024-08-15</td>\n",
       "      <td>33.0</td>\n",
       "      <td>Pizza</td>\n",
       "      <td>4.0</td>\n",
       "      <td>306.53</td>\n",
       "      <td>UPI</td>\n",
       "      <td>0</td>\n",
       "    </tr>\n",
       "    <tr>\n",
       "      <th>808</th>\n",
       "      <td>OID1720</td>\n",
       "      <td>Emily Owens</td>\n",
       "      <td>2024-09-02</td>\n",
       "      <td>43.0</td>\n",
       "      <td>Burger</td>\n",
       "      <td>4.0</td>\n",
       "      <td>384.97</td>\n",
       "      <td>Wallet</td>\n",
       "      <td>0</td>\n",
       "    </tr>\n",
       "    <tr>\n",
       "      <th>809</th>\n",
       "      <td>OID1642</td>\n",
       "      <td>Jeffrey Benitez</td>\n",
       "      <td>2025-04-18</td>\n",
       "      <td>37.0</td>\n",
       "      <td>Biryani</td>\n",
       "      <td>3.0</td>\n",
       "      <td>259.42</td>\n",
       "      <td>Credit Card</td>\n",
       "      <td>0</td>\n",
       "    </tr>\n",
       "  </tbody>\n",
       "</table>\n",
       "<p>810 rows × 9 columns</p>\n",
       "</div>"
      ],
      "text/plain": [
       "    Order_ID    Customer_Name  Order_Date  Delivery_Time_Min Food_Item  \\\n",
       "0    OID1000    Cody Mitchell  2025-03-16                NaN   Biryani   \n",
       "1    OID1001  Christy Robbins  2025-01-19               38.0     Pizza   \n",
       "2    OID1002      Teresa Bush  2025-04-21               46.0     Pizza   \n",
       "3    OID1003  Richard Stanley  2024-07-19               55.0   Biryani   \n",
       "4    OID1004     Tammie Scott  2025-05-24               37.0     Pasta   \n",
       "..       ...              ...         ...                ...       ...   \n",
       "805  OID1461  April Patterson  2025-03-03               40.0    Burger   \n",
       "806  OID1504     Craig Peters  2025-05-17               33.0     Tacos   \n",
       "807  OID1534        Cody Yang  2024-08-15               33.0     Pizza   \n",
       "808  OID1720      Emily Owens  2024-09-02               43.0    Burger   \n",
       "809  OID1642  Jeffrey Benitez  2025-04-18               37.0   Biryani   \n",
       "\n",
       "     Restaurant_Rating   Price Payment_Method  Is_Repeated_Customer  \n",
       "0                  3.0   659.1            UPI                     1  \n",
       "1                  4.0  304.98           Cash                     0  \n",
       "2                  1.0  785.98            UPI                     0  \n",
       "3                  3.0  521.32            UPI                     1  \n",
       "4                  2.0   507.7            UPI                     0  \n",
       "..                 ...     ...            ...                   ...  \n",
       "805                3.0  237.27         Wallet                     0  \n",
       "806                4.0  522.66           Cash                     0  \n",
       "807                4.0  306.53            UPI                     0  \n",
       "808                4.0  384.97         Wallet                     0  \n",
       "809                3.0  259.42    Credit Card                     0  \n",
       "\n",
       "[810 rows x 9 columns]"
      ]
     },
     "execution_count": 159,
     "metadata": {},
     "output_type": "execute_result"
    }
   ],
   "source": [
    "df"
   ]
  },
  {
   "cell_type": "code",
   "execution_count": 160,
   "id": "7b2d4b02",
   "metadata": {},
   "outputs": [
    {
     "data": {
      "text/html": [
       "<div>\n",
       "<style scoped>\n",
       "    .dataframe tbody tr th:only-of-type {\n",
       "        vertical-align: middle;\n",
       "    }\n",
       "\n",
       "    .dataframe tbody tr th {\n",
       "        vertical-align: top;\n",
       "    }\n",
       "\n",
       "    .dataframe thead th {\n",
       "        text-align: right;\n",
       "    }\n",
       "</style>\n",
       "<table border=\"1\" class=\"dataframe\">\n",
       "  <thead>\n",
       "    <tr style=\"text-align: right;\">\n",
       "      <th></th>\n",
       "      <th>Order_ID</th>\n",
       "      <th>Customer_Name</th>\n",
       "      <th>Order_Date</th>\n",
       "      <th>Delivery_Time_Min</th>\n",
       "      <th>Food_Item</th>\n",
       "      <th>Restaurant_Rating</th>\n",
       "      <th>Price</th>\n",
       "      <th>Payment_Method</th>\n",
       "      <th>Is_Repeated_Customer</th>\n",
       "    </tr>\n",
       "  </thead>\n",
       "  <tbody>\n",
       "    <tr>\n",
       "      <th>0</th>\n",
       "      <td>OID1000</td>\n",
       "      <td>Cody Mitchell</td>\n",
       "      <td>2025-03-16</td>\n",
       "      <td>NaN</td>\n",
       "      <td>Biryani</td>\n",
       "      <td>3.0</td>\n",
       "      <td>659.1</td>\n",
       "      <td>UPI</td>\n",
       "      <td>1</td>\n",
       "    </tr>\n",
       "    <tr>\n",
       "      <th>1</th>\n",
       "      <td>OID1001</td>\n",
       "      <td>Christy Robbins</td>\n",
       "      <td>2025-01-19</td>\n",
       "      <td>38.0</td>\n",
       "      <td>Pizza</td>\n",
       "      <td>4.0</td>\n",
       "      <td>304.98</td>\n",
       "      <td>Cash</td>\n",
       "      <td>0</td>\n",
       "    </tr>\n",
       "    <tr>\n",
       "      <th>2</th>\n",
       "      <td>OID1002</td>\n",
       "      <td>Teresa Bush</td>\n",
       "      <td>2025-04-21</td>\n",
       "      <td>46.0</td>\n",
       "      <td>Pizza</td>\n",
       "      <td>1.0</td>\n",
       "      <td>785.98</td>\n",
       "      <td>UPI</td>\n",
       "      <td>0</td>\n",
       "    </tr>\n",
       "    <tr>\n",
       "      <th>3</th>\n",
       "      <td>OID1003</td>\n",
       "      <td>Richard Stanley</td>\n",
       "      <td>2024-07-19</td>\n",
       "      <td>55.0</td>\n",
       "      <td>Biryani</td>\n",
       "      <td>3.0</td>\n",
       "      <td>521.32</td>\n",
       "      <td>UPI</td>\n",
       "      <td>1</td>\n",
       "    </tr>\n",
       "    <tr>\n",
       "      <th>4</th>\n",
       "      <td>OID1004</td>\n",
       "      <td>Tammie Scott</td>\n",
       "      <td>2025-05-24</td>\n",
       "      <td>37.0</td>\n",
       "      <td>Pasta</td>\n",
       "      <td>2.0</td>\n",
       "      <td>507.7</td>\n",
       "      <td>UPI</td>\n",
       "      <td>0</td>\n",
       "    </tr>\n",
       "  </tbody>\n",
       "</table>\n",
       "</div>"
      ],
      "text/plain": [
       "  Order_ID    Customer_Name  Order_Date  Delivery_Time_Min Food_Item  \\\n",
       "0  OID1000    Cody Mitchell  2025-03-16                NaN   Biryani   \n",
       "1  OID1001  Christy Robbins  2025-01-19               38.0     Pizza   \n",
       "2  OID1002      Teresa Bush  2025-04-21               46.0     Pizza   \n",
       "3  OID1003  Richard Stanley  2024-07-19               55.0   Biryani   \n",
       "4  OID1004     Tammie Scott  2025-05-24               37.0     Pasta   \n",
       "\n",
       "   Restaurant_Rating   Price Payment_Method  Is_Repeated_Customer  \n",
       "0                3.0   659.1            UPI                     1  \n",
       "1                4.0  304.98           Cash                     0  \n",
       "2                1.0  785.98            UPI                     0  \n",
       "3                3.0  521.32            UPI                     1  \n",
       "4                2.0   507.7            UPI                     0  "
      ]
     },
     "execution_count": 160,
     "metadata": {},
     "output_type": "execute_result"
    }
   ],
   "source": [
    "df.head()  # by default first 5 rows"
   ]
  },
  {
   "cell_type": "code",
   "execution_count": 161,
   "id": "17c670bb",
   "metadata": {},
   "outputs": [
    {
     "data": {
      "text/html": [
       "<div>\n",
       "<style scoped>\n",
       "    .dataframe tbody tr th:only-of-type {\n",
       "        vertical-align: middle;\n",
       "    }\n",
       "\n",
       "    .dataframe tbody tr th {\n",
       "        vertical-align: top;\n",
       "    }\n",
       "\n",
       "    .dataframe thead th {\n",
       "        text-align: right;\n",
       "    }\n",
       "</style>\n",
       "<table border=\"1\" class=\"dataframe\">\n",
       "  <thead>\n",
       "    <tr style=\"text-align: right;\">\n",
       "      <th></th>\n",
       "      <th>Order_ID</th>\n",
       "      <th>Customer_Name</th>\n",
       "      <th>Order_Date</th>\n",
       "      <th>Delivery_Time_Min</th>\n",
       "      <th>Food_Item</th>\n",
       "      <th>Restaurant_Rating</th>\n",
       "      <th>Price</th>\n",
       "      <th>Payment_Method</th>\n",
       "      <th>Is_Repeated_Customer</th>\n",
       "    </tr>\n",
       "  </thead>\n",
       "  <tbody>\n",
       "    <tr>\n",
       "      <th>805</th>\n",
       "      <td>OID1461</td>\n",
       "      <td>April Patterson</td>\n",
       "      <td>2025-03-03</td>\n",
       "      <td>40.0</td>\n",
       "      <td>Burger</td>\n",
       "      <td>3.0</td>\n",
       "      <td>237.27</td>\n",
       "      <td>Wallet</td>\n",
       "      <td>0</td>\n",
       "    </tr>\n",
       "    <tr>\n",
       "      <th>806</th>\n",
       "      <td>OID1504</td>\n",
       "      <td>Craig Peters</td>\n",
       "      <td>2025-05-17</td>\n",
       "      <td>33.0</td>\n",
       "      <td>Tacos</td>\n",
       "      <td>4.0</td>\n",
       "      <td>522.66</td>\n",
       "      <td>Cash</td>\n",
       "      <td>0</td>\n",
       "    </tr>\n",
       "    <tr>\n",
       "      <th>807</th>\n",
       "      <td>OID1534</td>\n",
       "      <td>Cody Yang</td>\n",
       "      <td>2024-08-15</td>\n",
       "      <td>33.0</td>\n",
       "      <td>Pizza</td>\n",
       "      <td>4.0</td>\n",
       "      <td>306.53</td>\n",
       "      <td>UPI</td>\n",
       "      <td>0</td>\n",
       "    </tr>\n",
       "    <tr>\n",
       "      <th>808</th>\n",
       "      <td>OID1720</td>\n",
       "      <td>Emily Owens</td>\n",
       "      <td>2024-09-02</td>\n",
       "      <td>43.0</td>\n",
       "      <td>Burger</td>\n",
       "      <td>4.0</td>\n",
       "      <td>384.97</td>\n",
       "      <td>Wallet</td>\n",
       "      <td>0</td>\n",
       "    </tr>\n",
       "    <tr>\n",
       "      <th>809</th>\n",
       "      <td>OID1642</td>\n",
       "      <td>Jeffrey Benitez</td>\n",
       "      <td>2025-04-18</td>\n",
       "      <td>37.0</td>\n",
       "      <td>Biryani</td>\n",
       "      <td>3.0</td>\n",
       "      <td>259.42</td>\n",
       "      <td>Credit Card</td>\n",
       "      <td>0</td>\n",
       "    </tr>\n",
       "  </tbody>\n",
       "</table>\n",
       "</div>"
      ],
      "text/plain": [
       "    Order_ID    Customer_Name  Order_Date  Delivery_Time_Min Food_Item  \\\n",
       "805  OID1461  April Patterson  2025-03-03               40.0    Burger   \n",
       "806  OID1504     Craig Peters  2025-05-17               33.0     Tacos   \n",
       "807  OID1534        Cody Yang  2024-08-15               33.0     Pizza   \n",
       "808  OID1720      Emily Owens  2024-09-02               43.0    Burger   \n",
       "809  OID1642  Jeffrey Benitez  2025-04-18               37.0   Biryani   \n",
       "\n",
       "     Restaurant_Rating   Price Payment_Method  Is_Repeated_Customer  \n",
       "805                3.0  237.27         Wallet                     0  \n",
       "806                4.0  522.66           Cash                     0  \n",
       "807                4.0  306.53            UPI                     0  \n",
       "808                4.0  384.97         Wallet                     0  \n",
       "809                3.0  259.42    Credit Card                     0  "
      ]
     },
     "execution_count": 161,
     "metadata": {},
     "output_type": "execute_result"
    }
   ],
   "source": [
    "df.tail() # by default last 5 rows"
   ]
  },
  {
   "cell_type": "code",
   "execution_count": 162,
   "id": "ed5f69a1",
   "metadata": {},
   "outputs": [
    {
     "data": {
      "text/plain": [
       "(810, 9)"
      ]
     },
     "execution_count": 162,
     "metadata": {},
     "output_type": "execute_result"
    }
   ],
   "source": [
    "df.shape # (rows,columns)"
   ]
  },
  {
   "cell_type": "code",
   "execution_count": 163,
   "id": "d9c5ed7c",
   "metadata": {},
   "outputs": [
    {
     "data": {
      "text/plain": [
       "Index(['Order_ID', 'Customer_Name', 'Order_Date', 'Delivery_Time_Min',\n",
       "       'Food_Item', 'Restaurant_Rating', 'Price', 'Payment_Method',\n",
       "       'Is_Repeated_Customer'],\n",
       "      dtype='object')"
      ]
     },
     "execution_count": 163,
     "metadata": {},
     "output_type": "execute_result"
    }
   ],
   "source": [
    "df.columns"
   ]
  },
  {
   "cell_type": "code",
   "execution_count": 164,
   "id": "f57333e9",
   "metadata": {},
   "outputs": [
    {
     "data": {
      "text/plain": [
       "Order_ID                 object\n",
       "Customer_Name            object\n",
       "Order_Date               object\n",
       "Delivery_Time_Min       float64\n",
       "Food_Item                object\n",
       "Restaurant_Rating       float64\n",
       "Price                    object\n",
       "Payment_Method           object\n",
       "Is_Repeated_Customer      int64\n",
       "dtype: object"
      ]
     },
     "execution_count": 164,
     "metadata": {},
     "output_type": "execute_result"
    }
   ],
   "source": [
    "df.dtypes # Shows every columns in the DataFrame along with its datatypes"
   ]
  },
  {
   "cell_type": "code",
   "execution_count": 165,
   "id": "7f7f2223",
   "metadata": {},
   "outputs": [
    {
     "data": {
      "text/plain": [
       "RangeIndex(start=0, stop=810, step=1)"
      ]
     },
     "execution_count": 165,
     "metadata": {},
     "output_type": "execute_result"
    }
   ],
   "source": [
    "df.index # shows the range of rows"
   ]
  },
  {
   "cell_type": "code",
   "execution_count": 166,
   "id": "c5522fdc",
   "metadata": {},
   "outputs": [
    {
     "data": {
      "text/html": [
       "<div>\n",
       "<style scoped>\n",
       "    .dataframe tbody tr th:only-of-type {\n",
       "        vertical-align: middle;\n",
       "    }\n",
       "\n",
       "    .dataframe tbody tr th {\n",
       "        vertical-align: top;\n",
       "    }\n",
       "\n",
       "    .dataframe thead th {\n",
       "        text-align: right;\n",
       "    }\n",
       "</style>\n",
       "<table border=\"1\" class=\"dataframe\">\n",
       "  <thead>\n",
       "    <tr style=\"text-align: right;\">\n",
       "      <th></th>\n",
       "      <th>Delivery_Time_Min</th>\n",
       "      <th>Restaurant_Rating</th>\n",
       "      <th>Is_Repeated_Customer</th>\n",
       "    </tr>\n",
       "  </thead>\n",
       "  <tbody>\n",
       "    <tr>\n",
       "      <th>count</th>\n",
       "      <td>786.000000</td>\n",
       "      <td>760.000000</td>\n",
       "      <td>810.000000</td>\n",
       "    </tr>\n",
       "    <tr>\n",
       "      <th>mean</th>\n",
       "      <td>39.627226</td>\n",
       "      <td>3.051316</td>\n",
       "      <td>0.480247</td>\n",
       "    </tr>\n",
       "    <tr>\n",
       "      <th>std</th>\n",
       "      <td>11.304347</td>\n",
       "      <td>1.164358</td>\n",
       "      <td>0.499918</td>\n",
       "    </tr>\n",
       "    <tr>\n",
       "      <th>min</th>\n",
       "      <td>7.000000</td>\n",
       "      <td>1.000000</td>\n",
       "      <td>0.000000</td>\n",
       "    </tr>\n",
       "    <tr>\n",
       "      <th>25%</th>\n",
       "      <td>33.000000</td>\n",
       "      <td>2.000000</td>\n",
       "      <td>0.000000</td>\n",
       "    </tr>\n",
       "    <tr>\n",
       "      <th>50%</th>\n",
       "      <td>40.000000</td>\n",
       "      <td>3.000000</td>\n",
       "      <td>0.000000</td>\n",
       "    </tr>\n",
       "    <tr>\n",
       "      <th>75%</th>\n",
       "      <td>46.000000</td>\n",
       "      <td>4.000000</td>\n",
       "      <td>1.000000</td>\n",
       "    </tr>\n",
       "    <tr>\n",
       "      <th>max</th>\n",
       "      <td>200.000000</td>\n",
       "      <td>5.000000</td>\n",
       "      <td>1.000000</td>\n",
       "    </tr>\n",
       "  </tbody>\n",
       "</table>\n",
       "</div>"
      ],
      "text/plain": [
       "       Delivery_Time_Min  Restaurant_Rating  Is_Repeated_Customer\n",
       "count         786.000000         760.000000            810.000000\n",
       "mean           39.627226           3.051316              0.480247\n",
       "std            11.304347           1.164358              0.499918\n",
       "min             7.000000           1.000000              0.000000\n",
       "25%            33.000000           2.000000              0.000000\n",
       "50%            40.000000           3.000000              0.000000\n",
       "75%            46.000000           4.000000              1.000000\n",
       "max           200.000000           5.000000              1.000000"
      ]
     },
     "execution_count": 166,
     "metadata": {},
     "output_type": "execute_result"
    }
   ],
   "source": [
    "df.describe() # function provides summary statistics for numerical columns in your DataFrame"
   ]
  },
  {
   "cell_type": "code",
   "execution_count": 167,
   "id": "c256b2db",
   "metadata": {},
   "outputs": [
    {
     "name": "stdout",
     "output_type": "stream",
     "text": [
      "<class 'pandas.core.frame.DataFrame'>\n",
      "RangeIndex: 810 entries, 0 to 809\n",
      "Data columns (total 9 columns):\n",
      " #   Column                Non-Null Count  Dtype  \n",
      "---  ------                --------------  -----  \n",
      " 0   Order_ID              810 non-null    object \n",
      " 1   Customer_Name         810 non-null    object \n",
      " 2   Order_Date            810 non-null    object \n",
      " 3   Delivery_Time_Min     786 non-null    float64\n",
      " 4   Food_Item             810 non-null    object \n",
      " 5   Restaurant_Rating     760 non-null    float64\n",
      " 6   Price                 787 non-null    object \n",
      " 7   Payment_Method        810 non-null    object \n",
      " 8   Is_Repeated_Customer  810 non-null    int64  \n",
      "dtypes: float64(2), int64(1), object(6)\n",
      "memory usage: 57.1+ KB\n"
     ]
    }
   ],
   "source": [
    "df.info()"
   ]
  },
  {
   "cell_type": "markdown",
   "id": "d1489360",
   "metadata": {},
   "source": [
    "### Data Cleaning"
   ]
  },
  {
   "cell_type": "markdown",
   "id": "53f324ad",
   "metadata": {},
   "source": [
    "_Missing Value Handling_"
   ]
  },
  {
   "cell_type": "code",
   "execution_count": 168,
   "id": "cca053f4",
   "metadata": {},
   "outputs": [
    {
     "data": {
      "text/plain": [
       "Order_ID                 0\n",
       "Customer_Name            0\n",
       "Order_Date               0\n",
       "Delivery_Time_Min       24\n",
       "Food_Item                0\n",
       "Restaurant_Rating       50\n",
       "Price                   23\n",
       "Payment_Method           0\n",
       "Is_Repeated_Customer     0\n",
       "dtype: int64"
      ]
     },
     "execution_count": 168,
     "metadata": {},
     "output_type": "execute_result"
    }
   ],
   "source": [
    "df.isna().sum() # shows the number of missing values in each column"
   ]
  },
  {
   "cell_type": "code",
   "execution_count": 169,
   "id": "9f8e864a",
   "metadata": {},
   "outputs": [],
   "source": [
    "df.dropna(inplace=True) # drops all rows with any missing values. dropna has a parameter subset\n",
    "                        # to specify which columns to check for missing values"
   ]
  },
  {
   "cell_type": "markdown",
   "id": "e64e3458",
   "metadata": {},
   "source": [
    "_Fillig missing values_"
   ]
  },
  {
   "cell_type": "code",
   "execution_count": 170,
   "id": "5542e934",
   "metadata": {},
   "outputs": [
    {
     "name": "stderr",
     "output_type": "stream",
     "text": [
      "C:\\Users\\ajayk\\AppData\\Local\\Temp\\ipykernel_19196\\2959500628.py:1: FutureWarning: A value is trying to be set on a copy of a DataFrame or Series through chained assignment using an inplace method.\n",
      "The behavior will change in pandas 3.0. This inplace method will never work because the intermediate object on which we are setting values always behaves as a copy.\n",
      "\n",
      "For example, when doing 'df[col].method(value, inplace=True)', try using 'df.method({col: value}, inplace=True)' or df[col] = df[col].method(value) instead, to perform the operation inplace on the original object.\n",
      "\n",
      "\n",
      "  df['Delivery_Time_Min'].fillna(round(df['Delivery_Time_Min'].mean(),1), inplace=True)  # fills missing values with the mean of the column\n"
     ]
    }
   ],
   "source": [
    "df['Delivery_Time_Min'].fillna(round(df['Delivery_Time_Min'].mean(),1), inplace=True)  # fills missing values with the mean of the column"
   ]
  },
  {
   "cell_type": "code",
   "execution_count": 171,
   "id": "78e8a837",
   "metadata": {},
   "outputs": [
    {
     "name": "stderr",
     "output_type": "stream",
     "text": [
      "C:\\Users\\ajayk\\AppData\\Local\\Temp\\ipykernel_19196\\2765048248.py:1: FutureWarning: A value is trying to be set on a copy of a DataFrame or Series through chained assignment using an inplace method.\n",
      "The behavior will change in pandas 3.0. This inplace method will never work because the intermediate object on which we are setting values always behaves as a copy.\n",
      "\n",
      "For example, when doing 'df[col].method(value, inplace=True)', try using 'df.method({col: value}, inplace=True)' or df[col] = df[col].method(value) instead, to perform the operation inplace on the original object.\n",
      "\n",
      "\n",
      "  df['Restaurant_Rating'].fillna(round(df['Restaurant_Rating'].mean(),1), inplace=True)  # fills missing values with the mean of the column\n"
     ]
    }
   ],
   "source": [
    "df['Restaurant_Rating'].fillna(round(df['Restaurant_Rating'].mean(),1), inplace=True)  # fills missing values with the mean of the column"
   ]
  },
  {
   "cell_type": "code",
   "execution_count": 172,
   "id": "b335fa76",
   "metadata": {},
   "outputs": [
    {
     "name": "stderr",
     "output_type": "stream",
     "text": [
      "C:\\Users\\ajayk\\AppData\\Local\\Temp\\ipykernel_19196\\1946005053.py:1: FutureWarning: A value is trying to be set on a copy of a DataFrame or Series through chained assignment using an inplace method.\n",
      "The behavior will change in pandas 3.0. This inplace method will never work because the intermediate object on which we are setting values always behaves as a copy.\n",
      "\n",
      "For example, when doing 'df[col].method(value, inplace=True)', try using 'df.method({col: value}, inplace=True)' or df[col] = df[col].method(value) instead, to perform the operation inplace on the original object.\n",
      "\n",
      "\n",
      "  df['Payment_Method'].fillna(df['Payment_Method'].mode()[0], inplace=True)  # fills missing values with mode value. Note mode returns a Series, so we access the first element with [0].\n"
     ]
    }
   ],
   "source": [
    "df['Payment_Method'].fillna(df['Payment_Method'].mode()[0], inplace=True)  # fills missing values with mode value. Note mode returns a Series, so we access the first element with [0]."
   ]
  },
  {
   "cell_type": "code",
   "execution_count": 173,
   "id": "c6769e75",
   "metadata": {},
   "outputs": [],
   "source": [
    "df['Price']=df['Price'].str.replace('eight hundred','800') # replaces 'eight hundred' with '800' in the 'Price' column"
   ]
  },
  {
   "cell_type": "code",
   "execution_count": 174,
   "id": "5f08c5f4",
   "metadata": {},
   "outputs": [
    {
     "data": {
      "text/plain": [
       "1      304.98\n",
       "2      785.98\n",
       "3      521.32\n",
       "4      507.70\n",
       "5      623.65\n",
       "        ...  \n",
       "805    237.27\n",
       "806    522.66\n",
       "807    306.53\n",
       "808    384.97\n",
       "809    259.42\n",
       "Name: Price, Length: 716, dtype: float64"
      ]
     },
     "execution_count": 174,
     "metadata": {},
     "output_type": "execute_result"
    }
   ],
   "source": [
    "df['Price'].astype(float)"
   ]
  },
  {
   "cell_type": "code",
   "execution_count": 175,
   "id": "c9137361",
   "metadata": {},
   "outputs": [
    {
     "data": {
      "text/html": [
       "<div>\n",
       "<style scoped>\n",
       "    .dataframe tbody tr th:only-of-type {\n",
       "        vertical-align: middle;\n",
       "    }\n",
       "\n",
       "    .dataframe tbody tr th {\n",
       "        vertical-align: top;\n",
       "    }\n",
       "\n",
       "    .dataframe thead th {\n",
       "        text-align: right;\n",
       "    }\n",
       "</style>\n",
       "<table border=\"1\" class=\"dataframe\">\n",
       "  <thead>\n",
       "    <tr style=\"text-align: right;\">\n",
       "      <th></th>\n",
       "      <th>Order_ID</th>\n",
       "      <th>Customer_Name</th>\n",
       "      <th>Order_Date</th>\n",
       "      <th>Delivery_Time_Min</th>\n",
       "      <th>Food_Item</th>\n",
       "      <th>Restaurant_Rating</th>\n",
       "      <th>Payment_Method</th>\n",
       "      <th>Is_Repeated_Customer</th>\n",
       "    </tr>\n",
       "  </thead>\n",
       "  <tbody>\n",
       "    <tr>\n",
       "      <th>1</th>\n",
       "      <td>OID1001</td>\n",
       "      <td>Christy Robbins</td>\n",
       "      <td>2025-01-19</td>\n",
       "      <td>38.0</td>\n",
       "      <td>Pizza</td>\n",
       "      <td>4.0</td>\n",
       "      <td>Cash</td>\n",
       "      <td>0</td>\n",
       "    </tr>\n",
       "    <tr>\n",
       "      <th>2</th>\n",
       "      <td>OID1002</td>\n",
       "      <td>Teresa Bush</td>\n",
       "      <td>2025-04-21</td>\n",
       "      <td>46.0</td>\n",
       "      <td>Pizza</td>\n",
       "      <td>1.0</td>\n",
       "      <td>UPI</td>\n",
       "      <td>0</td>\n",
       "    </tr>\n",
       "    <tr>\n",
       "      <th>3</th>\n",
       "      <td>OID1003</td>\n",
       "      <td>Richard Stanley</td>\n",
       "      <td>2024-07-19</td>\n",
       "      <td>55.0</td>\n",
       "      <td>Biryani</td>\n",
       "      <td>3.0</td>\n",
       "      <td>UPI</td>\n",
       "      <td>1</td>\n",
       "    </tr>\n",
       "    <tr>\n",
       "      <th>4</th>\n",
       "      <td>OID1004</td>\n",
       "      <td>Tammie Scott</td>\n",
       "      <td>2025-05-24</td>\n",
       "      <td>37.0</td>\n",
       "      <td>Pasta</td>\n",
       "      <td>2.0</td>\n",
       "      <td>UPI</td>\n",
       "      <td>0</td>\n",
       "    </tr>\n",
       "    <tr>\n",
       "      <th>5</th>\n",
       "      <td>OID1005</td>\n",
       "      <td>John Swanson</td>\n",
       "      <td>not_a_date</td>\n",
       "      <td>37.0</td>\n",
       "      <td>Burger</td>\n",
       "      <td>2.0</td>\n",
       "      <td>Net Banking</td>\n",
       "      <td>0</td>\n",
       "    </tr>\n",
       "  </tbody>\n",
       "</table>\n",
       "</div>"
      ],
      "text/plain": [
       "  Order_ID    Customer_Name  Order_Date  Delivery_Time_Min Food_Item  \\\n",
       "1  OID1001  Christy Robbins  2025-01-19               38.0     Pizza   \n",
       "2  OID1002      Teresa Bush  2025-04-21               46.0     Pizza   \n",
       "3  OID1003  Richard Stanley  2024-07-19               55.0   Biryani   \n",
       "4  OID1004     Tammie Scott  2025-05-24               37.0     Pasta   \n",
       "5  OID1005     John Swanson  not_a_date               37.0    Burger   \n",
       "\n",
       "   Restaurant_Rating Payment_Method  Is_Repeated_Customer  \n",
       "1                4.0           Cash                     0  \n",
       "2                1.0            UPI                     0  \n",
       "3                3.0            UPI                     1  \n",
       "4                2.0            UPI                     0  \n",
       "5                2.0    Net Banking                     0  "
      ]
     },
     "execution_count": 175,
     "metadata": {},
     "output_type": "execute_result"
    }
   ],
   "source": [
    "df_new = df.drop(columns=['Price']) # to drop a column, we can use the drop method with the column name\n",
    "df_new.head()"
   ]
  },
  {
   "cell_type": "markdown",
   "id": "599f008e",
   "metadata": {},
   "source": [
    "_Duplicates Removal_"
   ]
  },
  {
   "cell_type": "code",
   "execution_count": 176,
   "id": "273e4b5c",
   "metadata": {},
   "outputs": [
    {
     "data": {
      "text/plain": [
       "np.int64(10)"
      ]
     },
     "execution_count": 176,
     "metadata": {},
     "output_type": "execute_result"
    }
   ],
   "source": [
    "df.duplicated().sum()  # counts the number of duplicate rows"
   ]
  },
  {
   "cell_type": "code",
   "execution_count": 177,
   "id": "996bbf0e",
   "metadata": {},
   "outputs": [],
   "source": [
    "df.drop_duplicates(inplace=True) # drops all duplicate rows"
   ]
  },
  {
   "cell_type": "markdown",
   "id": "7e5638c0",
   "metadata": {},
   "source": [
    "_Outlier Detection and Handling_"
   ]
  },
  {
   "cell_type": "code",
   "execution_count": 178,
   "id": "23bf8bc1",
   "metadata": {},
   "outputs": [],
   "source": [
    "# IQR(Interquartile Range) Method for outlier detection \n",
    "# Imagine lining up all your data points from smallest to largest:\n",
    "#- The middle half (between the 25th percentile—Q1—and the 75th percentile—Q3) represents where most values are hanging out.\n",
    "#- The IQR is just the size of that middle zone:\n",
    "#→ IQR = Q3 - Q1\n",
    "#Now, values that are way too low or way too high—specifically more than 1.5 × IQR away from either end—are considered outliers. They might be errors, rare cases, or simply unusually extreme data points.\n"
   ]
  },
  {
   "cell_type": "code",
   "execution_count": 179,
   "id": "b9a7c44c",
   "metadata": {},
   "outputs": [
    {
     "data": {
      "text/plain": [
       "(np.float64(11.625), np.float64(66.625))"
      ]
     },
     "execution_count": 179,
     "metadata": {},
     "output_type": "execute_result"
    }
   ],
   "source": [
    "q1= df['Delivery_Time_Min'].quantile(0.25)  # 25th percentile\n",
    "q3 = df['Delivery_Time_Min'].quantile(0.75)  # 75th percentile\n",
    "iqr = q3 - q1  # Interquartile Range\n",
    "min_range= q1 - 1.5 * iqr  # Lower bound for outliers\n",
    "max_range = q3 + 1.5 * iqr  # Upper bound for outliers\n",
    "min_range, max_range"
   ]
  },
  {
   "cell_type": "code",
   "execution_count": 180,
   "id": "40429895",
   "metadata": {},
   "outputs": [
    {
     "data": {
      "text/html": [
       "<div>\n",
       "<style scoped>\n",
       "    .dataframe tbody tr th:only-of-type {\n",
       "        vertical-align: middle;\n",
       "    }\n",
       "\n",
       "    .dataframe tbody tr th {\n",
       "        vertical-align: top;\n",
       "    }\n",
       "\n",
       "    .dataframe thead th {\n",
       "        text-align: right;\n",
       "    }\n",
       "</style>\n",
       "<table border=\"1\" class=\"dataframe\">\n",
       "  <thead>\n",
       "    <tr style=\"text-align: right;\">\n",
       "      <th></th>\n",
       "      <th>Order_ID</th>\n",
       "      <th>Customer_Name</th>\n",
       "      <th>Order_Date</th>\n",
       "      <th>Delivery_Time_Min</th>\n",
       "      <th>Food_Item</th>\n",
       "      <th>Restaurant_Rating</th>\n",
       "      <th>Price</th>\n",
       "      <th>Payment_Method</th>\n",
       "      <th>Is_Repeated_Customer</th>\n",
       "    </tr>\n",
       "  </thead>\n",
       "  <tbody>\n",
       "    <tr>\n",
       "      <th>1</th>\n",
       "      <td>OID1001</td>\n",
       "      <td>Christy Robbins</td>\n",
       "      <td>2025-01-19</td>\n",
       "      <td>38.0</td>\n",
       "      <td>Pizza</td>\n",
       "      <td>4.0</td>\n",
       "      <td>304.98</td>\n",
       "      <td>Cash</td>\n",
       "      <td>0</td>\n",
       "    </tr>\n",
       "    <tr>\n",
       "      <th>2</th>\n",
       "      <td>OID1002</td>\n",
       "      <td>Teresa Bush</td>\n",
       "      <td>2025-04-21</td>\n",
       "      <td>46.0</td>\n",
       "      <td>Pizza</td>\n",
       "      <td>1.0</td>\n",
       "      <td>785.98</td>\n",
       "      <td>UPI</td>\n",
       "      <td>0</td>\n",
       "    </tr>\n",
       "    <tr>\n",
       "      <th>3</th>\n",
       "      <td>OID1003</td>\n",
       "      <td>Richard Stanley</td>\n",
       "      <td>2024-07-19</td>\n",
       "      <td>55.0</td>\n",
       "      <td>Biryani</td>\n",
       "      <td>3.0</td>\n",
       "      <td>521.32</td>\n",
       "      <td>UPI</td>\n",
       "      <td>1</td>\n",
       "    </tr>\n",
       "    <tr>\n",
       "      <th>4</th>\n",
       "      <td>OID1004</td>\n",
       "      <td>Tammie Scott</td>\n",
       "      <td>2025-05-24</td>\n",
       "      <td>37.0</td>\n",
       "      <td>Pasta</td>\n",
       "      <td>2.0</td>\n",
       "      <td>507.7</td>\n",
       "      <td>UPI</td>\n",
       "      <td>0</td>\n",
       "    </tr>\n",
       "    <tr>\n",
       "      <th>5</th>\n",
       "      <td>OID1005</td>\n",
       "      <td>John Swanson</td>\n",
       "      <td>not_a_date</td>\n",
       "      <td>37.0</td>\n",
       "      <td>Burger</td>\n",
       "      <td>2.0</td>\n",
       "      <td>623.65</td>\n",
       "      <td>Net Banking</td>\n",
       "      <td>0</td>\n",
       "    </tr>\n",
       "    <tr>\n",
       "      <th>...</th>\n",
       "      <td>...</td>\n",
       "      <td>...</td>\n",
       "      <td>...</td>\n",
       "      <td>...</td>\n",
       "      <td>...</td>\n",
       "      <td>...</td>\n",
       "      <td>...</td>\n",
       "      <td>...</td>\n",
       "      <td>...</td>\n",
       "    </tr>\n",
       "    <tr>\n",
       "      <th>794</th>\n",
       "      <td>OID1794</td>\n",
       "      <td>Kimberly Keller</td>\n",
       "      <td>2024-11-24</td>\n",
       "      <td>29.0</td>\n",
       "      <td>Sushi</td>\n",
       "      <td>4.0</td>\n",
       "      <td>403.67</td>\n",
       "      <td>UPI</td>\n",
       "      <td>0</td>\n",
       "    </tr>\n",
       "    <tr>\n",
       "      <th>795</th>\n",
       "      <td>OID1795</td>\n",
       "      <td>Brian Bennett</td>\n",
       "      <td>2024-09-03</td>\n",
       "      <td>50.0</td>\n",
       "      <td>Biryani</td>\n",
       "      <td>4.0</td>\n",
       "      <td>736.96</td>\n",
       "      <td>Credit Card</td>\n",
       "      <td>0</td>\n",
       "    </tr>\n",
       "    <tr>\n",
       "      <th>796</th>\n",
       "      <td>OID1796</td>\n",
       "      <td>Tom Walters</td>\n",
       "      <td>2025-01-06</td>\n",
       "      <td>39.0</td>\n",
       "      <td>Burger</td>\n",
       "      <td>4.0</td>\n",
       "      <td>364.12</td>\n",
       "      <td>Wallet</td>\n",
       "      <td>1</td>\n",
       "    </tr>\n",
       "    <tr>\n",
       "      <th>797</th>\n",
       "      <td>OID1797</td>\n",
       "      <td>Barry Singh</td>\n",
       "      <td>2025-04-10</td>\n",
       "      <td>46.0</td>\n",
       "      <td>Pasta</td>\n",
       "      <td>3.0</td>\n",
       "      <td>774.85</td>\n",
       "      <td>UPI</td>\n",
       "      <td>0</td>\n",
       "    </tr>\n",
       "    <tr>\n",
       "      <th>798</th>\n",
       "      <td>OID1798</td>\n",
       "      <td>Matthew Holt</td>\n",
       "      <td>2024-10-28</td>\n",
       "      <td>40.0</td>\n",
       "      <td>Sushi</td>\n",
       "      <td>1.0</td>\n",
       "      <td>162.5</td>\n",
       "      <td>Wallet</td>\n",
       "      <td>0</td>\n",
       "    </tr>\n",
       "  </tbody>\n",
       "</table>\n",
       "<p>701 rows × 9 columns</p>\n",
       "</div>"
      ],
      "text/plain": [
       "    Order_ID    Customer_Name  Order_Date  Delivery_Time_Min Food_Item  \\\n",
       "1    OID1001  Christy Robbins  2025-01-19               38.0     Pizza   \n",
       "2    OID1002      Teresa Bush  2025-04-21               46.0     Pizza   \n",
       "3    OID1003  Richard Stanley  2024-07-19               55.0   Biryani   \n",
       "4    OID1004     Tammie Scott  2025-05-24               37.0     Pasta   \n",
       "5    OID1005     John Swanson  not_a_date               37.0    Burger   \n",
       "..       ...              ...         ...                ...       ...   \n",
       "794  OID1794  Kimberly Keller  2024-11-24               29.0     Sushi   \n",
       "795  OID1795    Brian Bennett  2024-09-03               50.0   Biryani   \n",
       "796  OID1796      Tom Walters  2025-01-06               39.0    Burger   \n",
       "797  OID1797      Barry Singh  2025-04-10               46.0     Pasta   \n",
       "798  OID1798     Matthew Holt  2024-10-28               40.0     Sushi   \n",
       "\n",
       "     Restaurant_Rating   Price Payment_Method  Is_Repeated_Customer  \n",
       "1                  4.0  304.98           Cash                     0  \n",
       "2                  1.0  785.98            UPI                     0  \n",
       "3                  3.0  521.32            UPI                     1  \n",
       "4                  2.0   507.7            UPI                     0  \n",
       "5                  2.0  623.65    Net Banking                     0  \n",
       "..                 ...     ...            ...                   ...  \n",
       "794                4.0  403.67            UPI                     0  \n",
       "795                4.0  736.96    Credit Card                     0  \n",
       "796                4.0  364.12         Wallet                     1  \n",
       "797                3.0  774.85            UPI                     0  \n",
       "798                1.0   162.5         Wallet                     0  \n",
       "\n",
       "[701 rows x 9 columns]"
      ]
     },
     "execution_count": 180,
     "metadata": {},
     "output_type": "execute_result"
    }
   ],
   "source": [
    "df_new = df.loc[(df['Delivery_Time_Min']>min_range) & (df['Delivery_Time_Min']<max_range)] \n",
    "df_new                                                   "
   ]
  },
  {
   "cell_type": "code",
   "execution_count": 181,
   "id": "b715e404",
   "metadata": {},
   "outputs": [
    {
     "name": "stdout",
     "output_type": "stream",
     "text": [
      "Order_ID\n",
      "Customer_Name\n",
      "Order_Date\n",
      "Delivery_Time_Min\n",
      "Food_Item\n",
      "Restaurant_Rating\n",
      "Price\n",
      "Payment_Method\n",
      "Is_Repeated_Customer\n"
     ]
    }
   ],
   "source": [
    "for i in df:\n",
    "    print(i)  # prints the column names of the DataFrame"
   ]
  },
  {
   "cell_type": "code",
   "execution_count": 182,
   "id": "2f762f0e",
   "metadata": {},
   "outputs": [
    {
     "name": "stdout",
     "output_type": "stream",
     "text": [
      "Delivery_Time_Min\n",
      "Restaurant_Rating\n",
      "Is_Repeated_Customer\n"
     ]
    }
   ],
   "source": [
    "for i in df:\n",
    "    if df[i].dtype=='int' or df[i].dtype=='float':\n",
    "        print(i)  # prints the names of columns with numeric data types"
   ]
  },
  {
   "cell_type": "code",
   "execution_count": 183,
   "id": "202bbc04",
   "metadata": {},
   "outputs": [],
   "source": [
    "outlier_ranges = {}"
   ]
  },
  {
   "cell_type": "code",
   "execution_count": 184,
   "id": "f7255128",
   "metadata": {},
   "outputs": [],
   "source": [
    "for i in df:\n",
    "    if df[i].dtype=='int64' or df[i].dtype=='float64':\n",
    "        q1 = df[i].quantile(0.25) \n",
    "        q3 = df[i].quantile(0.75)\n",
    "        iqr = q3 - q1\n",
    "        min_range = q1 - 1.5 * iqr\n",
    "        max_range = q3 + 1.5 * iqr\n",
    "        outlier_ranges[i] = (min_range, max_range)  # stores the min and max range for each numeric column"
   ]
  },
  {
   "cell_type": "code",
   "execution_count": 185,
   "id": "31e0ff23",
   "metadata": {},
   "outputs": [
    {
     "data": {
      "text/plain": [
       "{'Delivery_Time_Min': (np.float64(11.625), np.float64(66.625)),\n",
       " 'Restaurant_Rating': (np.float64(-1.0), np.float64(7.0)),\n",
       " 'Is_Repeated_Customer': (np.float64(-1.5), np.float64(2.5))}"
      ]
     },
     "execution_count": 185,
     "metadata": {},
     "output_type": "execute_result"
    }
   ],
   "source": [
    "outlier_ranges"
   ]
  },
  {
   "cell_type": "code",
   "execution_count": 186,
   "id": "c691612e",
   "metadata": {},
   "outputs": [],
   "source": [
    "df['Price']= df['Price'].astype(float)  # ensure 'Price' is float type before applying outlier removal"
   ]
  },
  {
   "cell_type": "code",
   "execution_count": 187,
   "id": "7d949467",
   "metadata": {},
   "outputs": [
    {
     "data": {
      "image/png": "[encoded data removed]",
      "text/plain": [
       "<Figure size 640x480 with 1 Axes>"
      ]
     },
     "metadata": {},
     "output_type": "display_data"
    }
   ],
   "source": [
    "plt.boxplot(df['Delivery_Time_Min'])\n",
    "plt.title('Boxplot of Delivery_Time_Min')\n",
    "plt.show()"
   ]
  },
  {
   "cell_type": "code",
   "execution_count": 188,
   "id": "3ba28e88",
   "metadata": {},
   "outputs": [
    {
     "data": {
      "image/png": "[encoded data removed]",
      "text/plain": [
       "<Figure size 640x480 with 1 Axes>"
      ]
     },
     "metadata": {},
     "output_type": "display_data"
    },
    {
     "data": {
      "image/png": "[encoded data removed]",
      "text/plain": [
       "<Figure size 640x480 with 1 Axes>"
      ]
     },
     "metadata": {},
     "output_type": "display_data"
    },
    {
     "data": {
      "image/png": "[encoded data removed]",
      "text/plain": [
       "<Figure size 640x480 with 1 Axes>"
      ]
     },
     "metadata": {},
     "output_type": "display_data"
    },
    {
     "data": {
      "image/png": "[encoded data removed]",
      "text/plain": [
       "<Figure size 640x480 with 1 Axes>"
      ]
     },
     "metadata": {},
     "output_type": "display_data"
    }
   ],
   "source": [
    "for i in df:\n",
    "    if df[i].dtype in ('int64', 'float64'):\n",
    "        plt.boxplot(df[i])\n",
    "        plt.title(f'Boxplot of {i}')\n",
    "        plt.show()"
   ]
  },
  {
   "cell_type": "code",
   "execution_count": 189,
   "id": "7bf1560c",
   "metadata": {},
   "outputs": [],
   "source": [
    "outlier_columns = ['Delivery_Time_Min']  # Only include columns present in outlier_ranges\n",
    "for i in outlier_columns:\n",
    "    mn, mx = outlier_ranges[i]  # retrieve the min and max range for each column\n",
    "    df = df.loc[(df[i] > mn) & (df[i] < mx)]  # filter out outliers based on the defined ranges"
   ]
  },
  {
   "cell_type": "code",
   "execution_count": 190,
   "id": "a81630a4",
   "metadata": {},
   "outputs": [
    {
     "name": "stderr",
     "output_type": "stream",
     "text": [
      "C:\\Users\\ajayk\\AppData\\Local\\Temp\\ipykernel_19196\\2422228719.py:1: SettingWithCopyWarning: \n",
      "A value is trying to be set on a copy of a slice from a DataFrame.\n",
      "Try using .loc[row_indexer,col_indexer] = value instead\n",
      "\n",
      "See the caveats in the documentation: https://pandas.pydata.org/pandas-docs/stable/user_guide/indexing.html#returning-a-view-versus-a-copy\n",
      "  df['Order_Date'] = pd.to_datetime(df['Order_Date'], format='%Y-%m-%d', errors='coerce')  # converts 'Order_Date' to datetime format, invalid parsing will be set as NaT\n"
     ]
    }
   ],
   "source": [
    "df['Order_Date'] = pd.to_datetime(df['Order_Date'], format='%Y-%m-%d', errors='coerce')  # converts 'Order_Date' to datetime format, invalid parsing will be set as NaT"
   ]
  },
  {
   "cell_type": "code",
   "execution_count": 191,
   "id": "7645d5af",
   "metadata": {},
   "outputs": [
    {
     "name": "stderr",
     "output_type": "stream",
     "text": [
      "C:\\Users\\ajayk\\AppData\\Local\\Temp\\ipykernel_19196\\2082088071.py:1: SettingWithCopyWarning: \n",
      "A value is trying to be set on a copy of a slice from a DataFrame\n",
      "\n",
      "See the caveats in the documentation: https://pandas.pydata.org/pandas-docs/stable/user_guide/indexing.html#returning-a-view-versus-a-copy\n",
      "  df.drop(index=[5], inplace=True)  # drops the row with index 5\n"
     ]
    }
   ],
   "source": [
    "df.drop(index=[5], inplace=True)  # drops the row with index 5"
   ]
  },
  {
   "cell_type": "code",
   "execution_count": 192,
   "id": "e9aeac68",
   "metadata": {},
   "outputs": [
    {
     "name": "stderr",
     "output_type": "stream",
     "text": [
      "C:\\Users\\ajayk\\AppData\\Local\\Temp\\ipykernel_19196\\1635205940.py:1: SettingWithCopyWarning: \n",
      "A value is trying to be set on a copy of a slice from a DataFrame.\n",
      "Try using .loc[row_indexer,col_indexer] = value instead\n",
      "\n",
      "See the caveats in the documentation: https://pandas.pydata.org/pandas-docs/stable/user_guide/indexing.html#returning-a-view-versus-a-copy\n",
      "  df['Order_Date'] = pd.to_datetime(df['Order_Date'], format='%Y-%m-%d')\n"
     ]
    }
   ],
   "source": [
    "df['Order_Date'] = pd.to_datetime(df['Order_Date'], format='%Y-%m-%d') "
   ]
  },
  {
   "cell_type": "code",
   "execution_count": 193,
   "id": "2ebcda04",
   "metadata": {},
   "outputs": [
    {
     "data": {
      "text/html": [
       "<div>\n",
       "<style scoped>\n",
       "    .dataframe tbody tr th:only-of-type {\n",
       "        vertical-align: middle;\n",
       "    }\n",
       "\n",
       "    .dataframe tbody tr th {\n",
       "        vertical-align: top;\n",
       "    }\n",
       "\n",
       "    .dataframe thead th {\n",
       "        text-align: right;\n",
       "    }\n",
       "</style>\n",
       "<table border=\"1\" class=\"dataframe\">\n",
       "  <thead>\n",
       "    <tr style=\"text-align: right;\">\n",
       "      <th></th>\n",
       "      <th>Order_ID</th>\n",
       "      <th>Customer_Name</th>\n",
       "      <th>Order_Date</th>\n",
       "      <th>Delivery_Time_Min</th>\n",
       "      <th>Food_Item</th>\n",
       "      <th>Restaurant_Rating</th>\n",
       "      <th>Price</th>\n",
       "      <th>Payment_Method</th>\n",
       "      <th>Is_Repeated_Customer</th>\n",
       "    </tr>\n",
       "  </thead>\n",
       "  <tbody>\n",
       "    <tr>\n",
       "      <th>1</th>\n",
       "      <td>OID1001</td>\n",
       "      <td>Christy Robbins</td>\n",
       "      <td>2025-01-19</td>\n",
       "      <td>38.0</td>\n",
       "      <td>Pizza</td>\n",
       "      <td>4.0</td>\n",
       "      <td>304.98</td>\n",
       "      <td>Cash</td>\n",
       "      <td>0</td>\n",
       "    </tr>\n",
       "    <tr>\n",
       "      <th>2</th>\n",
       "      <td>OID1002</td>\n",
       "      <td>Teresa Bush</td>\n",
       "      <td>2025-04-21</td>\n",
       "      <td>46.0</td>\n",
       "      <td>Pizza</td>\n",
       "      <td>1.0</td>\n",
       "      <td>785.98</td>\n",
       "      <td>UPI</td>\n",
       "      <td>0</td>\n",
       "    </tr>\n",
       "    <tr>\n",
       "      <th>3</th>\n",
       "      <td>OID1003</td>\n",
       "      <td>Richard Stanley</td>\n",
       "      <td>2024-07-19</td>\n",
       "      <td>55.0</td>\n",
       "      <td>Biryani</td>\n",
       "      <td>3.0</td>\n",
       "      <td>521.32</td>\n",
       "      <td>UPI</td>\n",
       "      <td>1</td>\n",
       "    </tr>\n",
       "    <tr>\n",
       "      <th>4</th>\n",
       "      <td>OID1004</td>\n",
       "      <td>Tammie Scott</td>\n",
       "      <td>2025-05-24</td>\n",
       "      <td>37.0</td>\n",
       "      <td>Pasta</td>\n",
       "      <td>2.0</td>\n",
       "      <td>507.70</td>\n",
       "      <td>UPI</td>\n",
       "      <td>0</td>\n",
       "    </tr>\n",
       "    <tr>\n",
       "      <th>6</th>\n",
       "      <td>OID1006</td>\n",
       "      <td>Eric Mcintyre</td>\n",
       "      <td>2024-12-24</td>\n",
       "      <td>55.0</td>\n",
       "      <td>Burger</td>\n",
       "      <td>1.0</td>\n",
       "      <td>800.00</td>\n",
       "      <td>Credit Card</td>\n",
       "      <td>1</td>\n",
       "    </tr>\n",
       "    <tr>\n",
       "      <th>...</th>\n",
       "      <td>...</td>\n",
       "      <td>...</td>\n",
       "      <td>...</td>\n",
       "      <td>...</td>\n",
       "      <td>...</td>\n",
       "      <td>...</td>\n",
       "      <td>...</td>\n",
       "      <td>...</td>\n",
       "      <td>...</td>\n",
       "    </tr>\n",
       "    <tr>\n",
       "      <th>794</th>\n",
       "      <td>OID1794</td>\n",
       "      <td>Kimberly Keller</td>\n",
       "      <td>2024-11-24</td>\n",
       "      <td>29.0</td>\n",
       "      <td>Sushi</td>\n",
       "      <td>4.0</td>\n",
       "      <td>403.67</td>\n",
       "      <td>UPI</td>\n",
       "      <td>0</td>\n",
       "    </tr>\n",
       "    <tr>\n",
       "      <th>795</th>\n",
       "      <td>OID1795</td>\n",
       "      <td>Brian Bennett</td>\n",
       "      <td>2024-09-03</td>\n",
       "      <td>50.0</td>\n",
       "      <td>Biryani</td>\n",
       "      <td>4.0</td>\n",
       "      <td>736.96</td>\n",
       "      <td>Credit Card</td>\n",
       "      <td>0</td>\n",
       "    </tr>\n",
       "    <tr>\n",
       "      <th>796</th>\n",
       "      <td>OID1796</td>\n",
       "      <td>Tom Walters</td>\n",
       "      <td>2025-01-06</td>\n",
       "      <td>39.0</td>\n",
       "      <td>Burger</td>\n",
       "      <td>4.0</td>\n",
       "      <td>364.12</td>\n",
       "      <td>Wallet</td>\n",
       "      <td>1</td>\n",
       "    </tr>\n",
       "    <tr>\n",
       "      <th>797</th>\n",
       "      <td>OID1797</td>\n",
       "      <td>Barry Singh</td>\n",
       "      <td>2025-04-10</td>\n",
       "      <td>46.0</td>\n",
       "      <td>Pasta</td>\n",
       "      <td>3.0</td>\n",
       "      <td>774.85</td>\n",
       "      <td>UPI</td>\n",
       "      <td>0</td>\n",
       "    </tr>\n",
       "    <tr>\n",
       "      <th>798</th>\n",
       "      <td>OID1798</td>\n",
       "      <td>Matthew Holt</td>\n",
       "      <td>2024-10-28</td>\n",
       "      <td>40.0</td>\n",
       "      <td>Sushi</td>\n",
       "      <td>1.0</td>\n",
       "      <td>162.50</td>\n",
       "      <td>Wallet</td>\n",
       "      <td>0</td>\n",
       "    </tr>\n",
       "  </tbody>\n",
       "</table>\n",
       "<p>700 rows × 9 columns</p>\n",
       "</div>"
      ],
      "text/plain": [
       "    Order_ID    Customer_Name Order_Date  Delivery_Time_Min Food_Item  \\\n",
       "1    OID1001  Christy Robbins 2025-01-19               38.0     Pizza   \n",
       "2    OID1002      Teresa Bush 2025-04-21               46.0     Pizza   \n",
       "3    OID1003  Richard Stanley 2024-07-19               55.0   Biryani   \n",
       "4    OID1004     Tammie Scott 2025-05-24               37.0     Pasta   \n",
       "6    OID1006    Eric Mcintyre 2024-12-24               55.0    Burger   \n",
       "..       ...              ...        ...                ...       ...   \n",
       "794  OID1794  Kimberly Keller 2024-11-24               29.0     Sushi   \n",
       "795  OID1795    Brian Bennett 2024-09-03               50.0   Biryani   \n",
       "796  OID1796      Tom Walters 2025-01-06               39.0    Burger   \n",
       "797  OID1797      Barry Singh 2025-04-10               46.0     Pasta   \n",
       "798  OID1798     Matthew Holt 2024-10-28               40.0     Sushi   \n",
       "\n",
       "     Restaurant_Rating   Price Payment_Method  Is_Repeated_Customer  \n",
       "1                  4.0  304.98           Cash                     0  \n",
       "2                  1.0  785.98            UPI                     0  \n",
       "3                  3.0  521.32            UPI                     1  \n",
       "4                  2.0  507.70            UPI                     0  \n",
       "6                  1.0  800.00    Credit Card                     1  \n",
       "..                 ...     ...            ...                   ...  \n",
       "794                4.0  403.67            UPI                     0  \n",
       "795                4.0  736.96    Credit Card                     0  \n",
       "796                4.0  364.12         Wallet                     1  \n",
       "797                3.0  774.85            UPI                     0  \n",
       "798                1.0  162.50         Wallet                     0  \n",
       "\n",
       "[700 rows x 9 columns]"
      ]
     },
     "execution_count": 193,
     "metadata": {},
     "output_type": "execute_result"
    }
   ],
   "source": [
    "df"
   ]
  },
  {
   "cell_type": "code",
   "execution_count": 194,
   "id": "97f2a50c",
   "metadata": {},
   "outputs": [],
   "source": [
    "df.reset_index(drop=True, inplace=True)  # reset the index after filtering out outliers"
   ]
  },
  {
   "cell_type": "code",
   "execution_count": 195,
   "id": "6b775d8b",
   "metadata": {},
   "outputs": [
    {
     "data": {
      "text/html": [
       "<div>\n",
       "<style scoped>\n",
       "    .dataframe tbody tr th:only-of-type {\n",
       "        vertical-align: middle;\n",
       "    }\n",
       "\n",
       "    .dataframe tbody tr th {\n",
       "        vertical-align: top;\n",
       "    }\n",
       "\n",
       "    .dataframe thead th {\n",
       "        text-align: right;\n",
       "    }\n",
       "</style>\n",
       "<table border=\"1\" class=\"dataframe\">\n",
       "  <thead>\n",
       "    <tr style=\"text-align: right;\">\n",
       "      <th></th>\n",
       "      <th>Order_ID</th>\n",
       "      <th>Customer_Name</th>\n",
       "      <th>Order_Date</th>\n",
       "      <th>Delivery_Time_Min</th>\n",
       "      <th>Food_Item</th>\n",
       "      <th>Restaurant_Rating</th>\n",
       "      <th>Price</th>\n",
       "      <th>Payment_Method</th>\n",
       "      <th>Is_Repeated_Customer</th>\n",
       "    </tr>\n",
       "  </thead>\n",
       "  <tbody>\n",
       "    <tr>\n",
       "      <th>0</th>\n",
       "      <td>OID1001</td>\n",
       "      <td>Christy Robbins</td>\n",
       "      <td>2025-01-19</td>\n",
       "      <td>38.0</td>\n",
       "      <td>Pizza</td>\n",
       "      <td>4.0</td>\n",
       "      <td>304.98</td>\n",
       "      <td>Cash</td>\n",
       "      <td>0</td>\n",
       "    </tr>\n",
       "    <tr>\n",
       "      <th>1</th>\n",
       "      <td>OID1002</td>\n",
       "      <td>Teresa Bush</td>\n",
       "      <td>2025-04-21</td>\n",
       "      <td>46.0</td>\n",
       "      <td>Pizza</td>\n",
       "      <td>1.0</td>\n",
       "      <td>785.98</td>\n",
       "      <td>UPI</td>\n",
       "      <td>0</td>\n",
       "    </tr>\n",
       "    <tr>\n",
       "      <th>2</th>\n",
       "      <td>OID1003</td>\n",
       "      <td>Richard Stanley</td>\n",
       "      <td>2024-07-19</td>\n",
       "      <td>55.0</td>\n",
       "      <td>Biryani</td>\n",
       "      <td>3.0</td>\n",
       "      <td>521.32</td>\n",
       "      <td>UPI</td>\n",
       "      <td>1</td>\n",
       "    </tr>\n",
       "    <tr>\n",
       "      <th>3</th>\n",
       "      <td>OID1004</td>\n",
       "      <td>Tammie Scott</td>\n",
       "      <td>2025-05-24</td>\n",
       "      <td>37.0</td>\n",
       "      <td>Pasta</td>\n",
       "      <td>2.0</td>\n",
       "      <td>507.70</td>\n",
       "      <td>UPI</td>\n",
       "      <td>0</td>\n",
       "    </tr>\n",
       "    <tr>\n",
       "      <th>4</th>\n",
       "      <td>OID1006</td>\n",
       "      <td>Eric Mcintyre</td>\n",
       "      <td>2024-12-24</td>\n",
       "      <td>55.0</td>\n",
       "      <td>Burger</td>\n",
       "      <td>1.0</td>\n",
       "      <td>800.00</td>\n",
       "      <td>Credit Card</td>\n",
       "      <td>1</td>\n",
       "    </tr>\n",
       "    <tr>\n",
       "      <th>...</th>\n",
       "      <td>...</td>\n",
       "      <td>...</td>\n",
       "      <td>...</td>\n",
       "      <td>...</td>\n",
       "      <td>...</td>\n",
       "      <td>...</td>\n",
       "      <td>...</td>\n",
       "      <td>...</td>\n",
       "      <td>...</td>\n",
       "    </tr>\n",
       "    <tr>\n",
       "      <th>695</th>\n",
       "      <td>OID1794</td>\n",
       "      <td>Kimberly Keller</td>\n",
       "      <td>2024-11-24</td>\n",
       "      <td>29.0</td>\n",
       "      <td>Sushi</td>\n",
       "      <td>4.0</td>\n",
       "      <td>403.67</td>\n",
       "      <td>UPI</td>\n",
       "      <td>0</td>\n",
       "    </tr>\n",
       "    <tr>\n",
       "      <th>696</th>\n",
       "      <td>OID1795</td>\n",
       "      <td>Brian Bennett</td>\n",
       "      <td>2024-09-03</td>\n",
       "      <td>50.0</td>\n",
       "      <td>Biryani</td>\n",
       "      <td>4.0</td>\n",
       "      <td>736.96</td>\n",
       "      <td>Credit Card</td>\n",
       "      <td>0</td>\n",
       "    </tr>\n",
       "    <tr>\n",
       "      <th>697</th>\n",
       "      <td>OID1796</td>\n",
       "      <td>Tom Walters</td>\n",
       "      <td>2025-01-06</td>\n",
       "      <td>39.0</td>\n",
       "      <td>Burger</td>\n",
       "      <td>4.0</td>\n",
       "      <td>364.12</td>\n",
       "      <td>Wallet</td>\n",
       "      <td>1</td>\n",
       "    </tr>\n",
       "    <tr>\n",
       "      <th>698</th>\n",
       "      <td>OID1797</td>\n",
       "      <td>Barry Singh</td>\n",
       "      <td>2025-04-10</td>\n",
       "      <td>46.0</td>\n",
       "      <td>Pasta</td>\n",
       "      <td>3.0</td>\n",
       "      <td>774.85</td>\n",
       "      <td>UPI</td>\n",
       "      <td>0</td>\n",
       "    </tr>\n",
       "    <tr>\n",
       "      <th>699</th>\n",
       "      <td>OID1798</td>\n",
       "      <td>Matthew Holt</td>\n",
       "      <td>2024-10-28</td>\n",
       "      <td>40.0</td>\n",
       "      <td>Sushi</td>\n",
       "      <td>1.0</td>\n",
       "      <td>162.50</td>\n",
       "      <td>Wallet</td>\n",
       "      <td>0</td>\n",
       "    </tr>\n",
       "  </tbody>\n",
       "</table>\n",
       "<p>700 rows × 9 columns</p>\n",
       "</div>"
      ],
      "text/plain": [
       "    Order_ID    Customer_Name Order_Date  Delivery_Time_Min Food_Item  \\\n",
       "0    OID1001  Christy Robbins 2025-01-19               38.0     Pizza   \n",
       "1    OID1002      Teresa Bush 2025-04-21               46.0     Pizza   \n",
       "2    OID1003  Richard Stanley 2024-07-19               55.0   Biryani   \n",
       "3    OID1004     Tammie Scott 2025-05-24               37.0     Pasta   \n",
       "4    OID1006    Eric Mcintyre 2024-12-24               55.0    Burger   \n",
       "..       ...              ...        ...                ...       ...   \n",
       "695  OID1794  Kimberly Keller 2024-11-24               29.0     Sushi   \n",
       "696  OID1795    Brian Bennett 2024-09-03               50.0   Biryani   \n",
       "697  OID1796      Tom Walters 2025-01-06               39.0    Burger   \n",
       "698  OID1797      Barry Singh 2025-04-10               46.0     Pasta   \n",
       "699  OID1798     Matthew Holt 2024-10-28               40.0     Sushi   \n",
       "\n",
       "     Restaurant_Rating   Price Payment_Method  Is_Repeated_Customer  \n",
       "0                  4.0  304.98           Cash                     0  \n",
       "1                  1.0  785.98            UPI                     0  \n",
       "2                  3.0  521.32            UPI                     1  \n",
       "3                  2.0  507.70            UPI                     0  \n",
       "4                  1.0  800.00    Credit Card                     1  \n",
       "..                 ...     ...            ...                   ...  \n",
       "695                4.0  403.67            UPI                     0  \n",
       "696                4.0  736.96    Credit Card                     0  \n",
       "697                4.0  364.12         Wallet                     1  \n",
       "698                3.0  774.85            UPI                     0  \n",
       "699                1.0  162.50         Wallet                     0  \n",
       "\n",
       "[700 rows x 9 columns]"
      ]
     },
     "execution_count": 195,
     "metadata": {},
     "output_type": "execute_result"
    }
   ],
   "source": [
    "df"
   ]
  },
  {
   "cell_type": "code",
   "execution_count": 196,
   "id": "e8fa5ff7",
   "metadata": {},
   "outputs": [
    {
     "data": {
      "text/plain": [
       "Order_ID                        object\n",
       "Customer_Name                   object\n",
       "Order_Date              datetime64[ns]\n",
       "Delivery_Time_Min              float64\n",
       "Food_Item                       object\n",
       "Restaurant_Rating              float64\n",
       "Price                          float64\n",
       "Payment_Method                  object\n",
       "Is_Repeated_Customer             int64\n",
       "dtype: object"
      ]
     },
     "execution_count": 196,
     "metadata": {},
     "output_type": "execute_result"
    }
   ],
   "source": [
    "df.dtypes"
   ]
  },
  {
   "cell_type": "code",
   "execution_count": 197,
   "id": "7ec7d8c4",
   "metadata": {},
   "outputs": [
    {
     "data": {
      "text/plain": [
       "0       1\n",
       "1       4\n",
       "2       7\n",
       "3       5\n",
       "4      12\n",
       "       ..\n",
       "695    11\n",
       "696     9\n",
       "697     1\n",
       "698     4\n",
       "699    10\n",
       "Name: Order_Date, Length: 700, dtype: int32"
      ]
     },
     "execution_count": 197,
     "metadata": {},
     "output_type": "execute_result"
    }
   ],
   "source": [
    "# day\n",
    "# day_name()\n",
    "# month\n",
    "# month_name()\n",
    "# year\n",
    "df['Order_Date'].dt.day  # extracts the day from 'Order_Date'\n",
    "df['Order_Date'].dt.day_name()  # extracts the day name from 'Order_Date'\n",
    "df['Order_Date'].dt.month  # extracts the month from 'Order_Date'   "
   ]
  },
  {
   "cell_type": "code",
   "execution_count": 198,
   "id": "73732676",
   "metadata": {},
   "outputs": [
    {
     "name": "stderr",
     "output_type": "stream",
     "text": [
      "C:\\Users\\ajayk\\AppData\\Local\\Temp\\ipykernel_19196\\4106486585.py:1: SettingWithCopyWarning: \n",
      "A value is trying to be set on a copy of a slice from a DataFrame.\n",
      "Try using .loc[row_indexer,col_indexer] = value instead\n",
      "\n",
      "See the caveats in the documentation: https://pandas.pydata.org/pandas-docs/stable/user_guide/indexing.html#returning-a-view-versus-a-copy\n",
      "  df['monthname'] = df['Order_Date'].dt.month_name()  # creates a new column with the month name\n"
     ]
    },
    {
     "data": {
      "text/html": [
       "<div>\n",
       "<style scoped>\n",
       "    .dataframe tbody tr th:only-of-type {\n",
       "        vertical-align: middle;\n",
       "    }\n",
       "\n",
       "    .dataframe tbody tr th {\n",
       "        vertical-align: top;\n",
       "    }\n",
       "\n",
       "    .dataframe thead th {\n",
       "        text-align: right;\n",
       "    }\n",
       "</style>\n",
       "<table border=\"1\" class=\"dataframe\">\n",
       "  <thead>\n",
       "    <tr style=\"text-align: right;\">\n",
       "      <th></th>\n",
       "      <th>Order_ID</th>\n",
       "      <th>Customer_Name</th>\n",
       "      <th>Order_Date</th>\n",
       "      <th>Delivery_Time_Min</th>\n",
       "      <th>Food_Item</th>\n",
       "      <th>Restaurant_Rating</th>\n",
       "      <th>Price</th>\n",
       "      <th>Payment_Method</th>\n",
       "      <th>Is_Repeated_Customer</th>\n",
       "      <th>monthname</th>\n",
       "    </tr>\n",
       "  </thead>\n",
       "  <tbody>\n",
       "    <tr>\n",
       "      <th>0</th>\n",
       "      <td>OID1001</td>\n",
       "      <td>Christy Robbins</td>\n",
       "      <td>2025-01-19</td>\n",
       "      <td>38.0</td>\n",
       "      <td>Pizza</td>\n",
       "      <td>4.0</td>\n",
       "      <td>304.98</td>\n",
       "      <td>Cash</td>\n",
       "      <td>0</td>\n",
       "      <td>January</td>\n",
       "    </tr>\n",
       "    <tr>\n",
       "      <th>1</th>\n",
       "      <td>OID1002</td>\n",
       "      <td>Teresa Bush</td>\n",
       "      <td>2025-04-21</td>\n",
       "      <td>46.0</td>\n",
       "      <td>Pizza</td>\n",
       "      <td>1.0</td>\n",
       "      <td>785.98</td>\n",
       "      <td>UPI</td>\n",
       "      <td>0</td>\n",
       "      <td>April</td>\n",
       "    </tr>\n",
       "    <tr>\n",
       "      <th>2</th>\n",
       "      <td>OID1003</td>\n",
       "      <td>Richard Stanley</td>\n",
       "      <td>2024-07-19</td>\n",
       "      <td>55.0</td>\n",
       "      <td>Biryani</td>\n",
       "      <td>3.0</td>\n",
       "      <td>521.32</td>\n",
       "      <td>UPI</td>\n",
       "      <td>1</td>\n",
       "      <td>July</td>\n",
       "    </tr>\n",
       "    <tr>\n",
       "      <th>3</th>\n",
       "      <td>OID1004</td>\n",
       "      <td>Tammie Scott</td>\n",
       "      <td>2025-05-24</td>\n",
       "      <td>37.0</td>\n",
       "      <td>Pasta</td>\n",
       "      <td>2.0</td>\n",
       "      <td>507.70</td>\n",
       "      <td>UPI</td>\n",
       "      <td>0</td>\n",
       "      <td>May</td>\n",
       "    </tr>\n",
       "    <tr>\n",
       "      <th>4</th>\n",
       "      <td>OID1006</td>\n",
       "      <td>Eric Mcintyre</td>\n",
       "      <td>2024-12-24</td>\n",
       "      <td>55.0</td>\n",
       "      <td>Burger</td>\n",
       "      <td>1.0</td>\n",
       "      <td>800.00</td>\n",
       "      <td>Credit Card</td>\n",
       "      <td>1</td>\n",
       "      <td>December</td>\n",
       "    </tr>\n",
       "    <tr>\n",
       "      <th>...</th>\n",
       "      <td>...</td>\n",
       "      <td>...</td>\n",
       "      <td>...</td>\n",
       "      <td>...</td>\n",
       "      <td>...</td>\n",
       "      <td>...</td>\n",
       "      <td>...</td>\n",
       "      <td>...</td>\n",
       "      <td>...</td>\n",
       "      <td>...</td>\n",
       "    </tr>\n",
       "    <tr>\n",
       "      <th>695</th>\n",
       "      <td>OID1794</td>\n",
       "      <td>Kimberly Keller</td>\n",
       "      <td>2024-11-24</td>\n",
       "      <td>29.0</td>\n",
       "      <td>Sushi</td>\n",
       "      <td>4.0</td>\n",
       "      <td>403.67</td>\n",
       "      <td>UPI</td>\n",
       "      <td>0</td>\n",
       "      <td>November</td>\n",
       "    </tr>\n",
       "    <tr>\n",
       "      <th>696</th>\n",
       "      <td>OID1795</td>\n",
       "      <td>Brian Bennett</td>\n",
       "      <td>2024-09-03</td>\n",
       "      <td>50.0</td>\n",
       "      <td>Biryani</td>\n",
       "      <td>4.0</td>\n",
       "      <td>736.96</td>\n",
       "      <td>Credit Card</td>\n",
       "      <td>0</td>\n",
       "      <td>September</td>\n",
       "    </tr>\n",
       "    <tr>\n",
       "      <th>697</th>\n",
       "      <td>OID1796</td>\n",
       "      <td>Tom Walters</td>\n",
       "      <td>2025-01-06</td>\n",
       "      <td>39.0</td>\n",
       "      <td>Burger</td>\n",
       "      <td>4.0</td>\n",
       "      <td>364.12</td>\n",
       "      <td>Wallet</td>\n",
       "      <td>1</td>\n",
       "      <td>January</td>\n",
       "    </tr>\n",
       "    <tr>\n",
       "      <th>698</th>\n",
       "      <td>OID1797</td>\n",
       "      <td>Barry Singh</td>\n",
       "      <td>2025-04-10</td>\n",
       "      <td>46.0</td>\n",
       "      <td>Pasta</td>\n",
       "      <td>3.0</td>\n",
       "      <td>774.85</td>\n",
       "      <td>UPI</td>\n",
       "      <td>0</td>\n",
       "      <td>April</td>\n",
       "    </tr>\n",
       "    <tr>\n",
       "      <th>699</th>\n",
       "      <td>OID1798</td>\n",
       "      <td>Matthew Holt</td>\n",
       "      <td>2024-10-28</td>\n",
       "      <td>40.0</td>\n",
       "      <td>Sushi</td>\n",
       "      <td>1.0</td>\n",
       "      <td>162.50</td>\n",
       "      <td>Wallet</td>\n",
       "      <td>0</td>\n",
       "      <td>October</td>\n",
       "    </tr>\n",
       "  </tbody>\n",
       "</table>\n",
       "<p>700 rows × 10 columns</p>\n",
       "</div>"
      ],
      "text/plain": [
       "    Order_ID    Customer_Name Order_Date  Delivery_Time_Min Food_Item  \\\n",
       "0    OID1001  Christy Robbins 2025-01-19               38.0     Pizza   \n",
       "1    OID1002      Teresa Bush 2025-04-21               46.0     Pizza   \n",
       "2    OID1003  Richard Stanley 2024-07-19               55.0   Biryani   \n",
       "3    OID1004     Tammie Scott 2025-05-24               37.0     Pasta   \n",
       "4    OID1006    Eric Mcintyre 2024-12-24               55.0    Burger   \n",
       "..       ...              ...        ...                ...       ...   \n",
       "695  OID1794  Kimberly Keller 2024-11-24               29.0     Sushi   \n",
       "696  OID1795    Brian Bennett 2024-09-03               50.0   Biryani   \n",
       "697  OID1796      Tom Walters 2025-01-06               39.0    Burger   \n",
       "698  OID1797      Barry Singh 2025-04-10               46.0     Pasta   \n",
       "699  OID1798     Matthew Holt 2024-10-28               40.0     Sushi   \n",
       "\n",
       "     Restaurant_Rating   Price Payment_Method  Is_Repeated_Customer  monthname  \n",
       "0                  4.0  304.98           Cash                     0    January  \n",
       "1                  1.0  785.98            UPI                     0      April  \n",
       "2                  3.0  521.32            UPI                     1       July  \n",
       "3                  2.0  507.70            UPI                     0        May  \n",
       "4                  1.0  800.00    Credit Card                     1   December  \n",
       "..                 ...     ...            ...                   ...        ...  \n",
       "695                4.0  403.67            UPI                     0   November  \n",
       "696                4.0  736.96    Credit Card                     0  September  \n",
       "697                4.0  364.12         Wallet                     1    January  \n",
       "698                3.0  774.85            UPI                     0      April  \n",
       "699                1.0  162.50         Wallet                     0    October  \n",
       "\n",
       "[700 rows x 10 columns]"
      ]
     },
     "execution_count": 198,
     "metadata": {},
     "output_type": "execute_result"
    }
   ],
   "source": [
    "df['monthname'] = df['Order_Date'].dt.month_name()  # creates a new column with the month name\n",
    "df"
   ]
  },
  {
   "cell_type": "code",
   "execution_count": 199,
   "id": "46782638",
   "metadata": {},
   "outputs": [
    {
     "data": {
      "text/plain": [
       "array(['January', 'April', 'July', 'May', 'December', 'February', 'March',\n",
       "       'September', 'October', 'November', 'June', 'August'], dtype=object)"
      ]
     },
     "execution_count": 199,
     "metadata": {},
     "output_type": "execute_result"
    }
   ],
   "source": [
    "df['monthname'].unique()  # shows unique month names in the 'monthname' column"
   ]
  },
  {
   "cell_type": "code",
   "execution_count": 200,
   "id": "f83f6d85",
   "metadata": {},
   "outputs": [
    {
     "data": {
      "text/plain": [
       "array([2025, 2024], dtype=int32)"
      ]
     },
     "execution_count": 200,
     "metadata": {},
     "output_type": "execute_result"
    }
   ],
   "source": [
    "df['Order_Date'].dt.year.unique()  # shows unique years in the 'Order_Date' column"
   ]
  },
  {
   "cell_type": "code",
   "execution_count": 201,
   "id": "236462ed",
   "metadata": {},
   "outputs": [
    {
     "data": {
      "text/plain": [
       "0        January\n",
       "1          April\n",
       "2           July\n",
       "3            May\n",
       "4       December\n",
       "         ...    \n",
       "695     November\n",
       "696    September\n",
       "697      January\n",
       "698        April\n",
       "699      October\n",
       "Name: Order_Date, Length: 700, dtype: object"
      ]
     },
     "execution_count": 201,
     "metadata": {},
     "output_type": "execute_result"
    }
   ],
   "source": [
    "df['Order_Date'].dt.month_name()  # extracts the month name from 'Order_Date'"
   ]
  },
  {
   "cell_type": "code",
   "execution_count": 202,
   "id": "a10a2892",
   "metadata": {},
   "outputs": [],
   "source": [
    "df.insert(loc=3, column='DayName', value=df['Order_Date'].dt.day_name())  # inserts a new column 'DayName' at index 1 with the day names"
   ]
  },
  {
   "cell_type": "code",
   "execution_count": 203,
   "id": "dd751721",
   "metadata": {},
   "outputs": [],
   "source": [
    "df.insert(loc=4, column='Year', value=df['Order_Date'].dt.year)"
   ]
  },
  {
   "cell_type": "code",
   "execution_count": 204,
   "id": "f920417f",
   "metadata": {},
   "outputs": [],
   "source": [
    "col = df.pop('monthname')  # removes 'monthname' column and stores it in 'col'\n",
    "\n",
    "df.insert(4, 'monthname', col)\n"
   ]
  },
  {
   "cell_type": "code",
   "execution_count": 205,
   "id": "339bb724",
   "metadata": {},
   "outputs": [
    {
     "data": {
      "text/html": [
       "<div>\n",
       "<style scoped>\n",
       "    .dataframe tbody tr th:only-of-type {\n",
       "        vertical-align: middle;\n",
       "    }\n",
       "\n",
       "    .dataframe tbody tr th {\n",
       "        vertical-align: top;\n",
       "    }\n",
       "\n",
       "    .dataframe thead th {\n",
       "        text-align: right;\n",
       "    }\n",
       "</style>\n",
       "<table border=\"1\" class=\"dataframe\">\n",
       "  <thead>\n",
       "    <tr style=\"text-align: right;\">\n",
       "      <th></th>\n",
       "      <th>Order_ID</th>\n",
       "      <th>Customer_Name</th>\n",
       "      <th>Order_Date</th>\n",
       "      <th>DayName</th>\n",
       "      <th>monthname</th>\n",
       "      <th>Year</th>\n",
       "      <th>Delivery_Time_Min</th>\n",
       "      <th>Food_Item</th>\n",
       "      <th>Restaurant_Rating</th>\n",
       "      <th>Price</th>\n",
       "      <th>Payment_Method</th>\n",
       "      <th>Is_Repeated_Customer</th>\n",
       "    </tr>\n",
       "  </thead>\n",
       "  <tbody>\n",
       "    <tr>\n",
       "      <th>0</th>\n",
       "      <td>OID1001</td>\n",
       "      <td>Christy Robbins</td>\n",
       "      <td>2025-01-19</td>\n",
       "      <td>Sunday</td>\n",
       "      <td>January</td>\n",
       "      <td>2025</td>\n",
       "      <td>38.0</td>\n",
       "      <td>Pizza</td>\n",
       "      <td>4.0</td>\n",
       "      <td>304.98</td>\n",
       "      <td>Cash</td>\n",
       "      <td>0</td>\n",
       "    </tr>\n",
       "    <tr>\n",
       "      <th>1</th>\n",
       "      <td>OID1002</td>\n",
       "      <td>Teresa Bush</td>\n",
       "      <td>2025-04-21</td>\n",
       "      <td>Monday</td>\n",
       "      <td>April</td>\n",
       "      <td>2025</td>\n",
       "      <td>46.0</td>\n",
       "      <td>Pizza</td>\n",
       "      <td>1.0</td>\n",
       "      <td>785.98</td>\n",
       "      <td>UPI</td>\n",
       "      <td>0</td>\n",
       "    </tr>\n",
       "    <tr>\n",
       "      <th>2</th>\n",
       "      <td>OID1003</td>\n",
       "      <td>Richard Stanley</td>\n",
       "      <td>2024-07-19</td>\n",
       "      <td>Friday</td>\n",
       "      <td>July</td>\n",
       "      <td>2024</td>\n",
       "      <td>55.0</td>\n",
       "      <td>Biryani</td>\n",
       "      <td>3.0</td>\n",
       "      <td>521.32</td>\n",
       "      <td>UPI</td>\n",
       "      <td>1</td>\n",
       "    </tr>\n",
       "    <tr>\n",
       "      <th>3</th>\n",
       "      <td>OID1004</td>\n",
       "      <td>Tammie Scott</td>\n",
       "      <td>2025-05-24</td>\n",
       "      <td>Saturday</td>\n",
       "      <td>May</td>\n",
       "      <td>2025</td>\n",
       "      <td>37.0</td>\n",
       "      <td>Pasta</td>\n",
       "      <td>2.0</td>\n",
       "      <td>507.70</td>\n",
       "      <td>UPI</td>\n",
       "      <td>0</td>\n",
       "    </tr>\n",
       "    <tr>\n",
       "      <th>4</th>\n",
       "      <td>OID1006</td>\n",
       "      <td>Eric Mcintyre</td>\n",
       "      <td>2024-12-24</td>\n",
       "      <td>Tuesday</td>\n",
       "      <td>December</td>\n",
       "      <td>2024</td>\n",
       "      <td>55.0</td>\n",
       "      <td>Burger</td>\n",
       "      <td>1.0</td>\n",
       "      <td>800.00</td>\n",
       "      <td>Credit Card</td>\n",
       "      <td>1</td>\n",
       "    </tr>\n",
       "    <tr>\n",
       "      <th>...</th>\n",
       "      <td>...</td>\n",
       "      <td>...</td>\n",
       "      <td>...</td>\n",
       "      <td>...</td>\n",
       "      <td>...</td>\n",
       "      <td>...</td>\n",
       "      <td>...</td>\n",
       "      <td>...</td>\n",
       "      <td>...</td>\n",
       "      <td>...</td>\n",
       "      <td>...</td>\n",
       "      <td>...</td>\n",
       "    </tr>\n",
       "    <tr>\n",
       "      <th>695</th>\n",
       "      <td>OID1794</td>\n",
       "      <td>Kimberly Keller</td>\n",
       "      <td>2024-11-24</td>\n",
       "      <td>Sunday</td>\n",
       "      <td>November</td>\n",
       "      <td>2024</td>\n",
       "      <td>29.0</td>\n",
       "      <td>Sushi</td>\n",
       "      <td>4.0</td>\n",
       "      <td>403.67</td>\n",
       "      <td>UPI</td>\n",
       "      <td>0</td>\n",
       "    </tr>\n",
       "    <tr>\n",
       "      <th>696</th>\n",
       "      <td>OID1795</td>\n",
       "      <td>Brian Bennett</td>\n",
       "      <td>2024-09-03</td>\n",
       "      <td>Tuesday</td>\n",
       "      <td>September</td>\n",
       "      <td>2024</td>\n",
       "      <td>50.0</td>\n",
       "      <td>Biryani</td>\n",
       "      <td>4.0</td>\n",
       "      <td>736.96</td>\n",
       "      <td>Credit Card</td>\n",
       "      <td>0</td>\n",
       "    </tr>\n",
       "    <tr>\n",
       "      <th>697</th>\n",
       "      <td>OID1796</td>\n",
       "      <td>Tom Walters</td>\n",
       "      <td>2025-01-06</td>\n",
       "      <td>Monday</td>\n",
       "      <td>January</td>\n",
       "      <td>2025</td>\n",
       "      <td>39.0</td>\n",
       "      <td>Burger</td>\n",
       "      <td>4.0</td>\n",
       "      <td>364.12</td>\n",
       "      <td>Wallet</td>\n",
       "      <td>1</td>\n",
       "    </tr>\n",
       "    <tr>\n",
       "      <th>698</th>\n",
       "      <td>OID1797</td>\n",
       "      <td>Barry Singh</td>\n",
       "      <td>2025-04-10</td>\n",
       "      <td>Thursday</td>\n",
       "      <td>April</td>\n",
       "      <td>2025</td>\n",
       "      <td>46.0</td>\n",
       "      <td>Pasta</td>\n",
       "      <td>3.0</td>\n",
       "      <td>774.85</td>\n",
       "      <td>UPI</td>\n",
       "      <td>0</td>\n",
       "    </tr>\n",
       "    <tr>\n",
       "      <th>699</th>\n",
       "      <td>OID1798</td>\n",
       "      <td>Matthew Holt</td>\n",
       "      <td>2024-10-28</td>\n",
       "      <td>Monday</td>\n",
       "      <td>October</td>\n",
       "      <td>2024</td>\n",
       "      <td>40.0</td>\n",
       "      <td>Sushi</td>\n",
       "      <td>1.0</td>\n",
       "      <td>162.50</td>\n",
       "      <td>Wallet</td>\n",
       "      <td>0</td>\n",
       "    </tr>\n",
       "  </tbody>\n",
       "</table>\n",
       "<p>700 rows × 12 columns</p>\n",
       "</div>"
      ],
      "text/plain": [
       "    Order_ID    Customer_Name Order_Date   DayName  monthname  Year  \\\n",
       "0    OID1001  Christy Robbins 2025-01-19    Sunday    January  2025   \n",
       "1    OID1002      Teresa Bush 2025-04-21    Monday      April  2025   \n",
       "2    OID1003  Richard Stanley 2024-07-19    Friday       July  2024   \n",
       "3    OID1004     Tammie Scott 2025-05-24  Saturday        May  2025   \n",
       "4    OID1006    Eric Mcintyre 2024-12-24   Tuesday   December  2024   \n",
       "..       ...              ...        ...       ...        ...   ...   \n",
       "695  OID1794  Kimberly Keller 2024-11-24    Sunday   November  2024   \n",
       "696  OID1795    Brian Bennett 2024-09-03   Tuesday  September  2024   \n",
       "697  OID1796      Tom Walters 2025-01-06    Monday    January  2025   \n",
       "698  OID1797      Barry Singh 2025-04-10  Thursday      April  2025   \n",
       "699  OID1798     Matthew Holt 2024-10-28    Monday    October  2024   \n",
       "\n",
       "     Delivery_Time_Min Food_Item  Restaurant_Rating   Price Payment_Method  \\\n",
       "0                 38.0     Pizza                4.0  304.98           Cash   \n",
       "1                 46.0     Pizza                1.0  785.98            UPI   \n",
       "2                 55.0   Biryani                3.0  521.32            UPI   \n",
       "3                 37.0     Pasta                2.0  507.70            UPI   \n",
       "4                 55.0    Burger                1.0  800.00    Credit Card   \n",
       "..                 ...       ...                ...     ...            ...   \n",
       "695               29.0     Sushi                4.0  403.67            UPI   \n",
       "696               50.0   Biryani                4.0  736.96    Credit Card   \n",
       "697               39.0    Burger                4.0  364.12         Wallet   \n",
       "698               46.0     Pasta                3.0  774.85            UPI   \n",
       "699               40.0     Sushi                1.0  162.50         Wallet   \n",
       "\n",
       "     Is_Repeated_Customer  \n",
       "0                       0  \n",
       "1                       0  \n",
       "2                       1  \n",
       "3                       0  \n",
       "4                       1  \n",
       "..                    ...  \n",
       "695                     0  \n",
       "696                     0  \n",
       "697                     1  \n",
       "698                     0  \n",
       "699                     0  \n",
       "\n",
       "[700 rows x 12 columns]"
      ]
     },
     "execution_count": 205,
     "metadata": {},
     "output_type": "execute_result"
    }
   ],
   "source": [
    "df"
   ]
  },
  {
   "cell_type": "code",
   "execution_count": null,
   "id": "b9c7c6e9",
   "metadata": {},
   "outputs": [],
   "source": []
  },
  {
   "cell_type": "markdown",
   "id": "e983ec9c",
   "metadata": {},
   "source": [
    "What are the unique food items in the dataset? Which food item appears the most?"
   ]
  },
  {
   "cell_type": "code",
   "execution_count": 206,
   "id": "9babcea1",
   "metadata": {},
   "outputs": [
    {
     "data": {
      "text/plain": [
       "array(['Pizza', 'Biryani', 'Pasta', 'Burger', 'Salad', 'Sushi', 'Tacos'],\n",
       "      dtype=object)"
      ]
     },
     "execution_count": 206,
     "metadata": {},
     "output_type": "execute_result"
    }
   ],
   "source": [
    "df['Food_Item'].unique()  # shows unique food items in the 'Food_Item' column"
   ]
  },
  {
   "cell_type": "code",
   "execution_count": 207,
   "id": "3897775e",
   "metadata": {},
   "outputs": [
    {
     "data": {
      "text/plain": [
       "Food_Item\n",
       "Biryani    104\n",
       "Pizza      103\n",
       "Burger     103\n",
       "Tacos      100\n",
       "Salad      100\n",
       "Pasta       98\n",
       "Sushi       92\n",
       "Name: count, dtype: int64"
      ]
     },
     "execution_count": 207,
     "metadata": {},
     "output_type": "execute_result"
    }
   ],
   "source": [
    "df['Food_Item'].value_counts()  # counts the occurrences of each food item"
   ]
  },
  {
   "cell_type": "markdown",
   "id": "9f04d4c1",
   "metadata": {},
   "source": [
    "What is the distribution of payment method used?"
   ]
  },
  {
   "cell_type": "code",
   "execution_count": 208,
   "id": "78b17566",
   "metadata": {},
   "outputs": [
    {
     "data": {
      "text/plain": [
       "Payment_Method\n",
       "Wallet         160\n",
       "UPI            147\n",
       "Credit Card    136\n",
       "Net Banking    129\n",
       "Cash           128\n",
       "Name: count, dtype: int64"
      ]
     },
     "execution_count": 208,
     "metadata": {},
     "output_type": "execute_result"
    }
   ],
   "source": [
    "df['Payment_Method'].value_counts()  # shows unique payment methods in the 'Payment_Method' column"
   ]
  },
  {
   "cell_type": "markdown",
   "id": "17447936",
   "metadata": {},
   "source": [
    "What is the count of repeated vs new customers?"
   ]
  },
  {
   "cell_type": "code",
   "execution_count": 209,
   "id": "721f073e",
   "metadata": {},
   "outputs": [
    {
     "data": {
      "text/plain": [
       "Is_Repeated_Customer\n",
       "0    368\n",
       "1    332\n",
       "Name: count, dtype: int64"
      ]
     },
     "execution_count": 209,
     "metadata": {},
     "output_type": "execute_result"
    }
   ],
   "source": [
    "df['Is_Repeated_Customer'].value_counts()  # counts the occurrences of each value in 'Is_Repeated_Customer'"
   ]
  },
  {
   "cell_type": "markdown",
   "id": "7ae31cc0",
   "metadata": {},
   "source": [
    "What is the minimum, maximun and median delivery time?"
   ]
  },
  {
   "cell_type": "code",
   "execution_count": 210,
   "id": "7b71676d",
   "metadata": {},
   "outputs": [
    {
     "data": {
      "text/plain": [
       "min        13.0\n",
       "max        66.0\n",
       "median     40.0\n",
       "count     700.0\n",
       "Name: Delivery_Time_Min, dtype: float64"
      ]
     },
     "execution_count": 210,
     "metadata": {},
     "output_type": "execute_result"
    }
   ],
   "source": [
    "df['Delivery_Time_Min'].agg(['min', 'max','median', 'count'])  # calculates various statistics for 'Delivery_Time_Min'"
   ]
  },
  {
   "cell_type": "code",
   "execution_count": 211,
   "id": "82007a9d",
   "metadata": {},
   "outputs": [
    {
     "data": {
      "text/html": [
       "<div>\n",
       "<style scoped>\n",
       "    .dataframe tbody tr th:only-of-type {\n",
       "        vertical-align: middle;\n",
       "    }\n",
       "\n",
       "    .dataframe tbody tr th {\n",
       "        vertical-align: top;\n",
       "    }\n",
       "\n",
       "    .dataframe thead th {\n",
       "        text-align: right;\n",
       "    }\n",
       "</style>\n",
       "<table border=\"1\" class=\"dataframe\">\n",
       "  <thead>\n",
       "    <tr style=\"text-align: right;\">\n",
       "      <th></th>\n",
       "      <th>Order_ID</th>\n",
       "      <th>Customer_Name</th>\n",
       "      <th>Order_Date</th>\n",
       "      <th>DayName</th>\n",
       "      <th>monthname</th>\n",
       "      <th>Year</th>\n",
       "      <th>Delivery_Time_Min</th>\n",
       "      <th>Food_Item</th>\n",
       "      <th>Restaurant_Rating</th>\n",
       "      <th>Price</th>\n",
       "      <th>Payment_Method</th>\n",
       "      <th>Is_Repeated_Customer</th>\n",
       "    </tr>\n",
       "  </thead>\n",
       "  <tbody>\n",
       "    <tr>\n",
       "      <th>61</th>\n",
       "      <td>OID1074</td>\n",
       "      <td>George Jones</td>\n",
       "      <td>2024-09-27</td>\n",
       "      <td>Friday</td>\n",
       "      <td>September</td>\n",
       "      <td>2024</td>\n",
       "      <td>13.0</td>\n",
       "      <td>Burger</td>\n",
       "      <td>5.0</td>\n",
       "      <td>632.69</td>\n",
       "      <td>Credit Card</td>\n",
       "      <td>1</td>\n",
       "    </tr>\n",
       "    <tr>\n",
       "      <th>564</th>\n",
       "      <td>OID1646</td>\n",
       "      <td>Joseph Fisher</td>\n",
       "      <td>2024-11-24</td>\n",
       "      <td>Sunday</td>\n",
       "      <td>November</td>\n",
       "      <td>2024</td>\n",
       "      <td>13.0</td>\n",
       "      <td>Burger</td>\n",
       "      <td>4.0</td>\n",
       "      <td>473.37</td>\n",
       "      <td>Wallet</td>\n",
       "      <td>1</td>\n",
       "    </tr>\n",
       "    <tr>\n",
       "      <th>584</th>\n",
       "      <td>OID1668</td>\n",
       "      <td>Anthony Farrell</td>\n",
       "      <td>2025-02-21</td>\n",
       "      <td>Friday</td>\n",
       "      <td>February</td>\n",
       "      <td>2025</td>\n",
       "      <td>13.0</td>\n",
       "      <td>Burger</td>\n",
       "      <td>1.0</td>\n",
       "      <td>504.10</td>\n",
       "      <td>Net Banking</td>\n",
       "      <td>1</td>\n",
       "    </tr>\n",
       "    <tr>\n",
       "      <th>476</th>\n",
       "      <td>OID1544</td>\n",
       "      <td>Hannah Hamilton</td>\n",
       "      <td>2024-08-23</td>\n",
       "      <td>Friday</td>\n",
       "      <td>August</td>\n",
       "      <td>2024</td>\n",
       "      <td>15.0</td>\n",
       "      <td>Biryani</td>\n",
       "      <td>4.0</td>\n",
       "      <td>584.74</td>\n",
       "      <td>UPI</td>\n",
       "      <td>1</td>\n",
       "    </tr>\n",
       "    <tr>\n",
       "      <th>501</th>\n",
       "      <td>OID1575</td>\n",
       "      <td>Robin Chambers</td>\n",
       "      <td>2025-05-23</td>\n",
       "      <td>Friday</td>\n",
       "      <td>May</td>\n",
       "      <td>2025</td>\n",
       "      <td>17.0</td>\n",
       "      <td>Tacos</td>\n",
       "      <td>3.0</td>\n",
       "      <td>317.85</td>\n",
       "      <td>UPI</td>\n",
       "      <td>1</td>\n",
       "    </tr>\n",
       "  </tbody>\n",
       "</table>\n",
       "</div>"
      ],
      "text/plain": [
       "    Order_ID    Customer_Name Order_Date DayName  monthname  Year  \\\n",
       "61   OID1074     George Jones 2024-09-27  Friday  September  2024   \n",
       "564  OID1646    Joseph Fisher 2024-11-24  Sunday   November  2024   \n",
       "584  OID1668  Anthony Farrell 2025-02-21  Friday   February  2025   \n",
       "476  OID1544  Hannah Hamilton 2024-08-23  Friday     August  2024   \n",
       "501  OID1575   Robin Chambers 2025-05-23  Friday        May  2025   \n",
       "\n",
       "     Delivery_Time_Min Food_Item  Restaurant_Rating   Price Payment_Method  \\\n",
       "61                13.0    Burger                5.0  632.69    Credit Card   \n",
       "564               13.0    Burger                4.0  473.37         Wallet   \n",
       "584               13.0    Burger                1.0  504.10    Net Banking   \n",
       "476               15.0   Biryani                4.0  584.74            UPI   \n",
       "501               17.0     Tacos                3.0  317.85            UPI   \n",
       "\n",
       "     Is_Repeated_Customer  \n",
       "61                      1  \n",
       "564                     1  \n",
       "584                     1  \n",
       "476                     1  \n",
       "501                     1  "
      ]
     },
     "execution_count": 211,
     "metadata": {},
     "output_type": "execute_result"
    }
   ],
   "source": [
    "df.sort_values(by='Delivery_Time_Min').head(5)  # sorts the DataFrame by 'Delivery_Time_Min' in ascending order"
   ]
  },
  {
   "cell_type": "markdown",
   "id": "2a7af965",
   "metadata": {},
   "source": [
    "What is the average delivery time per food item?"
   ]
  },
  {
   "cell_type": "code",
   "execution_count": 212,
   "id": "79b14cfd",
   "metadata": {},
   "outputs": [
    {
     "data": {
      "text/html": [
       "<div>\n",
       "<style scoped>\n",
       "    .dataframe tbody tr th:only-of-type {\n",
       "        vertical-align: middle;\n",
       "    }\n",
       "\n",
       "    .dataframe tbody tr th {\n",
       "        vertical-align: top;\n",
       "    }\n",
       "\n",
       "    .dataframe thead th {\n",
       "        text-align: right;\n",
       "    }\n",
       "</style>\n",
       "<table border=\"1\" class=\"dataframe\">\n",
       "  <thead>\n",
       "    <tr style=\"text-align: right;\">\n",
       "      <th></th>\n",
       "      <th>Delivery_Time_Min</th>\n",
       "    </tr>\n",
       "    <tr>\n",
       "      <th>Food_Item</th>\n",
       "      <th></th>\n",
       "    </tr>\n",
       "  </thead>\n",
       "  <tbody>\n",
       "    <tr>\n",
       "      <th>Biryani</th>\n",
       "      <td>38.076923</td>\n",
       "    </tr>\n",
       "    <tr>\n",
       "      <th>Salad</th>\n",
       "      <td>39.020000</td>\n",
       "    </tr>\n",
       "    <tr>\n",
       "      <th>Burger</th>\n",
       "      <td>39.475728</td>\n",
       "    </tr>\n",
       "    <tr>\n",
       "      <th>Pizza</th>\n",
       "      <td>39.572816</td>\n",
       "    </tr>\n",
       "    <tr>\n",
       "      <th>Sushi</th>\n",
       "      <td>39.608696</td>\n",
       "    </tr>\n",
       "    <tr>\n",
       "      <th>Tacos</th>\n",
       "      <td>39.720000</td>\n",
       "    </tr>\n",
       "    <tr>\n",
       "      <th>Pasta</th>\n",
       "      <td>40.397959</td>\n",
       "    </tr>\n",
       "  </tbody>\n",
       "</table>\n",
       "</div>"
      ],
      "text/plain": [
       "           Delivery_Time_Min\n",
       "Food_Item                   \n",
       "Biryani            38.076923\n",
       "Salad              39.020000\n",
       "Burger             39.475728\n",
       "Pizza              39.572816\n",
       "Sushi              39.608696\n",
       "Tacos              39.720000\n",
       "Pasta              40.397959"
      ]
     },
     "execution_count": 212,
     "metadata": {},
     "output_type": "execute_result"
    }
   ],
   "source": [
    "df[['Food_Item','Delivery_Time_Min']].groupby('Food_Item').mean().sort_values('Delivery_Time_Min') # groups by 'Food_Item' and mean delivery times"
   ]
  },
  {
   "cell_type": "markdown",
   "id": "2b308e62",
   "metadata": {},
   "source": [
    "What is the average rating from repeated customers and new customers?"
   ]
  },
  {
   "cell_type": "code",
   "execution_count": 213,
   "id": "8d488105",
   "metadata": {},
   "outputs": [
    {
     "data": {
      "text/html": [
       "<div>\n",
       "<style scoped>\n",
       "    .dataframe tbody tr th:only-of-type {\n",
       "        vertical-align: middle;\n",
       "    }\n",
       "\n",
       "    .dataframe tbody tr th {\n",
       "        vertical-align: top;\n",
       "    }\n",
       "\n",
       "    .dataframe thead th {\n",
       "        text-align: right;\n",
       "    }\n",
       "</style>\n",
       "<table border=\"1\" class=\"dataframe\">\n",
       "  <thead>\n",
       "    <tr style=\"text-align: right;\">\n",
       "      <th></th>\n",
       "      <th>Restaurant_Rating</th>\n",
       "    </tr>\n",
       "    <tr>\n",
       "      <th>Is_Repeated_Customer</th>\n",
       "      <th></th>\n",
       "    </tr>\n",
       "  </thead>\n",
       "  <tbody>\n",
       "    <tr>\n",
       "      <th>0</th>\n",
       "      <td>3.078804</td>\n",
       "    </tr>\n",
       "    <tr>\n",
       "      <th>1</th>\n",
       "      <td>2.960843</td>\n",
       "    </tr>\n",
       "  </tbody>\n",
       "</table>\n",
       "</div>"
      ],
      "text/plain": [
       "                      Restaurant_Rating\n",
       "Is_Repeated_Customer                   \n",
       "0                              3.078804\n",
       "1                              2.960843"
      ]
     },
     "execution_count": 213,
     "metadata": {},
     "output_type": "execute_result"
    }
   ],
   "source": [
    "df[['Restaurant_Rating','Is_Repeated_Customer']].groupby('Is_Repeated_Customer').mean()  # groups by 'Is_Repeated_Customer' and calculates mean delivery times"
   ]
  },
  {
   "cell_type": "markdown",
   "id": "752ada12",
   "metadata": {},
   "source": [
    "What is the average delivery time by payment method?"
   ]
  },
  {
   "cell_type": "code",
   "execution_count": 214,
   "id": "574abe71",
   "metadata": {},
   "outputs": [
    {
     "data": {
      "text/html": [
       "<div>\n",
       "<style scoped>\n",
       "    .dataframe tbody tr th:only-of-type {\n",
       "        vertical-align: middle;\n",
       "    }\n",
       "\n",
       "    .dataframe tbody tr th {\n",
       "        vertical-align: top;\n",
       "    }\n",
       "\n",
       "    .dataframe thead th {\n",
       "        text-align: right;\n",
       "    }\n",
       "</style>\n",
       "<table border=\"1\" class=\"dataframe\">\n",
       "  <thead>\n",
       "    <tr style=\"text-align: right;\">\n",
       "      <th></th>\n",
       "      <th>Delivery_Time_Min</th>\n",
       "    </tr>\n",
       "    <tr>\n",
       "      <th>Payment_Method</th>\n",
       "      <th></th>\n",
       "    </tr>\n",
       "  </thead>\n",
       "  <tbody>\n",
       "    <tr>\n",
       "      <th>Wallet</th>\n",
       "      <td>38.137500</td>\n",
       "    </tr>\n",
       "    <tr>\n",
       "      <th>UPI</th>\n",
       "      <td>39.353741</td>\n",
       "    </tr>\n",
       "    <tr>\n",
       "      <th>Net Banking</th>\n",
       "      <td>39.767442</td>\n",
       "    </tr>\n",
       "    <tr>\n",
       "      <th>Cash</th>\n",
       "      <td>39.976562</td>\n",
       "    </tr>\n",
       "    <tr>\n",
       "      <th>Credit Card</th>\n",
       "      <td>40.036765</td>\n",
       "    </tr>\n",
       "  </tbody>\n",
       "</table>\n",
       "</div>"
      ],
      "text/plain": [
       "                Delivery_Time_Min\n",
       "Payment_Method                   \n",
       "Wallet                  38.137500\n",
       "UPI                     39.353741\n",
       "Net Banking             39.767442\n",
       "Cash                    39.976562\n",
       "Credit Card             40.036765"
      ]
     },
     "execution_count": 214,
     "metadata": {},
     "output_type": "execute_result"
    }
   ],
   "source": [
    "df[['Payment_Method', 'Delivery_Time_Min']].groupby('Payment_Method').mean().sort_values('Delivery_Time_Min')  # groups by 'Payment_Method' and calculates mean delivery times"
   ]
  },
  {
   "cell_type": "markdown",
   "id": "46be735d",
   "metadata": {},
   "source": [
    "What is the relationship between restaurant rating and price?"
   ]
  },
  {
   "cell_type": "code",
   "execution_count": 215,
   "id": "1bc4a262",
   "metadata": {},
   "outputs": [
    {
     "name": "stderr",
     "output_type": "stream",
     "text": [
      "C:\\Users\\ajayk\\AppData\\Local\\Temp\\ipykernel_19196\\3015799550.py:8: SettingWithCopyWarning: \n",
      "A value is trying to be set on a copy of a slice from a DataFrame.\n",
      "Try using .loc[row_indexer,col_indexer] = value instead\n",
      "\n",
      "See the caveats in the documentation: https://pandas.pydata.org/pandas-docs/stable/user_guide/indexing.html#returning-a-view-versus-a-copy\n",
      "  df['Rating_Category'] = df['Restaurant_Rating'].apply(rating_category)  # applies the function to create a new column 'Rating_Category'\n"
     ]
    }
   ],
   "source": [
    "def rating_category(rating):\n",
    "    if rating >= 4:\n",
    "        return 'Good'\n",
    "    elif rating >= 3:\n",
    "        return 'Average'\n",
    "    else:\n",
    "        return 'Poor'\n",
    "df['Rating_Category'] = df['Restaurant_Rating'].apply(rating_category)  # applies the function to create a new column 'Rating_Category'   "
   ]
  },
  {
   "cell_type": "code",
   "execution_count": 216,
   "id": "ace062c3",
   "metadata": {},
   "outputs": [
    {
     "data": {
      "text/html": [
       "<div>\n",
       "<style scoped>\n",
       "    .dataframe tbody tr th:only-of-type {\n",
       "        vertical-align: middle;\n",
       "    }\n",
       "\n",
       "    .dataframe tbody tr th {\n",
       "        vertical-align: top;\n",
       "    }\n",
       "\n",
       "    .dataframe thead th {\n",
       "        text-align: right;\n",
       "    }\n",
       "</style>\n",
       "<table border=\"1\" class=\"dataframe\">\n",
       "  <thead>\n",
       "    <tr style=\"text-align: right;\">\n",
       "      <th></th>\n",
       "      <th>Order_ID</th>\n",
       "      <th>Customer_Name</th>\n",
       "      <th>Order_Date</th>\n",
       "      <th>DayName</th>\n",
       "      <th>monthname</th>\n",
       "      <th>Year</th>\n",
       "      <th>Delivery_Time_Min</th>\n",
       "      <th>Food_Item</th>\n",
       "      <th>Restaurant_Rating</th>\n",
       "      <th>Price</th>\n",
       "      <th>Payment_Method</th>\n",
       "      <th>Is_Repeated_Customer</th>\n",
       "      <th>Rating_Category</th>\n",
       "    </tr>\n",
       "  </thead>\n",
       "  <tbody>\n",
       "    <tr>\n",
       "      <th>0</th>\n",
       "      <td>OID1001</td>\n",
       "      <td>Christy Robbins</td>\n",
       "      <td>2025-01-19</td>\n",
       "      <td>Sunday</td>\n",
       "      <td>January</td>\n",
       "      <td>2025</td>\n",
       "      <td>38.0</td>\n",
       "      <td>Pizza</td>\n",
       "      <td>4.0</td>\n",
       "      <td>304.98</td>\n",
       "      <td>Cash</td>\n",
       "      <td>0</td>\n",
       "      <td>Good</td>\n",
       "    </tr>\n",
       "    <tr>\n",
       "      <th>1</th>\n",
       "      <td>OID1002</td>\n",
       "      <td>Teresa Bush</td>\n",
       "      <td>2025-04-21</td>\n",
       "      <td>Monday</td>\n",
       "      <td>April</td>\n",
       "      <td>2025</td>\n",
       "      <td>46.0</td>\n",
       "      <td>Pizza</td>\n",
       "      <td>1.0</td>\n",
       "      <td>785.98</td>\n",
       "      <td>UPI</td>\n",
       "      <td>0</td>\n",
       "      <td>Poor</td>\n",
       "    </tr>\n",
       "    <tr>\n",
       "      <th>2</th>\n",
       "      <td>OID1003</td>\n",
       "      <td>Richard Stanley</td>\n",
       "      <td>2024-07-19</td>\n",
       "      <td>Friday</td>\n",
       "      <td>July</td>\n",
       "      <td>2024</td>\n",
       "      <td>55.0</td>\n",
       "      <td>Biryani</td>\n",
       "      <td>3.0</td>\n",
       "      <td>521.32</td>\n",
       "      <td>UPI</td>\n",
       "      <td>1</td>\n",
       "      <td>Average</td>\n",
       "    </tr>\n",
       "    <tr>\n",
       "      <th>3</th>\n",
       "      <td>OID1004</td>\n",
       "      <td>Tammie Scott</td>\n",
       "      <td>2025-05-24</td>\n",
       "      <td>Saturday</td>\n",
       "      <td>May</td>\n",
       "      <td>2025</td>\n",
       "      <td>37.0</td>\n",
       "      <td>Pasta</td>\n",
       "      <td>2.0</td>\n",
       "      <td>507.70</td>\n",
       "      <td>UPI</td>\n",
       "      <td>0</td>\n",
       "      <td>Poor</td>\n",
       "    </tr>\n",
       "    <tr>\n",
       "      <th>4</th>\n",
       "      <td>OID1006</td>\n",
       "      <td>Eric Mcintyre</td>\n",
       "      <td>2024-12-24</td>\n",
       "      <td>Tuesday</td>\n",
       "      <td>December</td>\n",
       "      <td>2024</td>\n",
       "      <td>55.0</td>\n",
       "      <td>Burger</td>\n",
       "      <td>1.0</td>\n",
       "      <td>800.00</td>\n",
       "      <td>Credit Card</td>\n",
       "      <td>1</td>\n",
       "      <td>Poor</td>\n",
       "    </tr>\n",
       "    <tr>\n",
       "      <th>...</th>\n",
       "      <td>...</td>\n",
       "      <td>...</td>\n",
       "      <td>...</td>\n",
       "      <td>...</td>\n",
       "      <td>...</td>\n",
       "      <td>...</td>\n",
       "      <td>...</td>\n",
       "      <td>...</td>\n",
       "      <td>...</td>\n",
       "      <td>...</td>\n",
       "      <td>...</td>\n",
       "      <td>...</td>\n",
       "      <td>...</td>\n",
       "    </tr>\n",
       "    <tr>\n",
       "      <th>695</th>\n",
       "      <td>OID1794</td>\n",
       "      <td>Kimberly Keller</td>\n",
       "      <td>2024-11-24</td>\n",
       "      <td>Sunday</td>\n",
       "      <td>November</td>\n",
       "      <td>2024</td>\n",
       "      <td>29.0</td>\n",
       "      <td>Sushi</td>\n",
       "      <td>4.0</td>\n",
       "      <td>403.67</td>\n",
       "      <td>UPI</td>\n",
       "      <td>0</td>\n",
       "      <td>Good</td>\n",
       "    </tr>\n",
       "    <tr>\n",
       "      <th>696</th>\n",
       "      <td>OID1795</td>\n",
       "      <td>Brian Bennett</td>\n",
       "      <td>2024-09-03</td>\n",
       "      <td>Tuesday</td>\n",
       "      <td>September</td>\n",
       "      <td>2024</td>\n",
       "      <td>50.0</td>\n",
       "      <td>Biryani</td>\n",
       "      <td>4.0</td>\n",
       "      <td>736.96</td>\n",
       "      <td>Credit Card</td>\n",
       "      <td>0</td>\n",
       "      <td>Good</td>\n",
       "    </tr>\n",
       "    <tr>\n",
       "      <th>697</th>\n",
       "      <td>OID1796</td>\n",
       "      <td>Tom Walters</td>\n",
       "      <td>2025-01-06</td>\n",
       "      <td>Monday</td>\n",
       "      <td>January</td>\n",
       "      <td>2025</td>\n",
       "      <td>39.0</td>\n",
       "      <td>Burger</td>\n",
       "      <td>4.0</td>\n",
       "      <td>364.12</td>\n",
       "      <td>Wallet</td>\n",
       "      <td>1</td>\n",
       "      <td>Good</td>\n",
       "    </tr>\n",
       "    <tr>\n",
       "      <th>698</th>\n",
       "      <td>OID1797</td>\n",
       "      <td>Barry Singh</td>\n",
       "      <td>2025-04-10</td>\n",
       "      <td>Thursday</td>\n",
       "      <td>April</td>\n",
       "      <td>2025</td>\n",
       "      <td>46.0</td>\n",
       "      <td>Pasta</td>\n",
       "      <td>3.0</td>\n",
       "      <td>774.85</td>\n",
       "      <td>UPI</td>\n",
       "      <td>0</td>\n",
       "      <td>Average</td>\n",
       "    </tr>\n",
       "    <tr>\n",
       "      <th>699</th>\n",
       "      <td>OID1798</td>\n",
       "      <td>Matthew Holt</td>\n",
       "      <td>2024-10-28</td>\n",
       "      <td>Monday</td>\n",
       "      <td>October</td>\n",
       "      <td>2024</td>\n",
       "      <td>40.0</td>\n",
       "      <td>Sushi</td>\n",
       "      <td>1.0</td>\n",
       "      <td>162.50</td>\n",
       "      <td>Wallet</td>\n",
       "      <td>0</td>\n",
       "      <td>Poor</td>\n",
       "    </tr>\n",
       "  </tbody>\n",
       "</table>\n",
       "<p>700 rows × 13 columns</p>\n",
       "</div>"
      ],
      "text/plain": [
       "    Order_ID    Customer_Name Order_Date   DayName  monthname  Year  \\\n",
       "0    OID1001  Christy Robbins 2025-01-19    Sunday    January  2025   \n",
       "1    OID1002      Teresa Bush 2025-04-21    Monday      April  2025   \n",
       "2    OID1003  Richard Stanley 2024-07-19    Friday       July  2024   \n",
       "3    OID1004     Tammie Scott 2025-05-24  Saturday        May  2025   \n",
       "4    OID1006    Eric Mcintyre 2024-12-24   Tuesday   December  2024   \n",
       "..       ...              ...        ...       ...        ...   ...   \n",
       "695  OID1794  Kimberly Keller 2024-11-24    Sunday   November  2024   \n",
       "696  OID1795    Brian Bennett 2024-09-03   Tuesday  September  2024   \n",
       "697  OID1796      Tom Walters 2025-01-06    Monday    January  2025   \n",
       "698  OID1797      Barry Singh 2025-04-10  Thursday      April  2025   \n",
       "699  OID1798     Matthew Holt 2024-10-28    Monday    October  2024   \n",
       "\n",
       "     Delivery_Time_Min Food_Item  Restaurant_Rating   Price Payment_Method  \\\n",
       "0                 38.0     Pizza                4.0  304.98           Cash   \n",
       "1                 46.0     Pizza                1.0  785.98            UPI   \n",
       "2                 55.0   Biryani                3.0  521.32            UPI   \n",
       "3                 37.0     Pasta                2.0  507.70            UPI   \n",
       "4                 55.0    Burger                1.0  800.00    Credit Card   \n",
       "..                 ...       ...                ...     ...            ...   \n",
       "695               29.0     Sushi                4.0  403.67            UPI   \n",
       "696               50.0   Biryani                4.0  736.96    Credit Card   \n",
       "697               39.0    Burger                4.0  364.12         Wallet   \n",
       "698               46.0     Pasta                3.0  774.85            UPI   \n",
       "699               40.0     Sushi                1.0  162.50         Wallet   \n",
       "\n",
       "     Is_Repeated_Customer Rating_Category  \n",
       "0                       0            Good  \n",
       "1                       0            Poor  \n",
       "2                       1         Average  \n",
       "3                       0            Poor  \n",
       "4                       1            Poor  \n",
       "..                    ...             ...  \n",
       "695                     0            Good  \n",
       "696                     0            Good  \n",
       "697                     1            Good  \n",
       "698                     0         Average  \n",
       "699                     0            Poor  \n",
       "\n",
       "[700 rows x 13 columns]"
      ]
     },
     "execution_count": 216,
     "metadata": {},
     "output_type": "execute_result"
    }
   ],
   "source": [
    "df"
   ]
  },
  {
   "cell_type": "code",
   "execution_count": 217,
   "id": "ae661779",
   "metadata": {},
   "outputs": [
    {
     "data": {
      "text/html": [
       "<div>\n",
       "<style scoped>\n",
       "    .dataframe tbody tr th:only-of-type {\n",
       "        vertical-align: middle;\n",
       "    }\n",
       "\n",
       "    .dataframe tbody tr th {\n",
       "        vertical-align: top;\n",
       "    }\n",
       "\n",
       "    .dataframe thead th {\n",
       "        text-align: right;\n",
       "    }\n",
       "</style>\n",
       "<table border=\"1\" class=\"dataframe\">\n",
       "  <thead>\n",
       "    <tr style=\"text-align: right;\">\n",
       "      <th></th>\n",
       "      <th>Price</th>\n",
       "    </tr>\n",
       "    <tr>\n",
       "      <th>Rating_Category</th>\n",
       "      <th></th>\n",
       "    </tr>\n",
       "  </thead>\n",
       "  <tbody>\n",
       "    <tr>\n",
       "      <th>Average</th>\n",
       "      <td>476.634348</td>\n",
       "    </tr>\n",
       "    <tr>\n",
       "      <th>Good</th>\n",
       "      <td>448.580974</td>\n",
       "    </tr>\n",
       "    <tr>\n",
       "      <th>Poor</th>\n",
       "      <td>442.388540</td>\n",
       "    </tr>\n",
       "  </tbody>\n",
       "</table>\n",
       "</div>"
      ],
      "text/plain": [
       "                      Price\n",
       "Rating_Category            \n",
       "Average          476.634348\n",
       "Good             448.580974\n",
       "Poor             442.388540"
      ]
     },
     "execution_count": 217,
     "metadata": {},
     "output_type": "execute_result"
    }
   ],
   "source": [
    "df[['Rating_Category','Price']].groupby('Rating_Category').mean()  # groups by 'Rating_Category' and calculates mean price"
   ]
  },
  {
   "cell_type": "markdown",
   "id": "7fe38b1f",
   "metadata": {},
   "source": [
    "On which date were most orders placed?"
   ]
  },
  {
   "cell_type": "code",
   "execution_count": 218,
   "id": "e2e8302c",
   "metadata": {},
   "outputs": [
    {
     "data": {
      "text/plain": [
       "Order_Date\n",
       "2024-11-19    7\n",
       "2025-01-25    6\n",
       "2024-08-07    6\n",
       "2025-03-08    6\n",
       "2024-09-29    6\n",
       "Name: count, dtype: int64"
      ]
     },
     "execution_count": 218,
     "metadata": {},
     "output_type": "execute_result"
    }
   ],
   "source": [
    "df['Order_Date'].value_counts().head()  # counts the occurrences of each date in 'Order_Date'"
   ]
  },
  {
   "cell_type": "markdown",
   "id": "02ba41d6",
   "metadata": {},
   "source": [
    "Calculate the revenue in 2024 by each month?"
   ]
  },
  {
   "cell_type": "code",
   "execution_count": 219,
   "id": "03cea652",
   "metadata": {},
   "outputs": [
    {
     "data": {
      "text/html": [
       "<div>\n",
       "<style scoped>\n",
       "    .dataframe tbody tr th:only-of-type {\n",
       "        vertical-align: middle;\n",
       "    }\n",
       "\n",
       "    .dataframe tbody tr th {\n",
       "        vertical-align: top;\n",
       "    }\n",
       "\n",
       "    .dataframe thead th {\n",
       "        text-align: right;\n",
       "    }\n",
       "</style>\n",
       "<table border=\"1\" class=\"dataframe\">\n",
       "  <thead>\n",
       "    <tr style=\"text-align: right;\">\n",
       "      <th></th>\n",
       "      <th></th>\n",
       "      <th>sum</th>\n",
       "      <th>count</th>\n",
       "    </tr>\n",
       "    <tr>\n",
       "      <th>Year</th>\n",
       "      <th>monthname</th>\n",
       "      <th></th>\n",
       "      <th></th>\n",
       "    </tr>\n",
       "  </thead>\n",
       "  <tbody>\n",
       "    <tr>\n",
       "      <th rowspan=\"7\" valign=\"top\">2024</th>\n",
       "      <th>June</th>\n",
       "      <td>16862.96</td>\n",
       "      <td>40</td>\n",
       "    </tr>\n",
       "    <tr>\n",
       "      <th>November</th>\n",
       "      <td>22909.04</td>\n",
       "      <td>51</td>\n",
       "    </tr>\n",
       "    <tr>\n",
       "      <th>July</th>\n",
       "      <td>20959.42</td>\n",
       "      <td>53</td>\n",
       "    </tr>\n",
       "    <tr>\n",
       "      <th>August</th>\n",
       "      <td>22451.60</td>\n",
       "      <td>54</td>\n",
       "    </tr>\n",
       "    <tr>\n",
       "      <th>October</th>\n",
       "      <td>25162.11</td>\n",
       "      <td>57</td>\n",
       "    </tr>\n",
       "    <tr>\n",
       "      <th>December</th>\n",
       "      <td>27571.84</td>\n",
       "      <td>61</td>\n",
       "    </tr>\n",
       "    <tr>\n",
       "      <th>September</th>\n",
       "      <td>30309.15</td>\n",
       "      <td>66</td>\n",
       "    </tr>\n",
       "  </tbody>\n",
       "</table>\n",
       "</div>"
      ],
      "text/plain": [
       "                     sum  count\n",
       "Year monthname                 \n",
       "2024 June       16862.96     40\n",
       "     November   22909.04     51\n",
       "     July       20959.42     53\n",
       "     August     22451.60     54\n",
       "     October    25162.11     57\n",
       "     December   27571.84     61\n",
       "     September  30309.15     66"
      ]
     },
     "execution_count": 219,
     "metadata": {},
     "output_type": "execute_result"
    }
   ],
   "source": [
    "df[df['Year'] == 2024].groupby(['Year', 'monthname'])['Price'].agg(['sum', 'count']).sort_values(by='count')  # groups by 'Year' and 'monthname', calculates sum and count of 'Price' for the year 2024, and sorts by 'monthname'"
   ]
  },
  {
   "cell_type": "markdown",
   "id": "378d55b1",
   "metadata": {},
   "source": [
    "Group data by Food_Item and calculate the total revenue for each?"
   ]
  },
  {
   "cell_type": "code",
   "execution_count": 220,
   "id": "09773789",
   "metadata": {},
   "outputs": [
    {
     "data": {
      "text/html": [
       "<div>\n",
       "<style scoped>\n",
       "    .dataframe tbody tr th:only-of-type {\n",
       "        vertical-align: middle;\n",
       "    }\n",
       "\n",
       "    .dataframe tbody tr th {\n",
       "        vertical-align: top;\n",
       "    }\n",
       "\n",
       "    .dataframe thead th {\n",
       "        text-align: right;\n",
       "    }\n",
       "</style>\n",
       "<table border=\"1\" class=\"dataframe\">\n",
       "  <thead>\n",
       "    <tr style=\"text-align: right;\">\n",
       "      <th></th>\n",
       "      <th>total_revenue</th>\n",
       "      <th>count</th>\n",
       "    </tr>\n",
       "    <tr>\n",
       "      <th>Food_Item</th>\n",
       "      <th></th>\n",
       "      <th></th>\n",
       "    </tr>\n",
       "  </thead>\n",
       "  <tbody>\n",
       "    <tr>\n",
       "      <th>Biryani</th>\n",
       "      <td>54938.75</td>\n",
       "      <td>104</td>\n",
       "    </tr>\n",
       "    <tr>\n",
       "      <th>Burger</th>\n",
       "      <td>48772.82</td>\n",
       "      <td>103</td>\n",
       "    </tr>\n",
       "    <tr>\n",
       "      <th>Pasta</th>\n",
       "      <td>45202.03</td>\n",
       "      <td>98</td>\n",
       "    </tr>\n",
       "    <tr>\n",
       "      <th>Pizza</th>\n",
       "      <td>44420.28</td>\n",
       "      <td>103</td>\n",
       "    </tr>\n",
       "    <tr>\n",
       "      <th>Salad</th>\n",
       "      <td>43185.99</td>\n",
       "      <td>100</td>\n",
       "    </tr>\n",
       "    <tr>\n",
       "      <th>Sushi</th>\n",
       "      <td>41164.99</td>\n",
       "      <td>92</td>\n",
       "    </tr>\n",
       "    <tr>\n",
       "      <th>Tacos</th>\n",
       "      <td>40729.38</td>\n",
       "      <td>100</td>\n",
       "    </tr>\n",
       "  </tbody>\n",
       "</table>\n",
       "</div>"
      ],
      "text/plain": [
       "           total_revenue  count\n",
       "Food_Item                      \n",
       "Biryani         54938.75    104\n",
       "Burger          48772.82    103\n",
       "Pasta           45202.03     98\n",
       "Pizza           44420.28    103\n",
       "Salad           43185.99    100\n",
       "Sushi           41164.99     92\n",
       "Tacos           40729.38    100"
      ]
     },
     "execution_count": 220,
     "metadata": {},
     "output_type": "execute_result"
    }
   ],
   "source": [
    "df.groupby('Food_Item')['Price'].agg(total_revenue='sum', count='count').sort_values(by='total_revenue', ascending=False)  # groups by 'Food_Item', calculates total revenue and count, and sorts by total revenue in descending order"
   ]
  },
  {
   "cell_type": "markdown",
   "id": "cef7fee3",
   "metadata": {},
   "source": [
    "Find the top 5 customers who ordered the most (by count or total value)."
   ]
  },
  {
   "cell_type": "code",
   "execution_count": 221,
   "id": "bda31390",
   "metadata": {},
   "outputs": [
    {
     "data": {
      "text/html": [
       "<div>\n",
       "<style scoped>\n",
       "    .dataframe tbody tr th:only-of-type {\n",
       "        vertical-align: middle;\n",
       "    }\n",
       "\n",
       "    .dataframe tbody tr th {\n",
       "        vertical-align: top;\n",
       "    }\n",
       "\n",
       "    .dataframe thead th {\n",
       "        text-align: right;\n",
       "    }\n",
       "</style>\n",
       "<table border=\"1\" class=\"dataframe\">\n",
       "  <thead>\n",
       "    <tr style=\"text-align: right;\">\n",
       "      <th></th>\n",
       "      <th>total_spent</th>\n",
       "      <th>order_count</th>\n",
       "    </tr>\n",
       "    <tr>\n",
       "      <th>Customer_Name</th>\n",
       "      <th></th>\n",
       "      <th></th>\n",
       "    </tr>\n",
       "  </thead>\n",
       "  <tbody>\n",
       "    <tr>\n",
       "      <th>Jeffrey Wilson</th>\n",
       "      <td>5000.00</td>\n",
       "      <td>1</td>\n",
       "    </tr>\n",
       "    <tr>\n",
       "      <th>Elizabeth Smith</th>\n",
       "      <td>1006.42</td>\n",
       "      <td>2</td>\n",
       "    </tr>\n",
       "    <tr>\n",
       "      <th>Samuel Rodriguez</th>\n",
       "      <td>953.96</td>\n",
       "      <td>2</td>\n",
       "    </tr>\n",
       "    <tr>\n",
       "      <th>Eric Mcintyre</th>\n",
       "      <td>800.00</td>\n",
       "      <td>1</td>\n",
       "    </tr>\n",
       "    <tr>\n",
       "      <th>Sarah Rice</th>\n",
       "      <td>798.84</td>\n",
       "      <td>1</td>\n",
       "    </tr>\n",
       "  </tbody>\n",
       "</table>\n",
       "</div>"
      ],
      "text/plain": [
       "                  total_spent  order_count\n",
       "Customer_Name                             \n",
       "Jeffrey Wilson        5000.00            1\n",
       "Elizabeth Smith       1006.42            2\n",
       "Samuel Rodriguez       953.96            2\n",
       "Eric Mcintyre          800.00            1\n",
       "Sarah Rice             798.84            1"
      ]
     },
     "execution_count": 221,
     "metadata": {},
     "output_type": "execute_result"
    }
   ],
   "source": [
    "# Find the top 5 customers who ordered the most (by count or total value).\n",
    "df.groupby('Customer_Name')['Price'].agg(total_spent='sum', order_count='count').sort_values(by='total_spent', ascending=False).head(5)  # groups by 'Customer_Name', calculates total spent and order count, and sorts by total spent in descending order"
   ]
  },
  {
   "cell_type": "markdown",
   "id": "25c1908b",
   "metadata": {},
   "source": [
    "Are there any patterns in delivery time vs. order date?"
   ]
  },
  {
   "cell_type": "code",
   "execution_count": 222,
   "id": "f084e6a4",
   "metadata": {},
   "outputs": [
    {
     "data": {
      "text/plain": [
       "<Axes: xlabel='Order_Date'>"
      ]
     },
     "execution_count": 222,
     "metadata": {},
     "output_type": "execute_result"
    },
    {
     "data": {
      "image/png": "[encoded data removed]",
      "text/plain": [
       "<Figure size 1200x600 with 1 Axes>"
      ]
     },
     "metadata": {},
     "output_type": "display_data"
    }
   ],
   "source": [
    "#Are there any patterns in delivery time vs. order date?\n",
    "df.groupby('Order_Date')['Delivery_Time_Min'].mean().plot(kind='line', figsize=(12, 6))  # groups by 'Order_Date', calculates mean delivery time, and plots it as a line chart"
   ]
  },
  {
   "cell_type": "markdown",
   "id": "f08e8521",
   "metadata": {},
   "source": [
    "Histogram (For Numerical Columns)"
   ]
  },
  {
   "cell_type": "code",
   "execution_count": 223,
   "id": "b9ebf4e3",
   "metadata": {},
   "outputs": [
    {
     "data": {
      "image/png": "[encoded data removed]",
      "text/plain": [
       "<Figure size 500x300 with 1 Axes>"
      ]
     },
     "metadata": {},
     "output_type": "display_data"
    }
   ],
   "source": [
    "plt.figure(figsize=(5, 3))\n",
    "plt.hist(df['Restaurant_Rating'], bins=3)\n",
    "plt.title('Histogram of Restaurant Ratings')\n",
    "plt.xticks([0.5,1.0,1.5,2.0,2.5,3.0,3.5,4.0,4.5,5.0], rotation=90)  # sets the x-ticks using list to add floating point values\n",
    "plt.yticks(range(0,300,50))  # sets the y-ticks to range from 0 to 300 with a step of 50\n",
    "plt.xlabel('Restaurant Rating')\n",
    "plt.ylabel('Count')\n",
    "plt.show()"
   ]
  },
  {
   "cell_type": "markdown",
   "id": "95439597",
   "metadata": {},
   "source": [
    "Bar Graph (For Categorical columns)"
   ]
  },
  {
   "cell_type": "code",
   "execution_count": 224,
   "id": "f4925f15",
   "metadata": {},
   "outputs": [
    {
     "data": {
      "image/png": "[encoded data removed]",
      "text/plain": [
       "<Figure size 500x300 with 1 Axes>"
      ]
     },
     "metadata": {},
     "output_type": "display_data"
    }
   ],
   "source": [
    "plt.figure(figsize=(5, 3))\n",
    "plt.bar(df['Food_Item'].value_counts().index, df['Food_Item'].value_counts().values)\n",
    "plt.title('Bar Chart of Food Items')\n",
    "plt.xlabel('Food Item')\n",
    "plt.ylabel('Count')\n",
    "plt.show()"
   ]
  },
  {
   "cell_type": "code",
   "execution_count": 225,
   "id": "b0e20b9c",
   "metadata": {},
   "outputs": [
    {
     "data": {
      "image/png": "[encoded data removed]",
      "text/plain": [
       "<Figure size 500x300 with 1 Axes>"
      ]
     },
     "metadata": {},
     "output_type": "display_data"
    }
   ],
   "source": [
    "plt.figure(figsize=(5, 3))\n",
    "food_price_sum = df[['Food_Item', 'Price']].groupby('Food_Item').sum()\n",
    "plt.bar(food_price_sum.index, food_price_sum['Price'])\n",
    "plt.xlabel('Food Item')\n",
    "plt.ylabel('Total Revenue')\n",
    "plt.title('Total Revenue by Food Item')\n",
    "plt.show()"
   ]
  },
  {
   "cell_type": "markdown",
   "id": "0b1f0e5b",
   "metadata": {},
   "source": [
    "Shortcut to do graphs"
   ]
  },
  {
   "cell_type": "code",
   "execution_count": 226,
   "id": "c65ac1bd",
   "metadata": {},
   "outputs": [
    {
     "data": {
      "text/plain": [
       "<Axes: ylabel='count'>"
      ]
     },
     "execution_count": 226,
     "metadata": {},
     "output_type": "execute_result"
    },
    {
     "data": {
      "image/png": "[encoded data removed]",
      "text/plain": [
       "<Figure size 500x300 with 1 Axes>"
      ]
     },
     "metadata": {},
     "output_type": "display_data"
    }
   ],
   "source": [
    "df['Rating_Category'].value_counts().plot(kind='pie', figsize=(5, 3), autopct='%1.1f%%')"
   ]
  },
  {
   "cell_type": "code",
   "execution_count": 227,
   "id": "3d6098a1",
   "metadata": {},
   "outputs": [
    {
     "data": {
      "text/html": [
       "<div>\n",
       "<style scoped>\n",
       "    .dataframe tbody tr th:only-of-type {\n",
       "        vertical-align: middle;\n",
       "    }\n",
       "\n",
       "    .dataframe tbody tr th {\n",
       "        vertical-align: top;\n",
       "    }\n",
       "\n",
       "    .dataframe thead th {\n",
       "        text-align: right;\n",
       "    }\n",
       "</style>\n",
       "<table border=\"1\" class=\"dataframe\">\n",
       "  <thead>\n",
       "    <tr style=\"text-align: right;\">\n",
       "      <th></th>\n",
       "      <th>Order_ID</th>\n",
       "      <th>Customer_Name</th>\n",
       "      <th>Order_Date</th>\n",
       "      <th>DayName</th>\n",
       "      <th>monthname</th>\n",
       "      <th>Year</th>\n",
       "      <th>Delivery_Time_Min</th>\n",
       "      <th>Food_Item</th>\n",
       "      <th>Restaurant_Rating</th>\n",
       "      <th>Price</th>\n",
       "      <th>Payment_Method</th>\n",
       "      <th>Is_Repeated_Customer</th>\n",
       "      <th>Rating_Category</th>\n",
       "    </tr>\n",
       "  </thead>\n",
       "  <tbody>\n",
       "    <tr>\n",
       "      <th>0</th>\n",
       "      <td>OID1001</td>\n",
       "      <td>Christy Robbins</td>\n",
       "      <td>2025-01-19</td>\n",
       "      <td>Sunday</td>\n",
       "      <td>January</td>\n",
       "      <td>2025</td>\n",
       "      <td>38.0</td>\n",
       "      <td>Pizza</td>\n",
       "      <td>4.0</td>\n",
       "      <td>304.98</td>\n",
       "      <td>Cash</td>\n",
       "      <td>0</td>\n",
       "      <td>Good</td>\n",
       "    </tr>\n",
       "    <tr>\n",
       "      <th>1</th>\n",
       "      <td>OID1002</td>\n",
       "      <td>Teresa Bush</td>\n",
       "      <td>2025-04-21</td>\n",
       "      <td>Monday</td>\n",
       "      <td>April</td>\n",
       "      <td>2025</td>\n",
       "      <td>46.0</td>\n",
       "      <td>Pizza</td>\n",
       "      <td>1.0</td>\n",
       "      <td>785.98</td>\n",
       "      <td>UPI</td>\n",
       "      <td>0</td>\n",
       "      <td>Poor</td>\n",
       "    </tr>\n",
       "    <tr>\n",
       "      <th>2</th>\n",
       "      <td>OID1003</td>\n",
       "      <td>Richard Stanley</td>\n",
       "      <td>2024-07-19</td>\n",
       "      <td>Friday</td>\n",
       "      <td>July</td>\n",
       "      <td>2024</td>\n",
       "      <td>55.0</td>\n",
       "      <td>Biryani</td>\n",
       "      <td>3.0</td>\n",
       "      <td>521.32</td>\n",
       "      <td>UPI</td>\n",
       "      <td>1</td>\n",
       "      <td>Average</td>\n",
       "    </tr>\n",
       "    <tr>\n",
       "      <th>3</th>\n",
       "      <td>OID1004</td>\n",
       "      <td>Tammie Scott</td>\n",
       "      <td>2025-05-24</td>\n",
       "      <td>Saturday</td>\n",
       "      <td>May</td>\n",
       "      <td>2025</td>\n",
       "      <td>37.0</td>\n",
       "      <td>Pasta</td>\n",
       "      <td>2.0</td>\n",
       "      <td>507.70</td>\n",
       "      <td>UPI</td>\n",
       "      <td>0</td>\n",
       "      <td>Poor</td>\n",
       "    </tr>\n",
       "    <tr>\n",
       "      <th>4</th>\n",
       "      <td>OID1006</td>\n",
       "      <td>Eric Mcintyre</td>\n",
       "      <td>2024-12-24</td>\n",
       "      <td>Tuesday</td>\n",
       "      <td>December</td>\n",
       "      <td>2024</td>\n",
       "      <td>55.0</td>\n",
       "      <td>Burger</td>\n",
       "      <td>1.0</td>\n",
       "      <td>800.00</td>\n",
       "      <td>Credit Card</td>\n",
       "      <td>1</td>\n",
       "      <td>Poor</td>\n",
       "    </tr>\n",
       "    <tr>\n",
       "      <th>...</th>\n",
       "      <td>...</td>\n",
       "      <td>...</td>\n",
       "      <td>...</td>\n",
       "      <td>...</td>\n",
       "      <td>...</td>\n",
       "      <td>...</td>\n",
       "      <td>...</td>\n",
       "      <td>...</td>\n",
       "      <td>...</td>\n",
       "      <td>...</td>\n",
       "      <td>...</td>\n",
       "      <td>...</td>\n",
       "      <td>...</td>\n",
       "    </tr>\n",
       "    <tr>\n",
       "      <th>695</th>\n",
       "      <td>OID1794</td>\n",
       "      <td>Kimberly Keller</td>\n",
       "      <td>2024-11-24</td>\n",
       "      <td>Sunday</td>\n",
       "      <td>November</td>\n",
       "      <td>2024</td>\n",
       "      <td>29.0</td>\n",
       "      <td>Sushi</td>\n",
       "      <td>4.0</td>\n",
       "      <td>403.67</td>\n",
       "      <td>UPI</td>\n",
       "      <td>0</td>\n",
       "      <td>Good</td>\n",
       "    </tr>\n",
       "    <tr>\n",
       "      <th>696</th>\n",
       "      <td>OID1795</td>\n",
       "      <td>Brian Bennett</td>\n",
       "      <td>2024-09-03</td>\n",
       "      <td>Tuesday</td>\n",
       "      <td>September</td>\n",
       "      <td>2024</td>\n",
       "      <td>50.0</td>\n",
       "      <td>Biryani</td>\n",
       "      <td>4.0</td>\n",
       "      <td>736.96</td>\n",
       "      <td>Credit Card</td>\n",
       "      <td>0</td>\n",
       "      <td>Good</td>\n",
       "    </tr>\n",
       "    <tr>\n",
       "      <th>697</th>\n",
       "      <td>OID1796</td>\n",
       "      <td>Tom Walters</td>\n",
       "      <td>2025-01-06</td>\n",
       "      <td>Monday</td>\n",
       "      <td>January</td>\n",
       "      <td>2025</td>\n",
       "      <td>39.0</td>\n",
       "      <td>Burger</td>\n",
       "      <td>4.0</td>\n",
       "      <td>364.12</td>\n",
       "      <td>Wallet</td>\n",
       "      <td>1</td>\n",
       "      <td>Good</td>\n",
       "    </tr>\n",
       "    <tr>\n",
       "      <th>698</th>\n",
       "      <td>OID1797</td>\n",
       "      <td>Barry Singh</td>\n",
       "      <td>2025-04-10</td>\n",
       "      <td>Thursday</td>\n",
       "      <td>April</td>\n",
       "      <td>2025</td>\n",
       "      <td>46.0</td>\n",
       "      <td>Pasta</td>\n",
       "      <td>3.0</td>\n",
       "      <td>774.85</td>\n",
       "      <td>UPI</td>\n",
       "      <td>0</td>\n",
       "      <td>Average</td>\n",
       "    </tr>\n",
       "    <tr>\n",
       "      <th>699</th>\n",
       "      <td>OID1798</td>\n",
       "      <td>Matthew Holt</td>\n",
       "      <td>2024-10-28</td>\n",
       "      <td>Monday</td>\n",
       "      <td>October</td>\n",
       "      <td>2024</td>\n",
       "      <td>40.0</td>\n",
       "      <td>Sushi</td>\n",
       "      <td>1.0</td>\n",
       "      <td>162.50</td>\n",
       "      <td>Wallet</td>\n",
       "      <td>0</td>\n",
       "      <td>Poor</td>\n",
       "    </tr>\n",
       "  </tbody>\n",
       "</table>\n",
       "<p>700 rows × 13 columns</p>\n",
       "</div>"
      ],
      "text/plain": [
       "    Order_ID    Customer_Name Order_Date   DayName  monthname  Year  \\\n",
       "0    OID1001  Christy Robbins 2025-01-19    Sunday    January  2025   \n",
       "1    OID1002      Teresa Bush 2025-04-21    Monday      April  2025   \n",
       "2    OID1003  Richard Stanley 2024-07-19    Friday       July  2024   \n",
       "3    OID1004     Tammie Scott 2025-05-24  Saturday        May  2025   \n",
       "4    OID1006    Eric Mcintyre 2024-12-24   Tuesday   December  2024   \n",
       "..       ...              ...        ...       ...        ...   ...   \n",
       "695  OID1794  Kimberly Keller 2024-11-24    Sunday   November  2024   \n",
       "696  OID1795    Brian Bennett 2024-09-03   Tuesday  September  2024   \n",
       "697  OID1796      Tom Walters 2025-01-06    Monday    January  2025   \n",
       "698  OID1797      Barry Singh 2025-04-10  Thursday      April  2025   \n",
       "699  OID1798     Matthew Holt 2024-10-28    Monday    October  2024   \n",
       "\n",
       "     Delivery_Time_Min Food_Item  Restaurant_Rating   Price Payment_Method  \\\n",
       "0                 38.0     Pizza                4.0  304.98           Cash   \n",
       "1                 46.0     Pizza                1.0  785.98            UPI   \n",
       "2                 55.0   Biryani                3.0  521.32            UPI   \n",
       "3                 37.0     Pasta                2.0  507.70            UPI   \n",
       "4                 55.0    Burger                1.0  800.00    Credit Card   \n",
       "..                 ...       ...                ...     ...            ...   \n",
       "695               29.0     Sushi                4.0  403.67            UPI   \n",
       "696               50.0   Biryani                4.0  736.96    Credit Card   \n",
       "697               39.0    Burger                4.0  364.12         Wallet   \n",
       "698               46.0     Pasta                3.0  774.85            UPI   \n",
       "699               40.0     Sushi                1.0  162.50         Wallet   \n",
       "\n",
       "     Is_Repeated_Customer Rating_Category  \n",
       "0                       0            Good  \n",
       "1                       0            Poor  \n",
       "2                       1         Average  \n",
       "3                       0            Poor  \n",
       "4                       1            Poor  \n",
       "..                    ...             ...  \n",
       "695                     0            Good  \n",
       "696                     0            Good  \n",
       "697                     1            Good  \n",
       "698                     0         Average  \n",
       "699                     0            Poor  \n",
       "\n",
       "[700 rows x 13 columns]"
      ]
     },
     "execution_count": 227,
     "metadata": {},
     "output_type": "execute_result"
    }
   ],
   "source": [
    "df"
   ]
  },
  {
   "cell_type": "code",
   "execution_count": 228,
   "id": "ec82fa65",
   "metadata": {},
   "outputs": [
    {
     "name": "stderr",
     "output_type": "stream",
     "text": [
      "C:\\Users\\ajayk\\AppData\\Local\\Temp\\ipykernel_19196\\14787713.py:1: SettingWithCopyWarning: \n",
      "A value is trying to be set on a copy of a slice from a DataFrame.\n",
      "Try using .loc[row_indexer,col_indexer] = value instead\n",
      "\n",
      "See the caveats in the documentation: https://pandas.pydata.org/pandas-docs/stable/user_guide/indexing.html#returning-a-view-versus-a-copy\n",
      "  df['month']=df['Order_Date'].dt.month\n"
     ]
    }
   ],
   "source": [
    "df['month']=df['Order_Date'].dt.month"
   ]
  },
  {
   "cell_type": "code",
   "execution_count": 229,
   "id": "1dc52f6e",
   "metadata": {},
   "outputs": [
    {
     "data": {
      "text/html": [
       "<div>\n",
       "<style scoped>\n",
       "    .dataframe tbody tr th:only-of-type {\n",
       "        vertical-align: middle;\n",
       "    }\n",
       "\n",
       "    .dataframe tbody tr th {\n",
       "        vertical-align: top;\n",
       "    }\n",
       "\n",
       "    .dataframe thead th {\n",
       "        text-align: right;\n",
       "    }\n",
       "</style>\n",
       "<table border=\"1\" class=\"dataframe\">\n",
       "  <thead>\n",
       "    <tr style=\"text-align: right;\">\n",
       "      <th></th>\n",
       "      <th>Price</th>\n",
       "    </tr>\n",
       "    <tr>\n",
       "      <th>month</th>\n",
       "      <th></th>\n",
       "    </tr>\n",
       "  </thead>\n",
       "  <tbody>\n",
       "    <tr>\n",
       "      <th>1</th>\n",
       "      <td>24639.08</td>\n",
       "    </tr>\n",
       "    <tr>\n",
       "      <th>2</th>\n",
       "      <td>24928.20</td>\n",
       "    </tr>\n",
       "    <tr>\n",
       "      <th>3</th>\n",
       "      <td>32191.14</td>\n",
       "    </tr>\n",
       "    <tr>\n",
       "      <th>4</th>\n",
       "      <td>29316.15</td>\n",
       "    </tr>\n",
       "    <tr>\n",
       "      <th>5</th>\n",
       "      <td>29427.06</td>\n",
       "    </tr>\n",
       "    <tr>\n",
       "      <th>6</th>\n",
       "      <td>28549.45</td>\n",
       "    </tr>\n",
       "    <tr>\n",
       "      <th>7</th>\n",
       "      <td>20959.42</td>\n",
       "    </tr>\n",
       "    <tr>\n",
       "      <th>8</th>\n",
       "      <td>22451.60</td>\n",
       "    </tr>\n",
       "    <tr>\n",
       "      <th>9</th>\n",
       "      <td>30309.15</td>\n",
       "    </tr>\n",
       "    <tr>\n",
       "      <th>10</th>\n",
       "      <td>25162.11</td>\n",
       "    </tr>\n",
       "    <tr>\n",
       "      <th>11</th>\n",
       "      <td>22909.04</td>\n",
       "    </tr>\n",
       "    <tr>\n",
       "      <th>12</th>\n",
       "      <td>27571.84</td>\n",
       "    </tr>\n",
       "  </tbody>\n",
       "</table>\n",
       "</div>"
      ],
      "text/plain": [
       "          Price\n",
       "month          \n",
       "1      24639.08\n",
       "2      24928.20\n",
       "3      32191.14\n",
       "4      29316.15\n",
       "5      29427.06\n",
       "6      28549.45\n",
       "7      20959.42\n",
       "8      22451.60\n",
       "9      30309.15\n",
       "10     25162.11\n",
       "11     22909.04\n",
       "12     27571.84"
      ]
     },
     "execution_count": 229,
     "metadata": {},
     "output_type": "execute_result"
    }
   ],
   "source": [
    "df[['month','Price']].groupby('month').sum()"
   ]
  },
  {
   "cell_type": "code",
   "execution_count": 230,
   "id": "e2821fed",
   "metadata": {},
   "outputs": [
    {
     "data": {
      "text/plain": [
       "<Axes: xlabel='month'>"
      ]
     },
     "execution_count": 230,
     "metadata": {},
     "output_type": "execute_result"
    },
    {
     "data": {
      "image/png": "[encoded data removed]",
      "text/plain": [
       "<Figure size 500x300 with 1 Axes>"
      ]
     },
     "metadata": {},
     "output_type": "display_data"
    }
   ],
   "source": [
    "df[['month','Price']].groupby('month').sum().plot(kind='line', figsize=(5, 3))"
   ]
  },
  {
   "cell_type": "markdown",
   "id": "1b9d3ff5",
   "metadata": {},
   "source": [
    "Scatter Plot (For Correlation)"
   ]
  },
  {
   "cell_type": "code",
   "execution_count": 231,
   "id": "0db191e2",
   "metadata": {},
   "outputs": [
    {
     "data": {
      "image/png": "[encoded data removed]",
      "text/plain": [
       "<Figure size 640x480 with 1 Axes>"
      ]
     },
     "metadata": {},
     "output_type": "display_data"
    },
    {
     "data": {
      "text/plain": [
       "<Figure size 500x300 with 0 Axes>"
      ]
     },
     "metadata": {},
     "output_type": "display_data"
    }
   ],
   "source": [
    "mileage=[12,30,25,9,16,20]\n",
    "engine=[3000,800,1200, 3500, 1500,1000]\n",
    "plt.scatter(mileage,engine)\n",
    "plt.title('Scattler Plot Mileage and Engine capacity')\n",
    "plt.xlabel('Mileage')\n",
    "plt.ylabel('Engine')\n",
    "plt.figure(figsize=(5,3))\n",
    "plt.show()\n"
   ]
  },
  {
   "cell_type": "markdown",
   "id": "25d2e2a0",
   "metadata": {},
   "source": [
    "Heatmap"
   ]
  },
  {
   "cell_type": "code",
   "execution_count": 242,
   "id": "c4160c90",
   "metadata": {},
   "outputs": [
    {
     "data": {
      "text/plain": [
       "<Axes: >"
      ]
     },
     "execution_count": 242,
     "metadata": {},
     "output_type": "execute_result"
    },
    {
     "data": {
      "image/png": "[encoded data removed]",
      "text/plain": [
       "<Figure size 640x480 with 2 Axes>"
      ]
     },
     "metadata": {},
     "output_type": "display_data"
    }
   ],
   "source": [
    "dict1={'mileage':mileage,'engine':engine}\n",
    "df1=pd.DataFrame(dict1)\n",
    "df1.corr()\n",
    "sns.heatmap(df1.corr(), annot=True)"
   ]
  },
  {
   "cell_type": "code",
   "execution_count": 232,
   "id": "db08258d",
   "metadata": {},
   "outputs": [
    {
     "data": {
      "text/html": [
       "<div>\n",
       "<style scoped>\n",
       "    .dataframe tbody tr th:only-of-type {\n",
       "        vertical-align: middle;\n",
       "    }\n",
       "\n",
       "    .dataframe tbody tr th {\n",
       "        vertical-align: top;\n",
       "    }\n",
       "\n",
       "    .dataframe thead th {\n",
       "        text-align: right;\n",
       "    }\n",
       "</style>\n",
       "<table border=\"1\" class=\"dataframe\">\n",
       "  <thead>\n",
       "    <tr style=\"text-align: right;\">\n",
       "      <th></th>\n",
       "      <th>Year</th>\n",
       "      <th>Delivery_Time_Min</th>\n",
       "      <th>Restaurant_Rating</th>\n",
       "      <th>Price</th>\n",
       "      <th>Is_Repeated_Customer</th>\n",
       "      <th>month</th>\n",
       "    </tr>\n",
       "  </thead>\n",
       "  <tbody>\n",
       "    <tr>\n",
       "      <th>Year</th>\n",
       "      <td>1.000000</td>\n",
       "      <td>-0.009163</td>\n",
       "      <td>-0.005618</td>\n",
       "      <td>0.081940</td>\n",
       "      <td>0.041239</td>\n",
       "      <td>-0.855224</td>\n",
       "    </tr>\n",
       "    <tr>\n",
       "      <th>Delivery_Time_Min</th>\n",
       "      <td>-0.009163</td>\n",
       "      <td>1.000000</td>\n",
       "      <td>0.010966</td>\n",
       "      <td>-0.024645</td>\n",
       "      <td>-0.027733</td>\n",
       "      <td>0.003814</td>\n",
       "    </tr>\n",
       "    <tr>\n",
       "      <th>Restaurant_Rating</th>\n",
       "      <td>-0.005618</td>\n",
       "      <td>0.010966</td>\n",
       "      <td>1.000000</td>\n",
       "      <td>0.002213</td>\n",
       "      <td>-0.050840</td>\n",
       "      <td>-0.014221</td>\n",
       "    </tr>\n",
       "    <tr>\n",
       "      <th>Price</th>\n",
       "      <td>0.081940</td>\n",
       "      <td>-0.024645</td>\n",
       "      <td>0.002213</td>\n",
       "      <td>1.000000</td>\n",
       "      <td>0.018897</td>\n",
       "      <td>-0.052537</td>\n",
       "    </tr>\n",
       "    <tr>\n",
       "      <th>Is_Repeated_Customer</th>\n",
       "      <td>0.041239</td>\n",
       "      <td>-0.027733</td>\n",
       "      <td>-0.050840</td>\n",
       "      <td>0.018897</td>\n",
       "      <td>1.000000</td>\n",
       "      <td>-0.055407</td>\n",
       "    </tr>\n",
       "    <tr>\n",
       "      <th>month</th>\n",
       "      <td>-0.855224</td>\n",
       "      <td>0.003814</td>\n",
       "      <td>-0.014221</td>\n",
       "      <td>-0.052537</td>\n",
       "      <td>-0.055407</td>\n",
       "      <td>1.000000</td>\n",
       "    </tr>\n",
       "  </tbody>\n",
       "</table>\n",
       "</div>"
      ],
      "text/plain": [
       "                          Year  Delivery_Time_Min  Restaurant_Rating  \\\n",
       "Year                  1.000000          -0.009163          -0.005618   \n",
       "Delivery_Time_Min    -0.009163           1.000000           0.010966   \n",
       "Restaurant_Rating    -0.005618           0.010966           1.000000   \n",
       "Price                 0.081940          -0.024645           0.002213   \n",
       "Is_Repeated_Customer  0.041239          -0.027733          -0.050840   \n",
       "month                -0.855224           0.003814          -0.014221   \n",
       "\n",
       "                         Price  Is_Repeated_Customer     month  \n",
       "Year                  0.081940              0.041239 -0.855224  \n",
       "Delivery_Time_Min    -0.024645             -0.027733  0.003814  \n",
       "Restaurant_Rating     0.002213             -0.050840 -0.014221  \n",
       "Price                 1.000000              0.018897 -0.052537  \n",
       "Is_Repeated_Customer  0.018897              1.000000 -0.055407  \n",
       "month                -0.052537             -0.055407  1.000000  "
      ]
     },
     "execution_count": 232,
     "metadata": {},
     "output_type": "execute_result"
    }
   ],
   "source": [
    "df.corr(numeric_only=True)"
   ]
  },
  {
   "cell_type": "code",
   "execution_count": 238,
   "id": "0405b9e4",
   "metadata": {},
   "outputs": [
    {
     "data": {
      "text/plain": [
       "Text(0.5, 1.0, 'Heatmap of correlation matrix')"
      ]
     },
     "execution_count": 238,
     "metadata": {},
     "output_type": "execute_result"
    },
    {
     "data": {
      "image/png": "[encoded data removed]",
      "text/plain": [
       "<Figure size 500x300 with 2 Axes>"
      ]
     },
     "metadata": {},
     "output_type": "display_data"
    }
   ],
   "source": [
    "plt.figure(figsize=(5,3))\n",
    "sns.heatmap(df.corr(numeric_only=True), annot=True)\n",
    "plt.title('Heatmap of correlation matrix')"
   ]
  },
  {
   "cell_type": "markdown",
   "id": "dfca6888",
   "metadata": {},
   "source": [
    "Count Plot"
   ]
  },
  {
   "cell_type": "code",
   "execution_count": 248,
   "id": "5ada9590",
   "metadata": {},
   "outputs": [
    {
     "data": {
      "image/png": "[encoded data removed]",
      "text/plain": [
       "<Figure size 640x480 with 1 Axes>"
      ]
     },
     "metadata": {},
     "output_type": "display_data"
    }
   ],
   "source": [
    "sns.countplot(x=df['Payment_Method'], hue=df['Is_Repeated_Customer'])\n",
    "plt.title(\"Count plot of Payment Method in comparison with Repeated Customer\")\n",
    "plt.legend(['New Customer','Old Customer'])\n",
    "plt.show()"
   ]
  }
 ],
 "metadata": {
  "kernelspec": {
   "display_name": "Python 3",
   "language": "python",
   "name": "python3"
  },
  "language_info": {
   "codemirror_mode": {
    "name": "ipython",
    "version": 3
   },
   "file_extension": ".py",
   "mimetype": "text/x-python",
   "name": "python",
   "nbconvert_exporter": "python",
   "pygments_lexer": "ipython3",
   "version": "3.13.2"
  }
 },
 "nbformat": 4,
 "nbformat_minor": 5
}
