{
 "cells": [
  {
   "cell_type": "code",
   "execution_count": 1,
   "id": "845bcd8d",
   "metadata": {},
   "outputs": [],
   "source": [
    "import numpy as np"
   ]
  },
  {
   "cell_type": "markdown",
   "id": "d3751750",
   "metadata": {},
   "source": [
    "Exercise A1: Indexing with a List of Indices\n",
    "\n",
    "Array:\n",
    "\n",
    "arr = np.array([10, 20, 30, 40, 50])\n",
    "\n",
    "Task: Extract elements at indices [0, 2, 4] using advanced indexing.\n"
   ]
  },
  {
   "cell_type": "code",
   "execution_count": 6,
   "id": "1ba2d641",
   "metadata": {},
   "outputs": [
    {
     "data": {
      "text/plain": [
       "array([10, 30, 50])"
      ]
     },
     "execution_count": 6,
     "metadata": {},
     "output_type": "execute_result"
    }
   ],
   "source": [
    "arr = np.array([10,20,30,40,50])\n",
    "arr[::2]"
   ]
  },
  {
   "cell_type": "markdown",
   "id": "c10afcf3",
   "metadata": {},
   "source": [
    "Exercise A2: Fancy Indexing with a 2D Array\n",
    "\n",
    "Array:\n",
    "\n",
    "matrix = np.array([[5, 6, 7],\n",
    "                   [8, 9, 10],\n",
    "                   [11, 12, 13]])\n",
    "\n",
    "Task: Extract elements at positions (0,0), (1,1), and (2,2) using index arrays.\n"
   ]
  },
  {
   "cell_type": "code",
   "execution_count": 7,
   "id": "c982b67a",
   "metadata": {},
   "outputs": [
    {
     "data": {
      "text/plain": [
       "array([ 5,  9, 13])"
      ]
     },
     "execution_count": 7,
     "metadata": {},
     "output_type": "execute_result"
    }
   ],
   "source": [
    "matrix = np.array([[5, 6, 7],\n",
    "                   [8, 9, 10],\n",
    "                   [11, 12, 13]])\n",
    "matrix[[0,1,2],[0,1,2]]"
   ]
  },
  {
   "cell_type": "markdown",
   "id": "e7f4bce0",
   "metadata": {},
   "source": [
    "Exercise A3: Replace Multiple Specific Elements\n",
    "\n",
    "Array:\n",
    "\n",
    "arr = np.array([1, 3, 5, 7, 9])\n",
    "\n",
    "Task: Replace elements at indices [1, 3] with -1"
   ]
  },
  {
   "cell_type": "code",
   "execution_count": 25,
   "id": "47509be2",
   "metadata": {},
   "outputs": [
    {
     "data": {
      "text/plain": [
       "array([ 1, -1,  5, -1,  9])"
      ]
     },
     "execution_count": 25,
     "metadata": {},
     "output_type": "execute_result"
    }
   ],
   "source": [
    "arr = np.array([1, 3, 5, 7, 9])\n",
    "arr[[1,3]] = -1\n",
    "arr"
   ]
  },
  {
   "cell_type": "markdown",
   "id": "acf1d8c4",
   "metadata": {},
   "source": [
    "Exercise A4: Extract Elements Using Row and Column Indices\n",
    "\n",
    "Array:\n",
    "\n",
    "matrix = np.array([[1, 2, 3],\n",
    "                   [4, 5, 6],\n",
    "                   [7, 8, 9]])\n",
    "\n",
    "Task: Use row indices [0, 1, 2] and column indices [2, 1, 0] to extract [3, 5, 7].\n"
   ]
  },
  {
   "cell_type": "code",
   "execution_count": 12,
   "id": "17dd1a19",
   "metadata": {},
   "outputs": [
    {
     "data": {
      "text/plain": [
       "array([3, 5, 7])"
      ]
     },
     "execution_count": 12,
     "metadata": {},
     "output_type": "execute_result"
    }
   ],
   "source": [
    "matrix = np.array([[1, 2, 3],\n",
    "                   [4, 5, 6],\n",
    "                   [7, 8, 9]])\n",
    "matrix[[0,1,2],[2,1,0]]\n"
   ]
  },
  {
   "cell_type": "markdown",
   "id": "06d6de8d",
   "metadata": {},
   "source": [
    " Additional Boolean Indexing Questions\n",
    "\n",
    "🔹 Exercise B1: Boolean Indexing with Multiple Conditions\n",
    "\n",
    "Array:\n",
    "\n",
    "arr = np.array([10, 15, 20, 25, 30, 35, 40])\n",
    "\n",
    "Task: Select elements divisible by 5 but not divisible by 10.\n"
   ]
  },
  {
   "cell_type": "code",
   "execution_count": 13,
   "id": "63b62926",
   "metadata": {},
   "outputs": [
    {
     "data": {
      "text/plain": [
       "array([15, 25, 35])"
      ]
     },
     "execution_count": 13,
     "metadata": {},
     "output_type": "execute_result"
    }
   ],
   "source": [
    "arr = np.array([10, 15, 20, 25, 30, 35, 40])\n",
    "arr[(arr%5==0)&(arr%10!=0)]"
   ]
  },
  {
   "cell_type": "markdown",
   "id": "c0d33163",
   "metadata": {},
   "source": [
    "Exercise B2: Create a Boolean Mask\n",
    "\n",
    "Array:\n",
    "\n",
    "arr = np.array([4, 9, 12, 18, 21, 28])\n",
    "\n",
    "Task: Create a boolean mask for elements that are divisible by 3 and greater than 10"
   ]
  },
  {
   "cell_type": "code",
   "execution_count": 26,
   "id": "8e3e7d14",
   "metadata": {},
   "outputs": [
    {
     "data": {
      "text/plain": [
       "array([12, 18, 21])"
      ]
     },
     "execution_count": 26,
     "metadata": {},
     "output_type": "execute_result"
    }
   ],
   "source": [
    "arr = np.array([4, 9, 12, 18, 21, 28])\n",
    "mask = (arr%3==0)&(arr>10)\n",
    "arr[mask]"
   ]
  },
  {
   "cell_type": "markdown",
   "id": "4b28d165",
   "metadata": {},
   "source": [
    " Exercise B3: Filter with Boolean Mask from Another Array\n",
    "\n",
    "Arrays:\n",
    "\n",
    "scores = np.array([72, 45, 91, 83, 67])\n",
    "passed = np.array([True, False, True, True, False])\n",
    "\n",
    "Task: Use passed to filter scores of only the students who passed.\n"
   ]
  },
  {
   "cell_type": "code",
   "execution_count": 19,
   "id": "cd77e764",
   "metadata": {},
   "outputs": [
    {
     "data": {
      "text/plain": [
       "array([72, 91, 83])"
      ]
     },
     "execution_count": 19,
     "metadata": {},
     "output_type": "execute_result"
    }
   ],
   "source": [
    "scores = np.array([72, 45, 91, 83, 67])\n",
    "passed = np.array([True, False, True, True, False])\n",
    "filtered_scores = scores[passed]\n",
    "filtered_scores"
   ]
  },
  {
   "cell_type": "markdown",
   "id": "2e786bf6",
   "metadata": {},
   "source": [
    "Exercise B4: Modify Array Using Boolean Condition\n",
    "\n",
    "Array:\n",
    "\n",
    "arr = np.array([5, 10, 15, 20, 25])\n",
    "\n",
    "Task: Set all values less than 15 to 0 using boolean indexing.\n"
   ]
  },
  {
   "cell_type": "code",
   "execution_count": 22,
   "id": "382035c1",
   "metadata": {},
   "outputs": [
    {
     "data": {
      "text/plain": [
       "array([ 0,  0, 15, 20, 25])"
      ]
     },
     "execution_count": 22,
     "metadata": {},
     "output_type": "execute_result"
    }
   ],
   "source": [
    "arr = np.array([5, 10, 15, 20, 25])\n",
    "arr[arr<15] = 0\n",
    "arr"
   ]
  },
  {
   "cell_type": "markdown",
   "id": "69030164",
   "metadata": {},
   "source": [
    "Chessboard Pattern Generator\n",
    "\n",
    "Create an 8x8 array with a chessboard pattern (alternating Os and 1s), starting with 0 in the top-left corner.\n",
    "\n",
    "Hint: Use slicing or broadcasting"
   ]
  },
  {
   "cell_type": "code",
   "execution_count": 3,
   "id": "3388e575",
   "metadata": {},
   "outputs": [],
   "source": [
    "import numpy as np\n",
    "import matplotlib.pyplot as plt"
   ]
  },
  {
   "cell_type": "code",
   "execution_count": 4,
   "id": "2a989fbe",
   "metadata": {},
   "outputs": [
    {
     "data": {
      "text/plain": [
       "array([[0., 1., 0., 1., 0., 1., 0., 1.],\n",
       "       [1., 0., 1., 0., 1., 0., 1., 0.],\n",
       "       [0., 1., 0., 1., 0., 1., 0., 1.],\n",
       "       [1., 0., 1., 0., 1., 0., 1., 0.],\n",
       "       [0., 1., 0., 1., 0., 1., 0., 1.],\n",
       "       [1., 0., 1., 0., 1., 0., 1., 0.],\n",
       "       [0., 1., 0., 1., 0., 1., 0., 1.],\n",
       "       [1., 0., 1., 0., 1., 0., 1., 0.]])"
      ]
     },
     "execution_count": 4,
     "metadata": {},
     "output_type": "execute_result"
    }
   ],
   "source": [
    "chessboard = np.zeros((8,8))\n",
    "chessboard[::2,1::2] = 1\n",
    "chessboard[1::2,::2] = 1\n",
    "chessboard"
   ]
  },
  {
   "cell_type": "code",
   "execution_count": 9,
   "id": "73eb6575",
   "metadata": {},
   "outputs": [
    {
     "data": {
      "image/png": "[encoded data removed]",
      "text/plain": [
       "<Figure size 640x480 with 1 Axes>"
      ]
     },
     "metadata": {},
     "output_type": "display_data"
    }
   ],
   "source": [
    "plt.imshow(chessboard, cmap=\"gray\")\n",
    "plt.title(\"8x8 Chessboard Pattern\")\n",
    "plt.axis('off')  # Hide axis for cleaner look\n",
    "plt.show()"
   ]
  }
 ],
 "metadata": {
  "kernelspec": {
   "display_name": "Python 3",
   "language": "python",
   "name": "python3"
  },
  "language_info": {
   "codemirror_mode": {
    "name": "ipython",
    "version": 3
   },
   "file_extension": ".py",
   "mimetype": "text/x-python",
   "name": "python",
   "nbconvert_exporter": "python",
   "pygments_lexer": "ipython3",
   "version": "3.13.2"
  }
 },
 "nbformat": 4,
 "nbformat_minor": 5
}
