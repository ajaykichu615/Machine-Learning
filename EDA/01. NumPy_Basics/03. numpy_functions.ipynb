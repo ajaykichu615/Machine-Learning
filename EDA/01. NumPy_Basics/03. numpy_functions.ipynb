{
 "cells": [
  {
   "cell_type": "markdown",
   "id": "633f2749",
   "metadata": {},
   "source": [
    "Statistical Function in Numpy"
   ]
  },
  {
   "cell_type": "code",
   "execution_count": 2,
   "id": "b4becc12",
   "metadata": {},
   "outputs": [],
   "source": [
    "# min, max, sum, mean, median, standard deviation, variance"
   ]
  },
  {
   "cell_type": "code",
   "execution_count": 3,
   "id": "eb471010",
   "metadata": {},
   "outputs": [],
   "source": [
    "import numpy as np\n",
    "# (5,3)\n",
    "arr = np.array([[1,2,3],[4,5,6],[7,8,9],[10,11,12],[13,14,15]])"
   ]
  },
  {
   "cell_type": "code",
   "execution_count": 4,
   "id": "0e1cd3a3",
   "metadata": {},
   "outputs": [
    {
     "data": {
      "text/plain": [
       "array([[ 1,  2,  3],\n",
       "       [ 4,  5,  6],\n",
       "       [ 7,  8,  9],\n",
       "       [10, 11, 12],\n",
       "       [13, 14, 15]])"
      ]
     },
     "execution_count": 4,
     "metadata": {},
     "output_type": "execute_result"
    }
   ],
   "source": [
    "arr"
   ]
  },
  {
   "cell_type": "code",
   "execution_count": 5,
   "id": "b039c397",
   "metadata": {},
   "outputs": [
    {
     "data": {
      "text/plain": [
       "array([ 6, 15, 24, 33, 42])"
      ]
     },
     "execution_count": 5,
     "metadata": {},
     "output_type": "execute_result"
    }
   ],
   "source": [
    "arr.sum()       # sum of all values in the array\n",
    "arr.sum(axis=0) # sum of column values\n",
    "arr.sum(axis=1) # sum of row values"
   ]
  },
  {
   "cell_type": "code",
   "execution_count": 6,
   "id": "03839b63",
   "metadata": {},
   "outputs": [
    {
     "data": {
      "text/plain": [
       "array([ 2.,  5.,  8., 11., 14.])"
      ]
     },
     "execution_count": 6,
     "metadata": {},
     "output_type": "execute_result"
    }
   ],
   "source": [
    "arr.mean()          # mean of all values in the array\n",
    "arr.mean(axis=0)    # mean of column values\n",
    "arr.mean(axis=1)    # mean of row values\n",
    "                    # Note :  axis values 0,1 corresponds to x,y in a 2D array. When 3D, axis values increase."
   ]
  },
  {
   "cell_type": "code",
   "execution_count": 7,
   "id": "116075c4",
   "metadata": {},
   "outputs": [
    {
     "data": {
      "text/plain": [
       "array([ 2.,  5.,  8., 11., 14.])"
      ]
     },
     "execution_count": 7,
     "metadata": {},
     "output_type": "execute_result"
    }
   ],
   "source": [
    "np.median(arr)      # median() exists as a standalone function and not a built-in method in numpy module.\n",
    "np.median(arr,axis=0)\n",
    "np.median(arr,axis=1)\n"
   ]
  },
  {
   "cell_type": "code",
   "execution_count": 8,
   "id": "96ae4b06",
   "metadata": {},
   "outputs": [
    {
     "data": {
      "text/plain": [
       "np.float64(18.666666666666668)"
      ]
     },
     "execution_count": 8,
     "metadata": {},
     "output_type": "execute_result"
    }
   ],
   "source": [
    "arr.var()       # variance method"
   ]
  },
  {
   "cell_type": "code",
   "execution_count": 9,
   "id": "b5fb7e5c",
   "metadata": {},
   "outputs": [
    {
     "data": {
      "text/plain": [
       "np.int64(15)"
      ]
     },
     "execution_count": 9,
     "metadata": {},
     "output_type": "execute_result"
    }
   ],
   "source": [
    "arr.max()       # max method"
   ]
  },
  {
   "cell_type": "code",
   "execution_count": 10,
   "id": "5161acb4",
   "metadata": {},
   "outputs": [
    {
     "data": {
      "text/plain": [
       "np.float64(4.320493798938574)"
      ]
     },
     "execution_count": 10,
     "metadata": {},
     "output_type": "execute_result"
    }
   ],
   "source": [
    "arr.std()       # standard deviation"
   ]
  },
  {
   "cell_type": "code",
   "execution_count": 11,
   "id": "be90c812",
   "metadata": {},
   "outputs": [
    {
     "data": {
      "text/plain": [
       "array([2, 2, 2, 2, 2])"
      ]
     },
     "execution_count": 11,
     "metadata": {},
     "output_type": "execute_result"
    }
   ],
   "source": [
    "arr.argmin()    # functions that help identify the indices of the minimum and maximum values in an array\n",
    "arr.argmax(axis=1) "
   ]
  },
  {
   "cell_type": "code",
   "execution_count": 12,
   "id": "e3c3b40a",
   "metadata": {},
   "outputs": [
    {
     "data": {
      "text/plain": [
       "np.int64(7)"
      ]
     },
     "execution_count": 12,
     "metadata": {},
     "output_type": "execute_result"
    }
   ],
   "source": [
    "arr[2,1] = 35\n",
    "np.argmax(arr) # When you call np.argmax() without specifying an axis, \n",
    "               # NumPy flattens the 2D array into a 1D array and then finds \n",
    "               # the index of the maximum value as if it's a single sequence.\n"
   ]
  },
  {
   "cell_type": "code",
   "execution_count": 13,
   "id": "4ba5ab63",
   "metadata": {},
   "outputs": [
    {
     "data": {
      "text/plain": [
       "array([0, 0, 0, 0, 0])"
      ]
     },
     "execution_count": 13,
     "metadata": {},
     "output_type": "execute_result"
    }
   ],
   "source": [
    "np.argmin(arr,axis=1)"
   ]
  },
  {
   "cell_type": "code",
   "execution_count": 14,
   "id": "9468d30c",
   "metadata": {},
   "outputs": [
    {
     "data": {
      "text/plain": [
       "array([[ 1,  2,  3],\n",
       "       [ 4,  5,  6],\n",
       "       [ 7, 35,  9],\n",
       "       [10, 11, 12],\n",
       "       [13, 14, 15]])"
      ]
     },
     "execution_count": 14,
     "metadata": {},
     "output_type": "execute_result"
    }
   ],
   "source": [
    "arr"
   ]
  },
  {
   "cell_type": "code",
   "execution_count": 15,
   "id": "a69d78b2",
   "metadata": {},
   "outputs": [
    {
     "data": {
      "text/plain": [
       "array([[16, 17, 18],\n",
       "       [16, 17, 18],\n",
       "       [16, 17, 18],\n",
       "       [10, 11, 12],\n",
       "       [13, 14, 15]])"
      ]
     },
     "execution_count": 15,
     "metadata": {},
     "output_type": "execute_result"
    }
   ],
   "source": [
    "arr[0:3] = [16,17,18]\n",
    "arr"
   ]
  },
  {
   "cell_type": "code",
   "execution_count": 16,
   "id": "80eaacf3",
   "metadata": {},
   "outputs": [
    {
     "data": {
      "text/plain": [
       "(5, 3)"
      ]
     },
     "execution_count": 16,
     "metadata": {},
     "output_type": "execute_result"
    }
   ],
   "source": [
    "arr.shape"
   ]
  },
  {
   "cell_type": "code",
   "execution_count": 17,
   "id": "3b6661cb",
   "metadata": {},
   "outputs": [
    {
     "data": {
      "text/plain": [
       "array([[16],\n",
       "       [17],\n",
       "       [18],\n",
       "       [16],\n",
       "       [17],\n",
       "       [18],\n",
       "       [16],\n",
       "       [17],\n",
       "       [18],\n",
       "       [10],\n",
       "       [11],\n",
       "       [12],\n",
       "       [13],\n",
       "       [14],\n",
       "       [15]])"
      ]
     },
     "execution_count": 17,
     "metadata": {},
     "output_type": "execute_result"
    }
   ],
   "source": [
    "arr.reshape(15,1) # when reshaping, make sure the number of values are consistent.\n",
    "                  # In an array with shape (5,3) there will be 5x3 = 15 values.\n",
    "                  # Therefore when reshaping it, the value 15 should be maintained regardless of dimension of choice.\n",
    "                  "
   ]
  },
  {
   "cell_type": "code",
   "execution_count": 18,
   "id": "0db475f9",
   "metadata": {},
   "outputs": [
    {
     "data": {
      "text/plain": [
       "array([16, 17, 18, 16, 17, 18, 16, 17, 18, 10, 11, 12, 13, 14, 15])"
      ]
     },
     "execution_count": 18,
     "metadata": {},
     "output_type": "execute_result"
    }
   ],
   "source": [
    "arr.flatten() # Flattens any dimensional array to 1D"
   ]
  },
  {
   "cell_type": "code",
   "execution_count": null,
   "id": "80cefab4",
   "metadata": {},
   "outputs": [
    {
     "data": {
      "text/plain": [
       "array([1, 3, 5, 7, 9])"
      ]
     },
     "execution_count": 19,
     "metadata": {},
     "output_type": "execute_result"
    }
   ],
   "source": [
    "np.arange(1,11,2) # arange() always returns 1D array. Parameter - start, stop, step\n",
    "                  # Used to create a 1D array between a range.   "
   ]
  },
  {
   "cell_type": "code",
   "execution_count": 20,
   "id": "4310c793",
   "metadata": {},
   "outputs": [
    {
     "data": {
      "text/plain": [
       "array([[79, 47, 17, 14, 64],\n",
       "       [ 8, 34, 28, 80, 66],\n",
       "       [42, 97, 42, 27,  4],\n",
       "       [97, 12, 22, 82, 54],\n",
       "       [52,  3, 35, 37, 68],\n",
       "       [17, 50, 74, 72, 46],\n",
       "       [15, 25, 18, 31, 35],\n",
       "       [ 5, 96, 69, 74, 85],\n",
       "       [67, 55, 84, 91, 27],\n",
       "       [17, 20, 21, 62, 67]], dtype=int32)"
      ]
     },
     "execution_count": 20,
     "metadata": {},
     "output_type": "execute_result"
    }
   ],
   "source": [
    "np.random.randint(1,100,(10,5)) # Takes random numbers from the provided range and generates \n",
    "                                # a random set of array according to the provided shape.eg.(10,5)                                "
   ]
  },
  {
   "cell_type": "code",
   "execution_count": 21,
   "id": "96a047df",
   "metadata": {},
   "outputs": [
    {
     "data": {
      "text/plain": [
       "array([[0., 0., 0., 0., 0., 0.],\n",
       "       [0., 0., 0., 0., 0., 0.],\n",
       "       [0., 0., 0., 0., 0., 0.]])"
      ]
     },
     "execution_count": 21,
     "metadata": {},
     "output_type": "execute_result"
    }
   ],
   "source": [
    "np.zeros((3,6))"
   ]
  },
  {
   "cell_type": "code",
   "execution_count": 22,
   "id": "17b15db3",
   "metadata": {},
   "outputs": [
    {
     "data": {
      "text/plain": [
       "array([[1., 1., 1., 1., 1., 1., 1., 1., 1., 1.]])"
      ]
     },
     "execution_count": 22,
     "metadata": {},
     "output_type": "execute_result"
    }
   ],
   "source": [
    "np.ones((1,10))"
   ]
  },
  {
   "cell_type": "code",
   "execution_count": 23,
   "id": "2370755f",
   "metadata": {},
   "outputs": [
    {
     "data": {
      "text/plain": [
       "array([[5, 5, 5, 5, 5, 5, 5],\n",
       "       [5, 5, 5, 5, 5, 5, 5],\n",
       "       [5, 5, 5, 5, 5, 5, 5],\n",
       "       [5, 5, 5, 5, 5, 5, 5],\n",
       "       [5, 5, 5, 5, 5, 5, 5]])"
      ]
     },
     "execution_count": 23,
     "metadata": {},
     "output_type": "execute_result"
    }
   ],
   "source": [
    "np.full((5,7),5)"
   ]
  },
  {
   "cell_type": "markdown",
   "id": "33b335ca",
   "metadata": {},
   "source": [
    "### Array Operations"
   ]
  },
  {
   "cell_type": "code",
   "execution_count": 16,
   "id": "d52e26fa",
   "metadata": {},
   "outputs": [],
   "source": [
    "arr1 =  np.random.randint(1,20,(4,3))\n",
    "arr2 =  np.random.randint(1,20,(4,3))"
   ]
  },
  {
   "cell_type": "code",
   "execution_count": 17,
   "id": "6d5a4715",
   "metadata": {},
   "outputs": [
    {
     "data": {
      "text/plain": [
       "array([[ 4,  2,  2],\n",
       "       [ 1, 13, 18],\n",
       "       [ 4,  1, 10],\n",
       "       [ 8, 18,  6]], dtype=int32)"
      ]
     },
     "execution_count": 17,
     "metadata": {},
     "output_type": "execute_result"
    }
   ],
   "source": [
    "arr1"
   ]
  },
  {
   "cell_type": "code",
   "execution_count": 18,
   "id": "edb7e3c6",
   "metadata": {},
   "outputs": [
    {
     "data": {
      "text/plain": [
       "array([[ 3,  2,  9],\n",
       "       [18,  9, 12],\n",
       "       [ 5, 11,  8],\n",
       "       [11,  9,  4]], dtype=int32)"
      ]
     },
     "execution_count": 18,
     "metadata": {},
     "output_type": "execute_result"
    }
   ],
   "source": [
    "arr2"
   ]
  },
  {
   "cell_type": "code",
   "execution_count": 19,
   "id": "c15fb013",
   "metadata": {},
   "outputs": [
    {
     "data": {
      "text/plain": [
       "array([[ 7,  4, 11],\n",
       "       [19, 22, 30],\n",
       "       [ 9, 12, 18],\n",
       "       [19, 27, 10]], dtype=int32)"
      ]
     },
     "execution_count": 19,
     "metadata": {},
     "output_type": "execute_result"
    }
   ],
   "source": [
    "arr1 + arr2"
   ]
  },
  {
   "cell_type": "code",
   "execution_count": 20,
   "id": "59b43d42",
   "metadata": {},
   "outputs": [
    {
     "data": {
      "text/plain": [
       "array([[ 5,  3,  3],\n",
       "       [ 3, 15, 20],\n",
       "       [ 7,  4, 13],\n",
       "       [12, 22, 10]])"
      ]
     },
     "execution_count": 20,
     "metadata": {},
     "output_type": "execute_result"
    }
   ],
   "source": [
    "arr1 + [[1],[2],[3],[4]] # Each row gets the corresponding [1,2,3,4] value added to all columns."
   ]
  },
  {
   "cell_type": "code",
   "execution_count": 21,
   "id": "35fa4407",
   "metadata": {},
   "outputs": [],
   "source": [
    "import numpy as np"
   ]
  },
  {
   "cell_type": "code",
   "execution_count": 22,
   "id": "b001a120",
   "metadata": {},
   "outputs": [
    {
     "data": {
      "text/plain": [
       "array([[847, 510],\n",
       "       [400, 266],\n",
       "       [672, 456],\n",
       "       [476, 366]], dtype=int32)"
      ]
     },
     "execution_count": 22,
     "metadata": {},
     "output_type": "execute_result"
    }
   ],
   "source": [
    "arr1=np.random.randint(1,21,(4,5))\n",
    "arr2=np.random.randint(1,21,(5,2))\n",
    "\n",
    "np.matmul(arr1,arr2)  # matrix multiplication\n",
    "                      # Note : In matrix multiplication, number of columns in arr1 should be equal to rows in arr2."
   ]
  },
  {
   "cell_type": "code",
   "execution_count": 23,
   "id": "611bee55",
   "metadata": {},
   "outputs": [],
   "source": [
    "a = np.full((600,500,3),255) \n",
    "a[:,:,0] = 0"
   ]
  },
  {
   "cell_type": "code",
   "execution_count": 24,
   "id": "2522d783",
   "metadata": {},
   "outputs": [],
   "source": [
    "import matplotlib.pyplot as plt"
   ]
  },
  {
   "cell_type": "code",
   "execution_count": 25,
   "id": "4c50b63e",
   "metadata": {},
   "outputs": [
    {
     "data": {
      "text/plain": [
       "(np.float64(-0.5), np.float64(499.5), np.float64(599.5), np.float64(-0.5))"
      ]
     },
     "execution_count": 25,
     "metadata": {},
     "output_type": "execute_result"
    },
    {
     "data": {
      "image/png": "[encoded data removed]",
      "text/plain": [
       "<Figure size 640x480 with 1 Axes>"
      ]
     },
     "metadata": {},
     "output_type": "display_data"
    }
   ],
   "source": [
    "plt.imshow(a)\n",
    "plt.axis('off')"
   ]
  },
  {
   "cell_type": "code",
   "execution_count": 26,
   "id": "09a52bf2",
   "metadata": {},
   "outputs": [],
   "source": [
    "arr1 = [1,2,3,4,5]"
   ]
  },
  {
   "cell_type": "code",
   "execution_count": 32,
   "id": "27d818bf",
   "metadata": {},
   "outputs": [],
   "source": [
    "arr1[-1] = 'nan' # not a number\n",
    "               # dtype = float  -- This operation won't work because its different datatype"
   ]
  },
  {
   "cell_type": "code",
   "execution_count": 30,
   "id": "01f91508",
   "metadata": {},
   "outputs": [
    {
     "data": {
      "text/plain": [
       "array([ 1.,  2.,  3.,  4., nan])"
      ]
     },
     "execution_count": 30,
     "metadata": {},
     "output_type": "execute_result"
    }
   ],
   "source": [
    "arr1 = np.array(arr1, dtype='float')\n",
    "arr1[-1] = 'nan'\n",
    "arr1"
   ]
  }
 ],
 "metadata": {
  "kernelspec": {
   "display_name": "Python 3",
   "language": "python",
   "name": "python3"
  },
  "language_info": {
   "codemirror_mode": {
    "name": "ipython",
    "version": 3
   },
   "file_extension": ".py",
   "mimetype": "text/x-python",
   "name": "python",
   "nbconvert_exporter": "python",
   "pygments_lexer": "ipython3",
   "version": "3.13.2"
  }
 },
 "nbformat": 4,
 "nbformat_minor": 5
}
