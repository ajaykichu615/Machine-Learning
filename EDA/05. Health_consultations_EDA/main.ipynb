{
 "cells": [
  {
   "cell_type": "code",
   "execution_count": 2,
   "id": "f251b50d",
   "metadata": {},
   "outputs": [],
   "source": [
    "import pandas as pd\n",
    "import numpy as np\n",
    "import matplotlib.pyplot as plt\n",
    "from matplotlib.ticker import MaxNLocator\n",
    "import seaborn as sns"
   ]
  },
  {
   "cell_type": "code",
   "execution_count": 3,
   "id": "fcfdfd26",
   "metadata": {},
   "outputs": [],
   "source": [
    "df = pd.read_csv('health_consultations.csv')"
   ]
  },
  {
   "cell_type": "code",
   "execution_count": 4,
   "id": "ad2a60ce",
   "metadata": {},
   "outputs": [
    {
     "data": {
      "text/html": [
       "<div>\n",
       "<style scoped>\n",
       "    .dataframe tbody tr th:only-of-type {\n",
       "        vertical-align: middle;\n",
       "    }\n",
       "\n",
       "    .dataframe tbody tr th {\n",
       "        vertical-align: top;\n",
       "    }\n",
       "\n",
       "    .dataframe thead th {\n",
       "        text-align: right;\n",
       "    }\n",
       "</style>\n",
       "<table border=\"1\" class=\"dataframe\">\n",
       "  <thead>\n",
       "    <tr style=\"text-align: right;\">\n",
       "      <th></th>\n",
       "      <th>Booking_ID</th>\n",
       "      <th>Patient_Name</th>\n",
       "      <th>Consultation_Date</th>\n",
       "      <th>Doctor_Specialty</th>\n",
       "      <th>Consultation_Fee</th>\n",
       "      <th>Duration_Min</th>\n",
       "      <th>Rating</th>\n",
       "      <th>Booking_Platform</th>\n",
       "      <th>Is_Followup</th>\n",
       "      <th>Payment_Status</th>\n",
       "    </tr>\n",
       "  </thead>\n",
       "  <tbody>\n",
       "    <tr>\n",
       "      <th>0</th>\n",
       "      <td>BKG2000</td>\n",
       "      <td>Shannon Rodriguez</td>\n",
       "      <td>2024-11-11</td>\n",
       "      <td>ENT</td>\n",
       "      <td>574.51</td>\n",
       "      <td>40.0</td>\n",
       "      <td>4.0</td>\n",
       "      <td>Phone</td>\n",
       "      <td>1</td>\n",
       "      <td>Pending</td>\n",
       "    </tr>\n",
       "    <tr>\n",
       "      <th>1</th>\n",
       "      <td>BKG2001</td>\n",
       "      <td>Christopher Bush</td>\n",
       "      <td>2023-09-08</td>\n",
       "      <td>Cardiologist</td>\n",
       "      <td>479.26</td>\n",
       "      <td>69.0</td>\n",
       "      <td>4.0</td>\n",
       "      <td>App</td>\n",
       "      <td>1</td>\n",
       "      <td>Pending</td>\n",
       "    </tr>\n",
       "    <tr>\n",
       "      <th>2</th>\n",
       "      <td>BKG2002</td>\n",
       "      <td>Emily Mosley</td>\n",
       "      <td>2023-12-18</td>\n",
       "      <td>Cardiologist</td>\n",
       "      <td>597.15</td>\n",
       "      <td>69.0</td>\n",
       "      <td>4.0</td>\n",
       "      <td>Walk-in</td>\n",
       "      <td>0</td>\n",
       "      <td>Refunded</td>\n",
       "    </tr>\n",
       "    <tr>\n",
       "      <th>3</th>\n",
       "      <td>BKG2003</td>\n",
       "      <td>Adam Lawrence</td>\n",
       "      <td>2024-02-27</td>\n",
       "      <td>ENT</td>\n",
       "      <td>NaN</td>\n",
       "      <td>28.0</td>\n",
       "      <td>3.0</td>\n",
       "      <td>Phone</td>\n",
       "      <td>1</td>\n",
       "      <td>Refunded</td>\n",
       "    </tr>\n",
       "    <tr>\n",
       "      <th>4</th>\n",
       "      <td>BKG2004</td>\n",
       "      <td>Jessica Lester</td>\n",
       "      <td>2023-08-14</td>\n",
       "      <td>General Physician</td>\n",
       "      <td>464.88</td>\n",
       "      <td>58.0</td>\n",
       "      <td>2.0</td>\n",
       "      <td>Website</td>\n",
       "      <td>1</td>\n",
       "      <td>Pending</td>\n",
       "    </tr>\n",
       "    <tr>\n",
       "      <th>...</th>\n",
       "      <td>...</td>\n",
       "      <td>...</td>\n",
       "      <td>...</td>\n",
       "      <td>...</td>\n",
       "      <td>...</td>\n",
       "      <td>...</td>\n",
       "      <td>...</td>\n",
       "      <td>...</td>\n",
       "      <td>...</td>\n",
       "      <td>...</td>\n",
       "    </tr>\n",
       "    <tr>\n",
       "      <th>1510</th>\n",
       "      <td>BKG2152</td>\n",
       "      <td>Brandon Mendoza</td>\n",
       "      <td>2023-08-01</td>\n",
       "      <td>Psychiatrist</td>\n",
       "      <td>398.0</td>\n",
       "      <td>47.0</td>\n",
       "      <td>4.0</td>\n",
       "      <td>Walk-in</td>\n",
       "      <td>0</td>\n",
       "      <td>Paid</td>\n",
       "    </tr>\n",
       "    <tr>\n",
       "      <th>1511</th>\n",
       "      <td>BKG2931</td>\n",
       "      <td>Tyler Salazar</td>\n",
       "      <td>2024-06-02</td>\n",
       "      <td>General Physician</td>\n",
       "      <td>782.17</td>\n",
       "      <td>30.0</td>\n",
       "      <td>2.0</td>\n",
       "      <td>Walk-in</td>\n",
       "      <td>0</td>\n",
       "      <td>Paid</td>\n",
       "    </tr>\n",
       "    <tr>\n",
       "      <th>1512</th>\n",
       "      <td>BKG2886</td>\n",
       "      <td>Rachel Hogan</td>\n",
       "      <td>2023-11-21</td>\n",
       "      <td>General Physician</td>\n",
       "      <td>587.59</td>\n",
       "      <td>20.0</td>\n",
       "      <td>3.0</td>\n",
       "      <td>Website</td>\n",
       "      <td>1</td>\n",
       "      <td>Paid</td>\n",
       "    </tr>\n",
       "    <tr>\n",
       "      <th>1513</th>\n",
       "      <td>BKG2668</td>\n",
       "      <td>James Alexander</td>\n",
       "      <td>2023-09-09</td>\n",
       "      <td>Orthopedic</td>\n",
       "      <td>102.35</td>\n",
       "      <td>56.0</td>\n",
       "      <td>NaN</td>\n",
       "      <td>Phone</td>\n",
       "      <td>1</td>\n",
       "      <td>Unpaid</td>\n",
       "    </tr>\n",
       "    <tr>\n",
       "      <th>1514</th>\n",
       "      <td>BKG3163</td>\n",
       "      <td>Scott Jacobson</td>\n",
       "      <td>2025-04-11</td>\n",
       "      <td>Orthopedic</td>\n",
       "      <td>253.19</td>\n",
       "      <td>35.0</td>\n",
       "      <td>3.0</td>\n",
       "      <td>App</td>\n",
       "      <td>1</td>\n",
       "      <td>Pending</td>\n",
       "    </tr>\n",
       "  </tbody>\n",
       "</table>\n",
       "<p>1515 rows × 10 columns</p>\n",
       "</div>"
      ],
      "text/plain": [
       "     Booking_ID       Patient_Name Consultation_Date   Doctor_Specialty  \\\n",
       "0       BKG2000  Shannon Rodriguez        2024-11-11                ENT   \n",
       "1       BKG2001   Christopher Bush        2023-09-08       Cardiologist   \n",
       "2       BKG2002       Emily Mosley        2023-12-18       Cardiologist   \n",
       "3       BKG2003      Adam Lawrence        2024-02-27                ENT   \n",
       "4       BKG2004     Jessica Lester        2023-08-14  General Physician   \n",
       "...         ...                ...               ...                ...   \n",
       "1510    BKG2152    Brandon Mendoza        2023-08-01       Psychiatrist   \n",
       "1511    BKG2931      Tyler Salazar        2024-06-02  General Physician   \n",
       "1512    BKG2886       Rachel Hogan        2023-11-21  General Physician   \n",
       "1513    BKG2668    James Alexander        2023-09-09         Orthopedic   \n",
       "1514    BKG3163     Scott Jacobson        2025-04-11         Orthopedic   \n",
       "\n",
       "     Consultation_Fee Duration_Min  Rating Booking_Platform  Is_Followup  \\\n",
       "0              574.51         40.0     4.0            Phone            1   \n",
       "1              479.26         69.0     4.0              App            1   \n",
       "2              597.15         69.0     4.0          Walk-in            0   \n",
       "3                 NaN         28.0     3.0            Phone            1   \n",
       "4              464.88         58.0     2.0          Website            1   \n",
       "...               ...          ...     ...              ...          ...   \n",
       "1510            398.0         47.0     4.0          Walk-in            0   \n",
       "1511           782.17         30.0     2.0          Walk-in            0   \n",
       "1512           587.59         20.0     3.0          Website            1   \n",
       "1513           102.35         56.0     NaN            Phone            1   \n",
       "1514           253.19         35.0     3.0              App            1   \n",
       "\n",
       "     Payment_Status  \n",
       "0           Pending  \n",
       "1           Pending  \n",
       "2          Refunded  \n",
       "3          Refunded  \n",
       "4           Pending  \n",
       "...             ...  \n",
       "1510           Paid  \n",
       "1511           Paid  \n",
       "1512           Paid  \n",
       "1513         Unpaid  \n",
       "1514        Pending  \n",
       "\n",
       "[1515 rows x 10 columns]"
      ]
     },
     "execution_count": 4,
     "metadata": {},
     "output_type": "execute_result"
    }
   ],
   "source": [
    "df"
   ]
  },
  {
   "cell_type": "code",
   "execution_count": 5,
   "id": "7ebfd02e",
   "metadata": {},
   "outputs": [
    {
     "name": "stdout",
     "output_type": "stream",
     "text": [
      "<class 'pandas.core.frame.DataFrame'>\n",
      "RangeIndex: 1515 entries, 0 to 1514\n",
      "Data columns (total 10 columns):\n",
      " #   Column             Non-Null Count  Dtype  \n",
      "---  ------             --------------  -----  \n",
      " 0   Booking_ID         1515 non-null   object \n",
      " 1   Patient_Name       1515 non-null   object \n",
      " 2   Consultation_Date  1515 non-null   object \n",
      " 3   Doctor_Specialty   1515 non-null   object \n",
      " 4   Consultation_Fee   1485 non-null   object \n",
      " 5   Duration_Min       1485 non-null   object \n",
      " 6   Rating             1488 non-null   float64\n",
      " 7   Booking_Platform   1515 non-null   object \n",
      " 8   Is_Followup        1515 non-null   int64  \n",
      " 9   Payment_Status     1515 non-null   object \n",
      "dtypes: float64(1), int64(1), object(8)\n",
      "memory usage: 118.5+ KB\n"
     ]
    }
   ],
   "source": [
    "df.info()"
   ]
  },
  {
   "cell_type": "markdown",
   "id": "8b929214",
   "metadata": {},
   "source": [
    "_Missing Values_"
   ]
  },
  {
   "cell_type": "code",
   "execution_count": 6,
   "id": "f447209d",
   "metadata": {},
   "outputs": [
    {
     "data": {
      "text/plain": [
       "Booking_ID            0\n",
       "Patient_Name          0\n",
       "Consultation_Date     0\n",
       "Doctor_Specialty      0\n",
       "Consultation_Fee     30\n",
       "Duration_Min         30\n",
       "Rating               27\n",
       "Booking_Platform      0\n",
       "Is_Followup           0\n",
       "Payment_Status        0\n",
       "dtype: int64"
      ]
     },
     "execution_count": 6,
     "metadata": {},
     "output_type": "execute_result"
    }
   ],
   "source": [
    "df.isna().sum()"
   ]
  },
  {
   "cell_type": "code",
   "execution_count": 7,
   "id": "4b3835b7",
   "metadata": {},
   "outputs": [],
   "source": [
    "df.dropna(inplace=True)"
   ]
  },
  {
   "cell_type": "code",
   "execution_count": 8,
   "id": "eb84b0d0",
   "metadata": {},
   "outputs": [
    {
     "data": {
      "text/plain": [
       "Booking_ID           0\n",
       "Patient_Name         0\n",
       "Consultation_Date    0\n",
       "Doctor_Specialty     0\n",
       "Consultation_Fee     0\n",
       "Duration_Min         0\n",
       "Rating               0\n",
       "Booking_Platform     0\n",
       "Is_Followup          0\n",
       "Payment_Status       0\n",
       "dtype: int64"
      ]
     },
     "execution_count": 8,
     "metadata": {},
     "output_type": "execute_result"
    }
   ],
   "source": [
    "df.isna().sum()"
   ]
  },
  {
   "cell_type": "code",
   "execution_count": 9,
   "id": "025e8728",
   "metadata": {},
   "outputs": [
    {
     "data": {
      "text/plain": [
       "(1429, 10)"
      ]
     },
     "execution_count": 9,
     "metadata": {},
     "output_type": "execute_result"
    }
   ],
   "source": [
    "df.shape"
   ]
  },
  {
   "cell_type": "code",
   "execution_count": 10,
   "id": "2ca52ea9",
   "metadata": {},
   "outputs": [
    {
     "data": {
      "text/html": [
       "<div>\n",
       "<style scoped>\n",
       "    .dataframe tbody tr th:only-of-type {\n",
       "        vertical-align: middle;\n",
       "    }\n",
       "\n",
       "    .dataframe tbody tr th {\n",
       "        vertical-align: top;\n",
       "    }\n",
       "\n",
       "    .dataframe thead th {\n",
       "        text-align: right;\n",
       "    }\n",
       "</style>\n",
       "<table border=\"1\" class=\"dataframe\">\n",
       "  <thead>\n",
       "    <tr style=\"text-align: right;\">\n",
       "      <th></th>\n",
       "      <th>Booking_ID</th>\n",
       "      <th>Patient_Name</th>\n",
       "      <th>Consultation_Date</th>\n",
       "      <th>Doctor_Specialty</th>\n",
       "      <th>Consultation_Fee</th>\n",
       "      <th>Duration_Min</th>\n",
       "      <th>Rating</th>\n",
       "      <th>Booking_Platform</th>\n",
       "      <th>Is_Followup</th>\n",
       "      <th>Payment_Status</th>\n",
       "    </tr>\n",
       "  </thead>\n",
       "  <tbody>\n",
       "    <tr>\n",
       "      <th>0</th>\n",
       "      <td>BKG2000</td>\n",
       "      <td>Shannon Rodriguez</td>\n",
       "      <td>2024-11-11</td>\n",
       "      <td>ENT</td>\n",
       "      <td>574.51</td>\n",
       "      <td>40.0</td>\n",
       "      <td>4.0</td>\n",
       "      <td>Phone</td>\n",
       "      <td>1</td>\n",
       "      <td>Pending</td>\n",
       "    </tr>\n",
       "    <tr>\n",
       "      <th>1</th>\n",
       "      <td>BKG2001</td>\n",
       "      <td>Christopher Bush</td>\n",
       "      <td>2023-09-08</td>\n",
       "      <td>Cardiologist</td>\n",
       "      <td>479.26</td>\n",
       "      <td>69.0</td>\n",
       "      <td>4.0</td>\n",
       "      <td>App</td>\n",
       "      <td>1</td>\n",
       "      <td>Pending</td>\n",
       "    </tr>\n",
       "    <tr>\n",
       "      <th>2</th>\n",
       "      <td>BKG2002</td>\n",
       "      <td>Emily Mosley</td>\n",
       "      <td>2023-12-18</td>\n",
       "      <td>Cardiologist</td>\n",
       "      <td>597.15</td>\n",
       "      <td>69.0</td>\n",
       "      <td>4.0</td>\n",
       "      <td>Walk-in</td>\n",
       "      <td>0</td>\n",
       "      <td>Refunded</td>\n",
       "    </tr>\n",
       "    <tr>\n",
       "      <th>4</th>\n",
       "      <td>BKG2004</td>\n",
       "      <td>Jessica Lester</td>\n",
       "      <td>2023-08-14</td>\n",
       "      <td>General Physician</td>\n",
       "      <td>464.88</td>\n",
       "      <td>58.0</td>\n",
       "      <td>2.0</td>\n",
       "      <td>Website</td>\n",
       "      <td>1</td>\n",
       "      <td>Pending</td>\n",
       "    </tr>\n",
       "    <tr>\n",
       "      <th>5</th>\n",
       "      <td>BKG2005</td>\n",
       "      <td>Mr. Mark Edwards</td>\n",
       "      <td>2024-05-23</td>\n",
       "      <td>Dermatologist</td>\n",
       "      <td>464.88</td>\n",
       "      <td>72.0</td>\n",
       "      <td>3.0</td>\n",
       "      <td>App</td>\n",
       "      <td>0</td>\n",
       "      <td>Paid</td>\n",
       "    </tr>\n",
       "  </tbody>\n",
       "</table>\n",
       "</div>"
      ],
      "text/plain": [
       "  Booking_ID       Patient_Name Consultation_Date   Doctor_Specialty  \\\n",
       "0    BKG2000  Shannon Rodriguez        2024-11-11                ENT   \n",
       "1    BKG2001   Christopher Bush        2023-09-08       Cardiologist   \n",
       "2    BKG2002       Emily Mosley        2023-12-18       Cardiologist   \n",
       "4    BKG2004     Jessica Lester        2023-08-14  General Physician   \n",
       "5    BKG2005   Mr. Mark Edwards        2024-05-23      Dermatologist   \n",
       "\n",
       "  Consultation_Fee Duration_Min  Rating Booking_Platform  Is_Followup  \\\n",
       "0           574.51         40.0     4.0            Phone            1   \n",
       "1           479.26         69.0     4.0              App            1   \n",
       "2           597.15         69.0     4.0          Walk-in            0   \n",
       "4           464.88         58.0     2.0          Website            1   \n",
       "5           464.88         72.0     3.0              App            0   \n",
       "\n",
       "  Payment_Status  \n",
       "0        Pending  \n",
       "1        Pending  \n",
       "2       Refunded  \n",
       "4        Pending  \n",
       "5           Paid  "
      ]
     },
     "execution_count": 10,
     "metadata": {},
     "output_type": "execute_result"
    }
   ],
   "source": [
    "df.head()"
   ]
  },
  {
   "cell_type": "markdown",
   "id": "8b796531",
   "metadata": {},
   "source": [
    "_Type Conversion_"
   ]
  },
  {
   "cell_type": "code",
   "execution_count": 11,
   "id": "d4c99c98",
   "metadata": {},
   "outputs": [
    {
     "data": {
      "text/plain": [
       "Booking_ID            object\n",
       "Patient_Name          object\n",
       "Consultation_Date     object\n",
       "Doctor_Specialty      object\n",
       "Consultation_Fee      object\n",
       "Duration_Min          object\n",
       "Rating               float64\n",
       "Booking_Platform      object\n",
       "Is_Followup            int64\n",
       "Payment_Status        object\n",
       "dtype: object"
      ]
     },
     "execution_count": 11,
     "metadata": {},
     "output_type": "execute_result"
    }
   ],
   "source": [
    "df.dtypes"
   ]
  },
  {
   "cell_type": "code",
   "execution_count": 13,
   "id": "5efc140a",
   "metadata": {},
   "outputs": [],
   "source": [
    "df['Consultation_Fee']=df['Consultation_Fee'].astype(float)"
   ]
  },
  {
   "cell_type": "code",
   "execution_count": 12,
   "id": "e2b4a293",
   "metadata": {},
   "outputs": [],
   "source": [
    "df['Consultation_Fee']=df['Consultation_Fee'].str.replace('Five Hundred','500')"
   ]
  },
  {
   "cell_type": "code",
   "execution_count": 16,
   "id": "bc9474b3",
   "metadata": {},
   "outputs": [],
   "source": [
    "df['Duration_Min']=df['Duration_Min'].astype(float)"
   ]
  },
  {
   "cell_type": "code",
   "execution_count": 15,
   "id": "c38104ab",
   "metadata": {},
   "outputs": [],
   "source": [
    "df['Duration_Min']=df['Duration_Min'].str.replace('Ninety','90.0')"
   ]
  },
  {
   "cell_type": "markdown",
   "id": "8d510f1b",
   "metadata": {},
   "source": [
    "_Duplicates removal_"
   ]
  },
  {
   "cell_type": "code",
   "execution_count": 17,
   "id": "36c6daa2",
   "metadata": {},
   "outputs": [
    {
     "data": {
      "text/plain": [
       "np.int64(14)"
      ]
     },
     "execution_count": 17,
     "metadata": {},
     "output_type": "execute_result"
    }
   ],
   "source": [
    "df.duplicated().sum()"
   ]
  },
  {
   "cell_type": "code",
   "execution_count": 18,
   "id": "d04ecdb0",
   "metadata": {},
   "outputs": [],
   "source": [
    "df.drop_duplicates(inplace=True)"
   ]
  },
  {
   "cell_type": "markdown",
   "metadata": {},
   "source": [
    "1. What is the shape of the dataset?"
   ]
  },
  {
   "cell_type": "code",
   "execution_count": 19,
   "id": "309d2dc6",
   "metadata": {},
   "outputs": [
    {
     "data": {
      "text/plain": [
       "(1415, 10)"
      ]
     },
     "execution_count": 19,
     "metadata": {},
     "output_type": "execute_result"
    }
   ],
   "source": [
    "df.shape"
   ]
  },
  {
   "cell_type": "markdown",
   "id": "d2805ff5",
   "metadata": {},
   "source": [
    "\n",
    "2. What are the names and data types of the columns?"
   ]
  },
  {
   "cell_type": "code",
   "execution_count": 20,
   "id": "7d3cffbd",
   "metadata": {},
   "outputs": [
    {
     "data": {
      "text/plain": [
       "Booking_ID            object\n",
       "Patient_Name          object\n",
       "Consultation_Date     object\n",
       "Doctor_Specialty      object\n",
       "Consultation_Fee     float64\n",
       "Duration_Min         float64\n",
       "Rating               float64\n",
       "Booking_Platform      object\n",
       "Is_Followup            int64\n",
       "Payment_Status        object\n",
       "dtype: object"
      ]
     },
     "execution_count": 20,
     "metadata": {},
     "output_type": "execute_result"
    }
   ],
   "source": [
    "df.dtypes"
   ]
  },
  {
   "cell_type": "markdown",
   "id": "ef38a28c",
   "metadata": {},
   "source": [
    "3. Display the first 5 and last 5 rows of the dataset."
   ]
  },
  {
   "cell_type": "code",
   "execution_count": 21,
   "id": "f524795c",
   "metadata": {},
   "outputs": [
    {
     "data": {
      "text/html": [
       "<div>\n",
       "<style scoped>\n",
       "    .dataframe tbody tr th:only-of-type {\n",
       "        vertical-align: middle;\n",
       "    }\n",
       "\n",
       "    .dataframe tbody tr th {\n",
       "        vertical-align: top;\n",
       "    }\n",
       "\n",
       "    .dataframe thead th {\n",
       "        text-align: right;\n",
       "    }\n",
       "</style>\n",
       "<table border=\"1\" class=\"dataframe\">\n",
       "  <thead>\n",
       "    <tr style=\"text-align: right;\">\n",
       "      <th></th>\n",
       "      <th>Booking_ID</th>\n",
       "      <th>Patient_Name</th>\n",
       "      <th>Consultation_Date</th>\n",
       "      <th>Doctor_Specialty</th>\n",
       "      <th>Consultation_Fee</th>\n",
       "      <th>Duration_Min</th>\n",
       "      <th>Rating</th>\n",
       "      <th>Booking_Platform</th>\n",
       "      <th>Is_Followup</th>\n",
       "      <th>Payment_Status</th>\n",
       "    </tr>\n",
       "  </thead>\n",
       "  <tbody>\n",
       "    <tr>\n",
       "      <th>0</th>\n",
       "      <td>BKG2000</td>\n",
       "      <td>Shannon Rodriguez</td>\n",
       "      <td>2024-11-11</td>\n",
       "      <td>ENT</td>\n",
       "      <td>574.51</td>\n",
       "      <td>40.0</td>\n",
       "      <td>4.0</td>\n",
       "      <td>Phone</td>\n",
       "      <td>1</td>\n",
       "      <td>Pending</td>\n",
       "    </tr>\n",
       "    <tr>\n",
       "      <th>1</th>\n",
       "      <td>BKG2001</td>\n",
       "      <td>Christopher Bush</td>\n",
       "      <td>2023-09-08</td>\n",
       "      <td>Cardiologist</td>\n",
       "      <td>479.26</td>\n",
       "      <td>69.0</td>\n",
       "      <td>4.0</td>\n",
       "      <td>App</td>\n",
       "      <td>1</td>\n",
       "      <td>Pending</td>\n",
       "    </tr>\n",
       "    <tr>\n",
       "      <th>2</th>\n",
       "      <td>BKG2002</td>\n",
       "      <td>Emily Mosley</td>\n",
       "      <td>2023-12-18</td>\n",
       "      <td>Cardiologist</td>\n",
       "      <td>597.15</td>\n",
       "      <td>69.0</td>\n",
       "      <td>4.0</td>\n",
       "      <td>Walk-in</td>\n",
       "      <td>0</td>\n",
       "      <td>Refunded</td>\n",
       "    </tr>\n",
       "    <tr>\n",
       "      <th>4</th>\n",
       "      <td>BKG2004</td>\n",
       "      <td>Jessica Lester</td>\n",
       "      <td>2023-08-14</td>\n",
       "      <td>General Physician</td>\n",
       "      <td>464.88</td>\n",
       "      <td>58.0</td>\n",
       "      <td>2.0</td>\n",
       "      <td>Website</td>\n",
       "      <td>1</td>\n",
       "      <td>Pending</td>\n",
       "    </tr>\n",
       "    <tr>\n",
       "      <th>5</th>\n",
       "      <td>BKG2005</td>\n",
       "      <td>Mr. Mark Edwards</td>\n",
       "      <td>2024-05-23</td>\n",
       "      <td>Dermatologist</td>\n",
       "      <td>464.88</td>\n",
       "      <td>72.0</td>\n",
       "      <td>3.0</td>\n",
       "      <td>App</td>\n",
       "      <td>0</td>\n",
       "      <td>Paid</td>\n",
       "    </tr>\n",
       "    <tr>\n",
       "      <th>...</th>\n",
       "      <td>...</td>\n",
       "      <td>...</td>\n",
       "      <td>...</td>\n",
       "      <td>...</td>\n",
       "      <td>...</td>\n",
       "      <td>...</td>\n",
       "      <td>...</td>\n",
       "      <td>...</td>\n",
       "      <td>...</td>\n",
       "      <td>...</td>\n",
       "    </tr>\n",
       "    <tr>\n",
       "      <th>1495</th>\n",
       "      <td>BKG3495</td>\n",
       "      <td>Jennifer Soto</td>\n",
       "      <td>2025-06-13</td>\n",
       "      <td>General Physician</td>\n",
       "      <td>800.91</td>\n",
       "      <td>68.0</td>\n",
       "      <td>2.0</td>\n",
       "      <td>Walk-in</td>\n",
       "      <td>0</td>\n",
       "      <td>Pending</td>\n",
       "    </tr>\n",
       "    <tr>\n",
       "      <th>1496</th>\n",
       "      <td>BKG3496</td>\n",
       "      <td>Kevin Hernandez</td>\n",
       "      <td>2024-10-11</td>\n",
       "      <td>Cardiologist</td>\n",
       "      <td>809.23</td>\n",
       "      <td>72.0</td>\n",
       "      <td>3.0</td>\n",
       "      <td>Walk-in</td>\n",
       "      <td>0</td>\n",
       "      <td>Pending</td>\n",
       "    </tr>\n",
       "    <tr>\n",
       "      <th>1497</th>\n",
       "      <td>BKG3497</td>\n",
       "      <td>Jodi Coleman</td>\n",
       "      <td>2024-06-06</td>\n",
       "      <td>ENT</td>\n",
       "      <td>681.25</td>\n",
       "      <td>86.0</td>\n",
       "      <td>4.0</td>\n",
       "      <td>App</td>\n",
       "      <td>1</td>\n",
       "      <td>Refunded</td>\n",
       "    </tr>\n",
       "    <tr>\n",
       "      <th>1498</th>\n",
       "      <td>BKG3498</td>\n",
       "      <td>Jason Brady</td>\n",
       "      <td>2024-09-27</td>\n",
       "      <td>General Physician</td>\n",
       "      <td>653.61</td>\n",
       "      <td>55.0</td>\n",
       "      <td>4.0</td>\n",
       "      <td>App</td>\n",
       "      <td>1</td>\n",
       "      <td>Unpaid</td>\n",
       "    </tr>\n",
       "    <tr>\n",
       "      <th>1499</th>\n",
       "      <td>BKG3499</td>\n",
       "      <td>David Lynn</td>\n",
       "      <td>2025-05-14</td>\n",
       "      <td>Orthopedic</td>\n",
       "      <td>588.88</td>\n",
       "      <td>12.0</td>\n",
       "      <td>2.0</td>\n",
       "      <td>Walk-in</td>\n",
       "      <td>0</td>\n",
       "      <td>Refunded</td>\n",
       "    </tr>\n",
       "  </tbody>\n",
       "</table>\n",
       "<p>1415 rows × 10 columns</p>\n",
       "</div>"
      ],
      "text/plain": [
       "     Booking_ID       Patient_Name Consultation_Date   Doctor_Specialty  \\\n",
       "0       BKG2000  Shannon Rodriguez        2024-11-11                ENT   \n",
       "1       BKG2001   Christopher Bush        2023-09-08       Cardiologist   \n",
       "2       BKG2002       Emily Mosley        2023-12-18       Cardiologist   \n",
       "4       BKG2004     Jessica Lester        2023-08-14  General Physician   \n",
       "5       BKG2005   Mr. Mark Edwards        2024-05-23      Dermatologist   \n",
       "...         ...                ...               ...                ...   \n",
       "1495    BKG3495      Jennifer Soto        2025-06-13  General Physician   \n",
       "1496    BKG3496    Kevin Hernandez        2024-10-11       Cardiologist   \n",
       "1497    BKG3497       Jodi Coleman        2024-06-06                ENT   \n",
       "1498    BKG3498        Jason Brady        2024-09-27  General Physician   \n",
       "1499    BKG3499         David Lynn        2025-05-14         Orthopedic   \n",
       "\n",
       "      Consultation_Fee  Duration_Min  Rating Booking_Platform  Is_Followup  \\\n",
       "0               574.51          40.0     4.0            Phone            1   \n",
       "1               479.26          69.0     4.0              App            1   \n",
       "2               597.15          69.0     4.0          Walk-in            0   \n",
       "4               464.88          58.0     2.0          Website            1   \n",
       "5               464.88          72.0     3.0              App            0   \n",
       "...                ...           ...     ...              ...          ...   \n",
       "1495            800.91          68.0     2.0          Walk-in            0   \n",
       "1496            809.23          72.0     3.0          Walk-in            0   \n",
       "1497            681.25          86.0     4.0              App            1   \n",
       "1498            653.61          55.0     4.0              App            1   \n",
       "1499            588.88          12.0     2.0          Walk-in            0   \n",
       "\n",
       "     Payment_Status  \n",
       "0           Pending  \n",
       "1           Pending  \n",
       "2          Refunded  \n",
       "4           Pending  \n",
       "5              Paid  \n",
       "...             ...  \n",
       "1495        Pending  \n",
       "1496        Pending  \n",
       "1497       Refunded  \n",
       "1498         Unpaid  \n",
       "1499       Refunded  \n",
       "\n",
       "[1415 rows x 10 columns]"
      ]
     },
     "execution_count": 21,
     "metadata": {},
     "output_type": "execute_result"
    }
   ],
   "source": [
    "df"
   ]
  },
  {
   "cell_type": "markdown",
   "id": "c84c019d",
   "metadata": {},
   "source": [
    "4. Are there any missing values? If so, which columns and how many?"
   ]
  },
  {
   "cell_type": "code",
   "execution_count": 22,
   "id": "843a2297",
   "metadata": {},
   "outputs": [
    {
     "data": {
      "text/plain": [
       "Booking_ID           0\n",
       "Patient_Name         0\n",
       "Consultation_Date    0\n",
       "Doctor_Specialty     0\n",
       "Consultation_Fee     0\n",
       "Duration_Min         0\n",
       "Rating               0\n",
       "Booking_Platform     0\n",
       "Is_Followup          0\n",
       "Payment_Status       0\n",
       "dtype: int64"
      ]
     },
     "execution_count": 22,
     "metadata": {},
     "output_type": "execute_result"
    }
   ],
   "source": [
    "df.isna().sum()"
   ]
  },
  {
   "cell_type": "markdown",
   "id": "b60a96e0",
   "metadata": {},
   "source": [
    "5. Are there any duplicate rows?"
   ]
  },
  {
   "cell_type": "code",
   "execution_count": 23,
   "id": "7b884136",
   "metadata": {},
   "outputs": [],
   "source": [
    "df=df.drop_duplicates()"
   ]
  },
  {
   "cell_type": "code",
   "execution_count": 24,
   "id": "3db93146",
   "metadata": {},
   "outputs": [
    {
     "data": {
      "text/plain": [
       "(1415, 10)"
      ]
     },
     "execution_count": 24,
     "metadata": {},
     "output_type": "execute_result"
    }
   ],
   "source": [
    "df.shape"
   ]
  },
  {
   "cell_type": "markdown",
   "id": "17110982",
   "metadata": {},
   "source": [
    "6. How many unique specialties of doctors are there?"
   ]
  },
  {
   "cell_type": "code",
   "execution_count": 26,
   "id": "bfaca139",
   "metadata": {},
   "outputs": [
    {
     "data": {
      "text/plain": [
       "6"
      ]
     },
     "execution_count": 26,
     "metadata": {},
     "output_type": "execute_result"
    }
   ],
   "source": [
    "df['Doctor_Specialty'].nunique()"
   ]
  },
  {
   "cell_type": "markdown",
   "id": "eb9e3e6c",
   "metadata": {},
   "source": [
    "\n",
    "7. Are there any invalid or inconsistent data types?"
   ]
  },
  {
   "cell_type": "code",
   "execution_count": 27,
   "id": "d1bc4a33",
   "metadata": {},
   "outputs": [
    {
     "data": {
      "text/plain": [
       "Booking_ID            object\n",
       "Patient_Name          object\n",
       "Consultation_Date     object\n",
       "Doctor_Specialty      object\n",
       "Consultation_Fee     float64\n",
       "Duration_Min         float64\n",
       "Rating               float64\n",
       "Booking_Platform      object\n",
       "Is_Followup            int64\n",
       "Payment_Status        object\n",
       "dtype: object"
      ]
     },
     "execution_count": 27,
     "metadata": {},
     "output_type": "execute_result"
    }
   ],
   "source": [
    "df.dtypes"
   ]
  },
  {
   "cell_type": "markdown",
   "id": "07b84ace",
   "metadata": {},
   "source": [
    "8. Convert the Consultation_Date column to proper datetime format. Are there any errors?\n"
   ]
  },
  {
   "cell_type": "code",
   "execution_count": 29,
   "id": "e1d15794",
   "metadata": {},
   "outputs": [],
   "source": [
    "df['Consultation_Date'] = df['Consultation_Date'].astype('datetime64[ns]')"
   ]
  },
  {
   "cell_type": "code",
   "execution_count": 28,
   "id": "ad4e9778",
   "metadata": {},
   "outputs": [],
   "source": [
    "df.loc[10, 'Consultation_Date'] = '2023-12-31'"
   ]
  },
  {
   "cell_type": "markdown",
   "id": "39d0ab1c",
   "metadata": {},
   "source": [
    "9. Identify and remove or fix rows with incorrect data in Consultation_Fee and Duration_Min."
   ]
  },
  {
   "cell_type": "markdown",
   "id": "96ebabf1",
   "metadata": {},
   "source": [
    "\n",
    "10. Handle missing values using appropriate imputation strategies.\n"
   ]
  },
  {
   "cell_type": "code",
   "execution_count": 30,
   "id": "6352c61d",
   "metadata": {},
   "outputs": [
    {
     "data": {
      "text/html": [
       "<div>\n",
       "<style scoped>\n",
       "    .dataframe tbody tr th:only-of-type {\n",
       "        vertical-align: middle;\n",
       "    }\n",
       "\n",
       "    .dataframe tbody tr th {\n",
       "        vertical-align: top;\n",
       "    }\n",
       "\n",
       "    .dataframe thead th {\n",
       "        text-align: right;\n",
       "    }\n",
       "</style>\n",
       "<table border=\"1\" class=\"dataframe\">\n",
       "  <thead>\n",
       "    <tr style=\"text-align: right;\">\n",
       "      <th></th>\n",
       "      <th>Booking_ID</th>\n",
       "      <th>Patient_Name</th>\n",
       "      <th>Consultation_Date</th>\n",
       "      <th>Doctor_Specialty</th>\n",
       "      <th>Consultation_Fee</th>\n",
       "      <th>Duration_Min</th>\n",
       "      <th>Rating</th>\n",
       "      <th>Booking_Platform</th>\n",
       "      <th>Is_Followup</th>\n",
       "      <th>Payment_Status</th>\n",
       "    </tr>\n",
       "  </thead>\n",
       "  <tbody>\n",
       "    <tr>\n",
       "      <th>0</th>\n",
       "      <td>BKG2000</td>\n",
       "      <td>Shannon Rodriguez</td>\n",
       "      <td>2024-11-11</td>\n",
       "      <td>ENT</td>\n",
       "      <td>574.51</td>\n",
       "      <td>40.0</td>\n",
       "      <td>4.0</td>\n",
       "      <td>Phone</td>\n",
       "      <td>1</td>\n",
       "      <td>Pending</td>\n",
       "    </tr>\n",
       "    <tr>\n",
       "      <th>1</th>\n",
       "      <td>BKG2001</td>\n",
       "      <td>Christopher Bush</td>\n",
       "      <td>2023-09-08</td>\n",
       "      <td>Cardiologist</td>\n",
       "      <td>479.26</td>\n",
       "      <td>69.0</td>\n",
       "      <td>4.0</td>\n",
       "      <td>App</td>\n",
       "      <td>1</td>\n",
       "      <td>Pending</td>\n",
       "    </tr>\n",
       "    <tr>\n",
       "      <th>2</th>\n",
       "      <td>BKG2002</td>\n",
       "      <td>Emily Mosley</td>\n",
       "      <td>2023-12-18</td>\n",
       "      <td>Cardiologist</td>\n",
       "      <td>597.15</td>\n",
       "      <td>69.0</td>\n",
       "      <td>4.0</td>\n",
       "      <td>Walk-in</td>\n",
       "      <td>0</td>\n",
       "      <td>Refunded</td>\n",
       "    </tr>\n",
       "    <tr>\n",
       "      <th>4</th>\n",
       "      <td>BKG2004</td>\n",
       "      <td>Jessica Lester</td>\n",
       "      <td>2023-08-14</td>\n",
       "      <td>General Physician</td>\n",
       "      <td>464.88</td>\n",
       "      <td>58.0</td>\n",
       "      <td>2.0</td>\n",
       "      <td>Website</td>\n",
       "      <td>1</td>\n",
       "      <td>Pending</td>\n",
       "    </tr>\n",
       "    <tr>\n",
       "      <th>5</th>\n",
       "      <td>BKG2005</td>\n",
       "      <td>Mr. Mark Edwards</td>\n",
       "      <td>2024-05-23</td>\n",
       "      <td>Dermatologist</td>\n",
       "      <td>464.88</td>\n",
       "      <td>72.0</td>\n",
       "      <td>3.0</td>\n",
       "      <td>App</td>\n",
       "      <td>0</td>\n",
       "      <td>Paid</td>\n",
       "    </tr>\n",
       "  </tbody>\n",
       "</table>\n",
       "</div>"
      ],
      "text/plain": [
       "  Booking_ID       Patient_Name Consultation_Date   Doctor_Specialty  \\\n",
       "0    BKG2000  Shannon Rodriguez        2024-11-11                ENT   \n",
       "1    BKG2001   Christopher Bush        2023-09-08       Cardiologist   \n",
       "2    BKG2002       Emily Mosley        2023-12-18       Cardiologist   \n",
       "4    BKG2004     Jessica Lester        2023-08-14  General Physician   \n",
       "5    BKG2005   Mr. Mark Edwards        2024-05-23      Dermatologist   \n",
       "\n",
       "   Consultation_Fee  Duration_Min  Rating Booking_Platform  Is_Followup  \\\n",
       "0            574.51          40.0     4.0            Phone            1   \n",
       "1            479.26          69.0     4.0              App            1   \n",
       "2            597.15          69.0     4.0          Walk-in            0   \n",
       "4            464.88          58.0     2.0          Website            1   \n",
       "5            464.88          72.0     3.0              App            0   \n",
       "\n",
       "  Payment_Status  \n",
       "0        Pending  \n",
       "1        Pending  \n",
       "2       Refunded  \n",
       "4        Pending  \n",
       "5           Paid  "
      ]
     },
     "execution_count": 30,
     "metadata": {},
     "output_type": "execute_result"
    }
   ],
   "source": [
    "df.head()"
   ]
  },
  {
   "cell_type": "markdown",
   "id": "bbe1149b",
   "metadata": {},
   "source": [
    "11. Remove or cap outliers in Consultation_Fee and Duration_Min.\n"
   ]
  },
  {
   "cell_type": "code",
   "execution_count": 31,
   "id": "0e43ff5d",
   "metadata": {},
   "outputs": [
    {
     "data": {
      "text/plain": [
       "<function matplotlib.pyplot.show(close=None, block=None)>"
      ]
     },
     "execution_count": 31,
     "metadata": {},
     "output_type": "execute_result"
    },
    {
     "data": {
      "image/png": "[encoded data removed]",
      "text/plain": [
       "<Figure size 500x300 with 1 Axes>"
      ]
     },
     "metadata": {},
     "output_type": "display_data"
    }
   ],
   "source": [
    "plt.figure(figsize=(5, 3))\n",
    "plt.boxplot(df['Consultation_Fee'])\n",
    "plt.gca().yaxis.set_major_locator(MaxNLocator(integer=True, prune=\"both\"))\n",
    "plt.title('Boxplot of Consultation Fee')\n",
    "plt.show"
   ]
  },
  {
   "cell_type": "code",
   "execution_count": 33,
   "id": "06571826",
   "metadata": {},
   "outputs": [],
   "source": [
    "Q1 = df[\"Consultation_Fee\"].quantile(0.25)\n",
    "Q3 = df[\"Consultation_Fee\"].quantile(0.75)\n",
    "IQR = Q3 - Q1\n",
    "upper_limit = Q3 + 1.5 * IQR\n",
    "outliers = df[df[\"Consultation_Fee\"] > upper_limit]\n",
    "df = df[df[\"Consultation_Fee\"] <= upper_limit]"
   ]
  },
  {
   "cell_type": "code",
   "execution_count": 34,
   "metadata": {},
   "outputs": [
    {
     "data": {
      "text/plain": [
       "<function matplotlib.pyplot.show(close=None, block=None)>"
      ]
     },
     "execution_count": 34,
     "metadata": {},
     "output_type": "execute_result"
    },
    {
     "data": {
      "image/png": "[encoded data removed]",
      "text/plain": [
       "<Figure size 500x300 with 1 Axes>"
      ]
     },
     "metadata": {},
     "output_type": "display_data"
    }
   ],
   "source": [
    "plt.figure(figsize=(5, 3))\n",
    "plt.boxplot(df['Consultation_Fee'])\n",
    "plt.gca().yaxis.set_major_locator(MaxNLocator(integer=True, prune=\"both\"))\n",
    "plt.title('Boxplot of Consultation Fee')\n",
    "plt.show"
   ]
  },
  {
   "cell_type": "code",
   "execution_count": 35,
   "id": "c593c99b",
   "metadata": {},
   "outputs": [
    {
     "data": {
      "text/html": [
       "<div>\n",
       "<style scoped>\n",
       "    .dataframe tbody tr th:only-of-type {\n",
       "        vertical-align: middle;\n",
       "    }\n",
       "\n",
       "    .dataframe tbody tr th {\n",
       "        vertical-align: top;\n",
       "    }\n",
       "\n",
       "    .dataframe thead th {\n",
       "        text-align: right;\n",
       "    }\n",
       "</style>\n",
       "<table border=\"1\" class=\"dataframe\">\n",
       "  <thead>\n",
       "    <tr style=\"text-align: right;\">\n",
       "      <th></th>\n",
       "      <th>Booking_ID</th>\n",
       "      <th>Patient_Name</th>\n",
       "      <th>Consultation_Date</th>\n",
       "      <th>Doctor_Specialty</th>\n",
       "      <th>Consultation_Fee</th>\n",
       "      <th>Duration_Min</th>\n",
       "      <th>Rating</th>\n",
       "      <th>Booking_Platform</th>\n",
       "      <th>Is_Followup</th>\n",
       "      <th>Payment_Status</th>\n",
       "    </tr>\n",
       "  </thead>\n",
       "  <tbody>\n",
       "    <tr>\n",
       "      <th>1233</th>\n",
       "      <td>BKG3233</td>\n",
       "      <td>Melissa Khan</td>\n",
       "      <td>2023-07-07</td>\n",
       "      <td>Psychiatrist</td>\n",
       "      <td>886.96</td>\n",
       "      <td>63.0</td>\n",
       "      <td>2.0</td>\n",
       "      <td>Website</td>\n",
       "      <td>0</td>\n",
       "      <td>Refunded</td>\n",
       "    </tr>\n",
       "  </tbody>\n",
       "</table>\n",
       "</div>"
      ],
      "text/plain": [
       "     Booking_ID  Patient_Name Consultation_Date Doctor_Specialty  \\\n",
       "1233    BKG3233  Melissa Khan        2023-07-07     Psychiatrist   \n",
       "\n",
       "      Consultation_Fee  Duration_Min  Rating Booking_Platform  Is_Followup  \\\n",
       "1233            886.96          63.0     2.0          Website            0   \n",
       "\n",
       "     Payment_Status  \n",
       "1233       Refunded  "
      ]
     },
     "execution_count": 35,
     "metadata": {},
     "output_type": "execute_result"
    }
   ],
   "source": [
    "outliers"
   ]
  },
  {
   "cell_type": "markdown",
   "id": "bb1349c0",
   "metadata": {},
   "source": [
    "13. What is the distribution of Doctor_Specialty?\n"
   ]
  },
  {
   "cell_type": "code",
   "execution_count": 36,
   "id": "668892de",
   "metadata": {},
   "outputs": [
    {
     "data": {
      "image/png": "[encoded data removed]",
      "text/plain": [
       "<Figure size 500x300 with 1 Axes>"
      ]
     },
     "metadata": {},
     "output_type": "display_data"
    }
   ],
   "source": [
    "plt.figure(figsize=(5,3))\n",
    "df[\"Doctor_Specialty\"].value_counts().plot(kind=\"bar\")\n",
    "plt.title(\"Doctor Specialties Distribution\")\n",
    "plt.xlabel(\"Specialty\")\n",
    "plt.ylabel(\"Count\")\n",
    "plt.xticks(rotation=45)\n",
    "plt.show()"
   ]
  },
  {
   "cell_type": "markdown",
   "id": "427bef0b",
   "metadata": {},
   "source": [
    "14. What is the range of Consultation_Fee?\n"
   ]
  },
  {
   "cell_type": "code",
   "execution_count": 37,
   "id": "78d178f5",
   "metadata": {},
   "outputs": [
    {
     "data": {
      "text/plain": [
       "np.float64(818.45)"
      ]
     },
     "execution_count": 37,
     "metadata": {},
     "output_type": "execute_result"
    }
   ],
   "source": [
    "fee_range = df[\"Consultation_Fee\"].max() - df[\"Consultation_Fee\"].min()\n",
    "fee_range"
   ]
  },
  {
   "cell_type": "markdown",
   "id": "7f92cabf",
   "metadata": {},
   "source": [
    "15. What is the average Duration_Min of consultations?"
   ]
  },
  {
   "cell_type": "code",
   "execution_count": 38,
   "id": "34fc9c37",
   "metadata": {},
   "outputs": [
    {
     "data": {
      "text/plain": [
       "np.float64(49.65294535131299)"
      ]
     },
     "execution_count": 38,
     "metadata": {},
     "output_type": "execute_result"
    }
   ],
   "source": [
    "average_duration=df['Duration_Min'].mean()\n",
    "average_duration"
   ]
  },
  {
   "cell_type": "markdown",
   "id": "dcf8ed85",
   "metadata": {},
   "source": [
    "16. What is the count of each Booking_Platform used?\n"
   ]
  },
  {
   "cell_type": "code",
   "execution_count": 39,
   "id": "2451e9d5",
   "metadata": {},
   "outputs": [
    {
     "data": {
      "text/plain": [
       "Booking_Platform\n",
       "Walk-in    378\n",
       "Phone      360\n",
       "Website    339\n",
       "App        332\n",
       "Name: count, dtype: int64"
      ]
     },
     "execution_count": 39,
     "metadata": {},
     "output_type": "execute_result"
    }
   ],
   "source": [
    "count_bookingplat= df['Booking_Platform'].value_counts()\n",
    "count_bookingplat"
   ]
  },
  {
   "cell_type": "markdown",
   "id": "d0af83f0",
   "metadata": {},
   "source": [
    "\n",
    "17. What percentage of bookings were follow-ups?\n"
   ]
  },
  {
   "cell_type": "code",
   "execution_count": 40,
   "id": "bafe2b93",
   "metadata": {},
   "outputs": [
    {
     "data": {
      "text/plain": [
       "np.float64(51.029098651525906)"
      ]
     },
     "execution_count": 40,
     "metadata": {},
     "output_type": "execute_result"
    }
   ],
   "source": [
    "follow_up_pct= df['Is_Followup'].mean()*100\n",
    "follow_up_pct"
   ]
  },
  {
   "cell_type": "markdown",
   "id": "ad53b99e",
   "metadata": {},
   "source": [
    "18. What is the average consultation fee per Doctor_Specialty?\n"
   ]
  },
  {
   "cell_type": "code",
   "execution_count": 41,
   "id": "bbb11a71",
   "metadata": {},
   "outputs": [
    {
     "data": {
      "text/plain": [
       "Doctor_Specialty\n",
       "Dermatologist        524.193620\n",
       "General Physician    512.761416\n",
       "ENT                  503.863372\n",
       "Psychiatrist         501.322143\n",
       "Orthopedic           498.942009\n",
       "Cardiologist         498.365520\n",
       "Name: Consultation_Fee, dtype: float64"
      ]
     },
     "execution_count": 41,
     "metadata": {},
     "output_type": "execute_result"
    }
   ],
   "source": [
    "df.groupby('Doctor_Specialty')['Consultation_Fee'].mean().sort_values(ascending=False)"
   ]
  },
  {
   "cell_type": "markdown",
   "id": "b321636e",
   "metadata": {},
   "source": [
    "19. How does Duration_Min vary by Booking_Platform?\n"
   ]
  },
  {
   "cell_type": "code",
   "execution_count": 44,
   "id": "12a3f3ae",
   "metadata": {},
   "outputs": [
    {
     "data": {
      "text/plain": [
       "Booking_Platform\n",
       "Phone      50.141667\n",
       "Walk-in    49.571429\n",
       "App        49.442771\n",
       "Website    49.430678\n",
       "Name: Duration_Min, dtype: float64"
      ]
     },
     "execution_count": 44,
     "metadata": {},
     "output_type": "execute_result"
    }
   ],
   "source": [
    "df.groupby(\"Booking_Platform\")[\"Duration_Min\"].mean().sort_values(ascending=False)"
   ]
  },
  {
   "cell_type": "markdown",
   "id": "92920aad",
   "metadata": {},
   "source": [
    "\n",
    "20. What is the relationship between Rating and Consultation_Fee?\n"
   ]
  },
  {
   "cell_type": "code",
   "execution_count": 45,
   "id": "1fe4221b",
   "metadata": {},
   "outputs": [
    {
     "name": "stdout",
     "output_type": "stream",
     "text": [
      "Correlation: 0.04\n"
     ]
    }
   ],
   "source": [
    "correlation = df[\"Rating\"].corr(df[\"Consultation_Fee\"])\n",
    "print(f\"Correlation: {correlation:.2f}\") # 0.04 little to no linear relation"
   ]
  },
  {
   "cell_type": "markdown",
   "id": "1a04789c",
   "metadata": {},
   "source": [
    "21. Compare average fees for follow-up vs. first-time consultations.\n"
   ]
  },
  {
   "cell_type": "code",
   "execution_count": 46,
   "id": "e7f84da2",
   "metadata": {},
   "outputs": [
    {
     "data": {
      "text/html": [
       "<div>\n",
       "<style scoped>\n",
       "    .dataframe tbody tr th:only-of-type {\n",
       "        vertical-align: middle;\n",
       "    }\n",
       "\n",
       "    .dataframe tbody tr th {\n",
       "        vertical-align: top;\n",
       "    }\n",
       "\n",
       "    .dataframe thead th {\n",
       "        text-align: right;\n",
       "    }\n",
       "</style>\n",
       "<table border=\"1\" class=\"dataframe\">\n",
       "  <thead>\n",
       "    <tr style=\"text-align: right;\">\n",
       "      <th></th>\n",
       "      <th>count</th>\n",
       "      <th>mean</th>\n",
       "    </tr>\n",
       "    <tr>\n",
       "      <th>Is_Followup</th>\n",
       "      <th></th>\n",
       "      <th></th>\n",
       "    </tr>\n",
       "  </thead>\n",
       "  <tbody>\n",
       "    <tr>\n",
       "      <th>First-time</th>\n",
       "      <td>690</td>\n",
       "      <td>506.109826</td>\n",
       "    </tr>\n",
       "    <tr>\n",
       "      <th>Follow-up</th>\n",
       "      <td>719</td>\n",
       "      <td>506.726203</td>\n",
       "    </tr>\n",
       "  </tbody>\n",
       "</table>\n",
       "</div>"
      ],
      "text/plain": [
       "             count        mean\n",
       "Is_Followup                   \n",
       "First-time     690  506.109826\n",
       "Follow-up      719  506.726203"
      ]
     },
     "execution_count": 46,
     "metadata": {},
     "output_type": "execute_result"
    }
   ],
   "source": [
    "df.groupby(\"Is_Followup\")[\"Consultation_Fee\"].agg([\"count\", \"mean\"]).rename(index={False: \"First-time\", True: \"Follow-up\"})"
   ]
  },
  {
   "cell_type": "markdown",
   "id": "9a2aac81",
   "metadata": {},
   "source": [
    "22. Is there a trend in consultation fee or duration over months?\n"
   ]
  },
  {
   "cell_type": "code",
   "execution_count": 54,
   "id": "7c7e5f14",
   "metadata": {},
   "outputs": [
    {
     "data": {
      "text/plain": [
       "Consultation_Date\n",
       "1     510.424167\n",
       "2     503.782162\n",
       "3     517.090374\n",
       "4     499.578018\n",
       "5     514.670885\n",
       "6     487.651481\n",
       "7     510.532627\n",
       "8     522.011232\n",
       "9     507.912308\n",
       "10    510.745950\n",
       "11    468.736723\n",
       "12    521.117434\n",
       "Name: Consultation_Fee, dtype: float64"
      ]
     },
     "execution_count": 54,
     "metadata": {},
     "output_type": "execute_result"
    }
   ],
   "source": [
    "df['Consultation_Fee'].groupby(df['Consultation_Date'].dt.month).mean()"
   ]
  },
  {
   "cell_type": "code",
   "execution_count": 56,
   "id": "5b191b29",
   "metadata": {},
   "outputs": [
    {
     "data": {
      "text/plain": [
       "<Axes: xlabel='Consultation_Date'>"
      ]
     },
     "execution_count": 56,
     "metadata": {},
     "output_type": "execute_result"
    },
    {
     "data": {
      "image/png": "[encoded data removed]",
      "text/plain": [
       "<Figure size 640x480 with 1 Axes>"
      ]
     },
     "metadata": {},
     "output_type": "display_data"
    }
   ],
   "source": [
    "df['Consultation_Fee'].groupby(df['Consultation_Date'].dt.month).mean().plot()"
   ]
  },
  {
   "cell_type": "code",
   "execution_count": 49,
   "id": "cb215758",
   "metadata": {},
   "outputs": [
    {
     "data": {
      "image/png": "[encoded data removed]",
      "text/plain": [
       "<Figure size 500x300 with 1 Axes>"
      ]
     },
     "metadata": {},
     "output_type": "display_data"
    }
   ],
   "source": [
    "monthly_stats.plot(figsize=(5, 3))\n",
    "plt.title(\"Monthly Trends: Consultation Fee & Duration\")\n",
    "plt.xlabel(\"Month\")\n",
    "plt.ylabel(\"Average Value\")\n",
    "plt.xticks(rotation=45)\n",
    "plt.grid(True)\n",
    "plt.show()\n"
   ]
  },
  {
   "cell_type": "markdown",
   "metadata": {},
   "source": [
    "\n",
    "23. What is the average rating per doctor specialty?\n"
   ]
  },
  {
   "cell_type": "code",
   "execution_count": 50,
   "id": "84ccb6bb",
   "metadata": {},
   "outputs": [
    {
     "data": {
      "text/plain": [
       "np.float64(3.1788502484031227)"
      ]
     },
     "execution_count": 50,
     "metadata": {},
     "output_type": "execute_result"
    }
   ],
   "source": [
    "df['Rating'].mean()"
   ]
  },
  {
   "cell_type": "code",
   "execution_count": 52,
   "id": "4787581a",
   "metadata": {},
   "outputs": [
    {
     "data": {
      "text/html": [
       "<div>\n",
       "<style scoped>\n",
       "    .dataframe tbody tr th:only-of-type {\n",
       "        vertical-align: middle;\n",
       "    }\n",
       "\n",
       "    .dataframe tbody tr th {\n",
       "        vertical-align: top;\n",
       "    }\n",
       "\n",
       "    .dataframe thead th {\n",
       "        text-align: right;\n",
       "    }\n",
       "</style>\n",
       "<table border=\"1\" class=\"dataframe\">\n",
       "  <thead>\n",
       "    <tr style=\"text-align: right;\">\n",
       "      <th></th>\n",
       "      <th>Booking_ID</th>\n",
       "      <th>Patient_Name</th>\n",
       "      <th>Consultation_Date</th>\n",
       "      <th>Doctor_Specialty</th>\n",
       "      <th>Consultation_Fee</th>\n",
       "      <th>Duration_Min</th>\n",
       "      <th>Rating</th>\n",
       "      <th>Booking_Platform</th>\n",
       "      <th>Is_Followup</th>\n",
       "      <th>Payment_Status</th>\n",
       "      <th>Consultation_Month</th>\n",
       "    </tr>\n",
       "  </thead>\n",
       "  <tbody>\n",
       "    <tr>\n",
       "      <th>0</th>\n",
       "      <td>BKG2000</td>\n",
       "      <td>Shannon Rodriguez</td>\n",
       "      <td>2024-11-11</td>\n",
       "      <td>ENT</td>\n",
       "      <td>574.51</td>\n",
       "      <td>40.0</td>\n",
       "      <td>4.0</td>\n",
       "      <td>Phone</td>\n",
       "      <td>1</td>\n",
       "      <td>Pending</td>\n",
       "      <td>2024-11</td>\n",
       "    </tr>\n",
       "    <tr>\n",
       "      <th>1</th>\n",
       "      <td>BKG2001</td>\n",
       "      <td>Christopher Bush</td>\n",
       "      <td>2023-09-08</td>\n",
       "      <td>Cardiologist</td>\n",
       "      <td>479.26</td>\n",
       "      <td>69.0</td>\n",
       "      <td>4.0</td>\n",
       "      <td>App</td>\n",
       "      <td>1</td>\n",
       "      <td>Pending</td>\n",
       "      <td>2023-09</td>\n",
       "    </tr>\n",
       "    <tr>\n",
       "      <th>2</th>\n",
       "      <td>BKG2002</td>\n",
       "      <td>Emily Mosley</td>\n",
       "      <td>2023-12-18</td>\n",
       "      <td>Cardiologist</td>\n",
       "      <td>597.15</td>\n",
       "      <td>69.0</td>\n",
       "      <td>4.0</td>\n",
       "      <td>Walk-in</td>\n",
       "      <td>0</td>\n",
       "      <td>Refunded</td>\n",
       "      <td>2023-12</td>\n",
       "    </tr>\n",
       "    <tr>\n",
       "      <th>4</th>\n",
       "      <td>BKG2004</td>\n",
       "      <td>Jessica Lester</td>\n",
       "      <td>2023-08-14</td>\n",
       "      <td>General Physician</td>\n",
       "      <td>464.88</td>\n",
       "      <td>58.0</td>\n",
       "      <td>2.0</td>\n",
       "      <td>Website</td>\n",
       "      <td>1</td>\n",
       "      <td>Pending</td>\n",
       "      <td>2023-08</td>\n",
       "    </tr>\n",
       "    <tr>\n",
       "      <th>5</th>\n",
       "      <td>BKG2005</td>\n",
       "      <td>Mr. Mark Edwards</td>\n",
       "      <td>2024-05-23</td>\n",
       "      <td>Dermatologist</td>\n",
       "      <td>464.88</td>\n",
       "      <td>72.0</td>\n",
       "      <td>3.0</td>\n",
       "      <td>App</td>\n",
       "      <td>0</td>\n",
       "      <td>Paid</td>\n",
       "      <td>2024-05</td>\n",
       "    </tr>\n",
       "    <tr>\n",
       "      <th>...</th>\n",
       "      <td>...</td>\n",
       "      <td>...</td>\n",
       "      <td>...</td>\n",
       "      <td>...</td>\n",
       "      <td>...</td>\n",
       "      <td>...</td>\n",
       "      <td>...</td>\n",
       "      <td>...</td>\n",
       "      <td>...</td>\n",
       "      <td>...</td>\n",
       "      <td>...</td>\n",
       "    </tr>\n",
       "    <tr>\n",
       "      <th>1495</th>\n",
       "      <td>BKG3495</td>\n",
       "      <td>Jennifer Soto</td>\n",
       "      <td>2025-06-13</td>\n",
       "      <td>General Physician</td>\n",
       "      <td>800.91</td>\n",
       "      <td>68.0</td>\n",
       "      <td>2.0</td>\n",
       "      <td>Walk-in</td>\n",
       "      <td>0</td>\n",
       "      <td>Pending</td>\n",
       "      <td>2025-06</td>\n",
       "    </tr>\n",
       "    <tr>\n",
       "      <th>1496</th>\n",
       "      <td>BKG3496</td>\n",
       "      <td>Kevin Hernandez</td>\n",
       "      <td>2024-10-11</td>\n",
       "      <td>Cardiologist</td>\n",
       "      <td>809.23</td>\n",
       "      <td>72.0</td>\n",
       "      <td>3.0</td>\n",
       "      <td>Walk-in</td>\n",
       "      <td>0</td>\n",
       "      <td>Pending</td>\n",
       "      <td>2024-10</td>\n",
       "    </tr>\n",
       "    <tr>\n",
       "      <th>1497</th>\n",
       "      <td>BKG3497</td>\n",
       "      <td>Jodi Coleman</td>\n",
       "      <td>2024-06-06</td>\n",
       "      <td>ENT</td>\n",
       "      <td>681.25</td>\n",
       "      <td>86.0</td>\n",
       "      <td>4.0</td>\n",
       "      <td>App</td>\n",
       "      <td>1</td>\n",
       "      <td>Refunded</td>\n",
       "      <td>2024-06</td>\n",
       "    </tr>\n",
       "    <tr>\n",
       "      <th>1498</th>\n",
       "      <td>BKG3498</td>\n",
       "      <td>Jason Brady</td>\n",
       "      <td>2024-09-27</td>\n",
       "      <td>General Physician</td>\n",
       "      <td>653.61</td>\n",
       "      <td>55.0</td>\n",
       "      <td>4.0</td>\n",
       "      <td>App</td>\n",
       "      <td>1</td>\n",
       "      <td>Unpaid</td>\n",
       "      <td>2024-09</td>\n",
       "    </tr>\n",
       "    <tr>\n",
       "      <th>1499</th>\n",
       "      <td>BKG3499</td>\n",
       "      <td>David Lynn</td>\n",
       "      <td>2025-05-14</td>\n",
       "      <td>Orthopedic</td>\n",
       "      <td>588.88</td>\n",
       "      <td>12.0</td>\n",
       "      <td>2.0</td>\n",
       "      <td>Walk-in</td>\n",
       "      <td>0</td>\n",
       "      <td>Refunded</td>\n",
       "      <td>2025-05</td>\n",
       "    </tr>\n",
       "  </tbody>\n",
       "</table>\n",
       "<p>1409 rows × 11 columns</p>\n",
       "</div>"
      ],
      "text/plain": [
       "     Booking_ID       Patient_Name Consultation_Date   Doctor_Specialty  \\\n",
       "0       BKG2000  Shannon Rodriguez        2024-11-11                ENT   \n",
       "1       BKG2001   Christopher Bush        2023-09-08       Cardiologist   \n",
       "2       BKG2002       Emily Mosley        2023-12-18       Cardiologist   \n",
       "4       BKG2004     Jessica Lester        2023-08-14  General Physician   \n",
       "5       BKG2005   Mr. Mark Edwards        2024-05-23      Dermatologist   \n",
       "...         ...                ...               ...                ...   \n",
       "1495    BKG3495      Jennifer Soto        2025-06-13  General Physician   \n",
       "1496    BKG3496    Kevin Hernandez        2024-10-11       Cardiologist   \n",
       "1497    BKG3497       Jodi Coleman        2024-06-06                ENT   \n",
       "1498    BKG3498        Jason Brady        2024-09-27  General Physician   \n",
       "1499    BKG3499         David Lynn        2025-05-14         Orthopedic   \n",
       "\n",
       "      Consultation_Fee  Duration_Min  Rating Booking_Platform  Is_Followup  \\\n",
       "0               574.51          40.0     4.0            Phone            1   \n",
       "1               479.26          69.0     4.0              App            1   \n",
       "2               597.15          69.0     4.0          Walk-in            0   \n",
       "4               464.88          58.0     2.0          Website            1   \n",
       "5               464.88          72.0     3.0              App            0   \n",
       "...                ...           ...     ...              ...          ...   \n",
       "1495            800.91          68.0     2.0          Walk-in            0   \n",
       "1496            809.23          72.0     3.0          Walk-in            0   \n",
       "1497            681.25          86.0     4.0              App            1   \n",
       "1498            653.61          55.0     4.0              App            1   \n",
       "1499            588.88          12.0     2.0          Walk-in            0   \n",
       "\n",
       "     Payment_Status Consultation_Month  \n",
       "0           Pending            2024-11  \n",
       "1           Pending            2023-09  \n",
       "2          Refunded            2023-12  \n",
       "4           Pending            2023-08  \n",
       "5              Paid            2024-05  \n",
       "...             ...                ...  \n",
       "1495        Pending            2025-06  \n",
       "1496        Pending            2024-10  \n",
       "1497       Refunded            2024-06  \n",
       "1498         Unpaid            2024-09  \n",
       "1499       Refunded            2025-05  \n",
       "\n",
       "[1409 rows x 11 columns]"
      ]
     },
     "execution_count": 52,
     "metadata": {},
     "output_type": "execute_result"
    }
   ],
   "source": [
    "df"
   ]
  }
 ],
 "metadata": {
  "kernelspec": {
   "display_name": "Python 3",
   "language": "python",
   "name": "python3"
  },
  "language_info": {
   "codemirror_mode": {
    "name": "ipython",
    "version": 3
   },
   "file_extension": ".py",
   "mimetype": "text/x-python",
   "name": "python",
   "nbconvert_exporter": "python",
   "pygments_lexer": "ipython3",
   "version": "3.13.2"
  }
 },
 "nbformat": 4,
 "nbformat_minor": 5
}
