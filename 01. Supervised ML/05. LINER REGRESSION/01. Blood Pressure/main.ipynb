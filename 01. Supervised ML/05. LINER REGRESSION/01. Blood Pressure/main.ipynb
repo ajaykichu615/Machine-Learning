{
 "cells": [
  {
   "cell_type": "code",
   "execution_count": 1,
   "id": "8eaafd16",
   "metadata": {},
   "outputs": [],
   "source": [
    "import numpy as np\n",
    "import pandas as pd\n",
    "import matplotlib.pyplot as plt\n",
    "import seaborn as sns\n",
    "from sklearn.preprocessing import MinMaxScaler\n",
    "from sklearn.model_selection import train_test_split"
   ]
  },
  {
   "cell_type": "code",
   "execution_count": 2,
   "id": "95b2d435",
   "metadata": {},
   "outputs": [],
   "source": [
    "df=pd.read_csv('blood_pressure_regression_dataset.csv')"
   ]
  },
  {
   "cell_type": "code",
   "execution_count": 3,
   "id": "ff825f28",
   "metadata": {},
   "outputs": [
    {
     "data": {
      "text/html": [
       "<div>\n",
       "<style scoped>\n",
       "    .dataframe tbody tr th:only-of-type {\n",
       "        vertical-align: middle;\n",
       "    }\n",
       "\n",
       "    .dataframe tbody tr th {\n",
       "        vertical-align: top;\n",
       "    }\n",
       "\n",
       "    .dataframe thead th {\n",
       "        text-align: right;\n",
       "    }\n",
       "</style>\n",
       "<table border=\"1\" class=\"dataframe\">\n",
       "  <thead>\n",
       "    <tr style=\"text-align: right;\">\n",
       "      <th></th>\n",
       "      <th>Age</th>\n",
       "      <th>Weight</th>\n",
       "      <th>Height</th>\n",
       "      <th>BMI</th>\n",
       "      <th>Exercise_Freq</th>\n",
       "      <th>Systolic_BP</th>\n",
       "    </tr>\n",
       "  </thead>\n",
       "  <tbody>\n",
       "    <tr>\n",
       "      <th>0</th>\n",
       "      <td>56</td>\n",
       "      <td>106</td>\n",
       "      <td>172</td>\n",
       "      <td>35.83</td>\n",
       "      <td>0</td>\n",
       "      <td>166.08</td>\n",
       "    </tr>\n",
       "    <tr>\n",
       "      <th>1</th>\n",
       "      <td>69</td>\n",
       "      <td>69</td>\n",
       "      <td>159</td>\n",
       "      <td>27.29</td>\n",
       "      <td>2</td>\n",
       "      <td>155.91</td>\n",
       "    </tr>\n",
       "    <tr>\n",
       "      <th>2</th>\n",
       "      <td>46</td>\n",
       "      <td>115</td>\n",
       "      <td>160</td>\n",
       "      <td>44.92</td>\n",
       "      <td>2</td>\n",
       "      <td>167.57</td>\n",
       "    </tr>\n",
       "    <tr>\n",
       "      <th>3</th>\n",
       "      <td>32</td>\n",
       "      <td>96</td>\n",
       "      <td>190</td>\n",
       "      <td>26.59</td>\n",
       "      <td>3</td>\n",
       "      <td>143.19</td>\n",
       "    </tr>\n",
       "    <tr>\n",
       "      <th>4</th>\n",
       "      <td>60</td>\n",
       "      <td>48</td>\n",
       "      <td>190</td>\n",
       "      <td>13.30</td>\n",
       "      <td>5</td>\n",
       "      <td>133.13</td>\n",
       "    </tr>\n",
       "  </tbody>\n",
       "</table>\n",
       "</div>"
      ],
      "text/plain": [
       "   Age  Weight  Height    BMI  Exercise_Freq  Systolic_BP\n",
       "0   56     106     172  35.83              0       166.08\n",
       "1   69      69     159  27.29              2       155.91\n",
       "2   46     115     160  44.92              2       167.57\n",
       "3   32      96     190  26.59              3       143.19\n",
       "4   60      48     190  13.30              5       133.13"
      ]
     },
     "execution_count": 3,
     "metadata": {},
     "output_type": "execute_result"
    }
   ],
   "source": [
    "df.head()"
   ]
  },
  {
   "cell_type": "code",
   "execution_count": 4,
   "id": "84dfa3cb",
   "metadata": {},
   "outputs": [
    {
     "data": {
      "text/plain": [
       "(2100, 6)"
      ]
     },
     "execution_count": 4,
     "metadata": {},
     "output_type": "execute_result"
    }
   ],
   "source": [
    "df.shape"
   ]
  },
  {
   "cell_type": "code",
   "execution_count": 5,
   "id": "7a5d511b",
   "metadata": {},
   "outputs": [
    {
     "name": "stdout",
     "output_type": "stream",
     "text": [
      "<class 'pandas.core.frame.DataFrame'>\n",
      "RangeIndex: 2100 entries, 0 to 2099\n",
      "Data columns (total 6 columns):\n",
      " #   Column         Non-Null Count  Dtype  \n",
      "---  ------         --------------  -----  \n",
      " 0   Age            2100 non-null   int64  \n",
      " 1   Weight         2100 non-null   int64  \n",
      " 2   Height         2100 non-null   int64  \n",
      " 3   BMI            2100 non-null   float64\n",
      " 4   Exercise_Freq  2100 non-null   int64  \n",
      " 5   Systolic_BP    2100 non-null   float64\n",
      "dtypes: float64(2), int64(4)\n",
      "memory usage: 98.6 KB\n"
     ]
    }
   ],
   "source": [
    "df.info()"
   ]
  },
  {
   "cell_type": "code",
   "execution_count": 6,
   "id": "d4fe4988",
   "metadata": {},
   "outputs": [
    {
     "data": {
      "text/html": [
       "<div>\n",
       "<style scoped>\n",
       "    .dataframe tbody tr th:only-of-type {\n",
       "        vertical-align: middle;\n",
       "    }\n",
       "\n",
       "    .dataframe tbody tr th {\n",
       "        vertical-align: top;\n",
       "    }\n",
       "\n",
       "    .dataframe thead th {\n",
       "        text-align: right;\n",
       "    }\n",
       "</style>\n",
       "<table border=\"1\" class=\"dataframe\">\n",
       "  <thead>\n",
       "    <tr style=\"text-align: right;\">\n",
       "      <th></th>\n",
       "      <th>Age</th>\n",
       "      <th>Weight</th>\n",
       "      <th>Height</th>\n",
       "      <th>BMI</th>\n",
       "      <th>Exercise_Freq</th>\n",
       "      <th>Systolic_BP</th>\n",
       "    </tr>\n",
       "  </thead>\n",
       "  <tbody>\n",
       "    <tr>\n",
       "      <th>count</th>\n",
       "      <td>2100.000000</td>\n",
       "      <td>2100.000000</td>\n",
       "      <td>2100.000000</td>\n",
       "      <td>2100.000000</td>\n",
       "      <td>2100.000000</td>\n",
       "      <td>2100.000000</td>\n",
       "    </tr>\n",
       "    <tr>\n",
       "      <th>mean</th>\n",
       "      <td>49.233333</td>\n",
       "      <td>81.341905</td>\n",
       "      <td>174.572857</td>\n",
       "      <td>27.253852</td>\n",
       "      <td>3.011429</td>\n",
       "      <td>150.536748</td>\n",
       "    </tr>\n",
       "    <tr>\n",
       "      <th>std</th>\n",
       "      <td>17.944726</td>\n",
       "      <td>21.442596</td>\n",
       "      <td>14.429798</td>\n",
       "      <td>8.644722</td>\n",
       "      <td>2.021057</td>\n",
       "      <td>18.469152</td>\n",
       "    </tr>\n",
       "    <tr>\n",
       "      <th>min</th>\n",
       "      <td>18.000000</td>\n",
       "      <td>45.000000</td>\n",
       "      <td>150.000000</td>\n",
       "      <td>11.480000</td>\n",
       "      <td>0.000000</td>\n",
       "      <td>108.220000</td>\n",
       "    </tr>\n",
       "    <tr>\n",
       "      <th>25%</th>\n",
       "      <td>34.000000</td>\n",
       "      <td>63.000000</td>\n",
       "      <td>162.000000</td>\n",
       "      <td>20.437500</td>\n",
       "      <td>1.000000</td>\n",
       "      <td>138.177500</td>\n",
       "    </tr>\n",
       "    <tr>\n",
       "      <th>50%</th>\n",
       "      <td>50.000000</td>\n",
       "      <td>81.000000</td>\n",
       "      <td>174.000000</td>\n",
       "      <td>26.535000</td>\n",
       "      <td>3.000000</td>\n",
       "      <td>149.230000</td>\n",
       "    </tr>\n",
       "    <tr>\n",
       "      <th>75%</th>\n",
       "      <td>65.000000</td>\n",
       "      <td>100.000000</td>\n",
       "      <td>187.000000</td>\n",
       "      <td>32.835000</td>\n",
       "      <td>5.000000</td>\n",
       "      <td>160.435000</td>\n",
       "    </tr>\n",
       "    <tr>\n",
       "      <th>max</th>\n",
       "      <td>79.000000</td>\n",
       "      <td>119.000000</td>\n",
       "      <td>199.000000</td>\n",
       "      <td>52.890000</td>\n",
       "      <td>6.000000</td>\n",
       "      <td>240.700000</td>\n",
       "    </tr>\n",
       "  </tbody>\n",
       "</table>\n",
       "</div>"
      ],
      "text/plain": [
       "               Age       Weight       Height          BMI  Exercise_Freq  \\\n",
       "count  2100.000000  2100.000000  2100.000000  2100.000000    2100.000000   \n",
       "mean     49.233333    81.341905   174.572857    27.253852       3.011429   \n",
       "std      17.944726    21.442596    14.429798     8.644722       2.021057   \n",
       "min      18.000000    45.000000   150.000000    11.480000       0.000000   \n",
       "25%      34.000000    63.000000   162.000000    20.437500       1.000000   \n",
       "50%      50.000000    81.000000   174.000000    26.535000       3.000000   \n",
       "75%      65.000000   100.000000   187.000000    32.835000       5.000000   \n",
       "max      79.000000   119.000000   199.000000    52.890000       6.000000   \n",
       "\n",
       "       Systolic_BP  \n",
       "count  2100.000000  \n",
       "mean    150.536748  \n",
       "std      18.469152  \n",
       "min     108.220000  \n",
       "25%     138.177500  \n",
       "50%     149.230000  \n",
       "75%     160.435000  \n",
       "max     240.700000  "
      ]
     },
     "execution_count": 6,
     "metadata": {},
     "output_type": "execute_result"
    }
   ],
   "source": [
    "df.describe()"
   ]
  },
  {
   "cell_type": "code",
   "execution_count": 7,
   "id": "a43df0c8",
   "metadata": {},
   "outputs": [
    {
     "data": {
      "text/plain": [
       "Age              0\n",
       "Weight           0\n",
       "Height           0\n",
       "BMI              0\n",
       "Exercise_Freq    0\n",
       "Systolic_BP      0\n",
       "dtype: int64"
      ]
     },
     "execution_count": 7,
     "metadata": {},
     "output_type": "execute_result"
    }
   ],
   "source": [
    "df.isna().sum()"
   ]
  },
  {
   "cell_type": "code",
   "execution_count": 8,
   "id": "c3b6a955",
   "metadata": {},
   "outputs": [
    {
     "data": {
      "image/png": "[encoded data removed]",
      "text/plain": [
       "<Figure size 640x480 with 1 Axes>"
      ]
     },
     "metadata": {},
     "output_type": "display_data"
    },
    {
     "data": {
      "image/png": "[encoded data removed]",
      "text/plain": [
       "<Figure size 640x480 with 1 Axes>"
      ]
     },
     "metadata": {},
     "output_type": "display_data"
    },
    {
     "data": {
      "image/png": "[encoded data removed]",
      "text/plain": [
       "<Figure size 640x480 with 1 Axes>"
      ]
     },
     "metadata": {},
     "output_type": "display_data"
    },
    {
     "data": {
      "image/png": "[encoded data removed]",
      "text/plain": [
       "<Figure size 640x480 with 1 Axes>"
      ]
     },
     "metadata": {},
     "output_type": "display_data"
    },
    {
     "data": {
      "image/png": "[encoded data removed]",
      "text/plain": [
       "<Figure size 640x480 with 1 Axes>"
      ]
     },
     "metadata": {},
     "output_type": "display_data"
    },
    {
     "data": {
      "image/png": "[encoded data removed]",
      "text/plain": [
       "<Figure size 640x480 with 1 Axes>"
      ]
     },
     "metadata": {},
     "output_type": "display_data"
    }
   ],
   "source": [
    "for i in df:\n",
    "    plt.boxplot(df[i])\n",
    "    plt.title(f'Boxplot of {i}')\n",
    "    plt.show()"
   ]
  },
  {
   "cell_type": "code",
   "execution_count": 9,
   "id": "30e73193",
   "metadata": {},
   "outputs": [],
   "source": [
    "for col in ['BMI', 'Systolic_BP']:\n",
    "    Q1 = df[col].quantile(0.25)\n",
    "    Q3 = df[col].quantile(0.75)\n",
    "    IQR = Q3 - Q1\n",
    "    lower = Q1 - 1.5 * IQR\n",
    "    upper = Q3 + 1.5 * IQR\n",
    "    df[col] = df[col].clip(lower, upper)"
   ]
  },
  {
   "cell_type": "code",
   "execution_count": 10,
   "id": "18390f7f",
   "metadata": {},
   "outputs": [
    {
     "data": {
      "image/png": "[encoded data removed]",
      "text/plain": [
       "<Figure size 640x480 with 1 Axes>"
      ]
     },
     "metadata": {},
     "output_type": "display_data"
    },
    {
     "data": {
      "image/png": "[encoded data removed]",
      "text/plain": [
       "<Figure size 640x480 with 1 Axes>"
      ]
     },
     "metadata": {},
     "output_type": "display_data"
    },
    {
     "data": {
      "image/png": "[encoded data removed]",
      "text/plain": [
       "<Figure size 640x480 with 1 Axes>"
      ]
     },
     "metadata": {},
     "output_type": "display_data"
    },
    {
     "data": {
      "image/png": "[encoded data removed]",
      "text/plain": [
       "<Figure size 640x480 with 1 Axes>"
      ]
     },
     "metadata": {},
     "output_type": "display_data"
    },
    {
     "data": {
      "image/png": "[encoded data removed]",
      "text/plain": [
       "<Figure size 640x480 with 1 Axes>"
      ]
     },
     "metadata": {},
     "output_type": "display_data"
    },
    {
     "data": {
      "image/png": "[encoded data removed]",
      "text/plain": [
       "<Figure size 640x480 with 1 Axes>"
      ]
     },
     "metadata": {},
     "output_type": "display_data"
    }
   ],
   "source": [
    "for i in df:\n",
    "    plt.boxplot(df[i])\n",
    "    plt.title(f'Boxplot of {i}')\n",
    "    plt.show()"
   ]
  },
  {
   "cell_type": "code",
   "execution_count": 11,
   "id": "be426a22",
   "metadata": {},
   "outputs": [
    {
     "data": {
      "text/html": [
       "<div>\n",
       "<style scoped>\n",
       "    .dataframe tbody tr th:only-of-type {\n",
       "        vertical-align: middle;\n",
       "    }\n",
       "\n",
       "    .dataframe tbody tr th {\n",
       "        vertical-align: top;\n",
       "    }\n",
       "\n",
       "    .dataframe thead th {\n",
       "        text-align: right;\n",
       "    }\n",
       "</style>\n",
       "<table border=\"1\" class=\"dataframe\">\n",
       "  <thead>\n",
       "    <tr style=\"text-align: right;\">\n",
       "      <th></th>\n",
       "      <th>Age</th>\n",
       "      <th>Weight</th>\n",
       "      <th>Height</th>\n",
       "      <th>BMI</th>\n",
       "      <th>Exercise_Freq</th>\n",
       "      <th>Systolic_BP</th>\n",
       "    </tr>\n",
       "  </thead>\n",
       "  <tbody>\n",
       "    <tr>\n",
       "      <th>0</th>\n",
       "      <td>56</td>\n",
       "      <td>106</td>\n",
       "      <td>172</td>\n",
       "      <td>35.83</td>\n",
       "      <td>0</td>\n",
       "      <td>166.08</td>\n",
       "    </tr>\n",
       "    <tr>\n",
       "      <th>1</th>\n",
       "      <td>69</td>\n",
       "      <td>69</td>\n",
       "      <td>159</td>\n",
       "      <td>27.29</td>\n",
       "      <td>2</td>\n",
       "      <td>155.91</td>\n",
       "    </tr>\n",
       "    <tr>\n",
       "      <th>2</th>\n",
       "      <td>46</td>\n",
       "      <td>115</td>\n",
       "      <td>160</td>\n",
       "      <td>44.92</td>\n",
       "      <td>2</td>\n",
       "      <td>167.57</td>\n",
       "    </tr>\n",
       "    <tr>\n",
       "      <th>3</th>\n",
       "      <td>32</td>\n",
       "      <td>96</td>\n",
       "      <td>190</td>\n",
       "      <td>26.59</td>\n",
       "      <td>3</td>\n",
       "      <td>143.19</td>\n",
       "    </tr>\n",
       "    <tr>\n",
       "      <th>4</th>\n",
       "      <td>60</td>\n",
       "      <td>48</td>\n",
       "      <td>190</td>\n",
       "      <td>13.30</td>\n",
       "      <td>5</td>\n",
       "      <td>133.13</td>\n",
       "    </tr>\n",
       "  </tbody>\n",
       "</table>\n",
       "</div>"
      ],
      "text/plain": [
       "   Age  Weight  Height    BMI  Exercise_Freq  Systolic_BP\n",
       "0   56     106     172  35.83              0       166.08\n",
       "1   69      69     159  27.29              2       155.91\n",
       "2   46     115     160  44.92              2       167.57\n",
       "3   32      96     190  26.59              3       143.19\n",
       "4   60      48     190  13.30              5       133.13"
      ]
     },
     "execution_count": 11,
     "metadata": {},
     "output_type": "execute_result"
    }
   ],
   "source": [
    "df.head()"
   ]
  },
  {
   "cell_type": "code",
   "execution_count": 12,
   "id": "62615c14",
   "metadata": {},
   "outputs": [],
   "source": [
    "X=df.drop(columns=['Systolic_BP'])\n",
    "y=df['Systolic_BP']"
   ]
  },
  {
   "cell_type": "code",
   "execution_count": 13,
   "id": "ab740448",
   "metadata": {},
   "outputs": [],
   "source": [
    "minmax=MinMaxScaler()\n",
    "X_scaled=minmax.fit_transform(X)"
   ]
  },
  {
   "cell_type": "markdown",
   "id": "e5b1271a",
   "metadata": {},
   "source": [
    "Data Splitting"
   ]
  },
  {
   "cell_type": "code",
   "execution_count": 14,
   "id": "8ad6cc8b",
   "metadata": {},
   "outputs": [],
   "source": [
    "X_train,X_test,y_train,y_test=train_test_split(X_scaled, y, test_size=0.3)"
   ]
  },
  {
   "cell_type": "markdown",
   "id": "b05e4cd4",
   "metadata": {},
   "source": [
    "Model training (Linear Regression)"
   ]
  },
  {
   "cell_type": "code",
   "execution_count": 15,
   "id": "b020407d",
   "metadata": {},
   "outputs": [
    {
     "data": {
      "text/html": [
       "<style>#sk-container-id-1 {\n",
       "  /* Definition of color scheme common for light and dark mode */\n",
       "  --sklearn-color-text: black;\n",
       "  --sklearn-color-line: gray;\n",
       "  /* Definition of color scheme for unfitted estimators */\n",
       "  --sklearn-color-unfitted-level-0: #fff5e6;\n",
       "  --sklearn-color-unfitted-level-1: #f6e4d2;\n",
       "  --sklearn-color-unfitted-level-2: #ffe0b3;\n",
       "  --sklearn-color-unfitted-level-3: chocolate;\n",
       "  /* Definition of color scheme for fitted estimators */\n",
       "  --sklearn-color-fitted-level-0: #f0f8ff;\n",
       "  --sklearn-color-fitted-level-1: #d4ebff;\n",
       "  --sklearn-color-fitted-level-2: #b3dbfd;\n",
       "  --sklearn-color-fitted-level-3: cornflowerblue;\n",
       "\n",
       "  /* Specific color for light theme */\n",
       "  --sklearn-color-text-on-default-background: var(--sg-text-color, var(--theme-code-foreground, var(--jp-content-font-color1, black)));\n",
       "  --sklearn-color-background: var(--sg-background-color, var(--theme-background, var(--jp-layout-color0, white)));\n",
       "  --sklearn-color-border-box: var(--sg-text-color, var(--theme-code-foreground, var(--jp-content-font-color1, black)));\n",
       "  --sklearn-color-icon: #696969;\n",
       "\n",
       "  @media (prefers-color-scheme: dark) {\n",
       "    /* Redefinition of color scheme for dark theme */\n",
       "    --sklearn-color-text-on-default-background: var(--sg-text-color, var(--theme-code-foreground, var(--jp-content-font-color1, white)));\n",
       "    --sklearn-color-background: var(--sg-background-color, var(--theme-background, var(--jp-layout-color0, #111)));\n",
       "    --sklearn-color-border-box: var(--sg-text-color, var(--theme-code-foreground, var(--jp-content-font-color1, white)));\n",
       "    --sklearn-color-icon: #878787;\n",
       "  }\n",
       "}\n",
       "\n",
       "#sk-container-id-1 {\n",
       "  color: var(--sklearn-color-text);\n",
       "}\n",
       "\n",
       "#sk-container-id-1 pre {\n",
       "  padding: 0;\n",
       "}\n",
       "\n",
       "#sk-container-id-1 input.sk-hidden--visually {\n",
       "  border: 0;\n",
       "  clip: rect(1px 1px 1px 1px);\n",
       "  clip: rect(1px, 1px, 1px, 1px);\n",
       "  height: 1px;\n",
       "  margin: -1px;\n",
       "  overflow: hidden;\n",
       "  padding: 0;\n",
       "  position: absolute;\n",
       "  width: 1px;\n",
       "}\n",
       "\n",
       "#sk-container-id-1 div.sk-dashed-wrapped {\n",
       "  border: 1px dashed var(--sklearn-color-line);\n",
       "  margin: 0 0.4em 0.5em 0.4em;\n",
       "  box-sizing: border-box;\n",
       "  padding-bottom: 0.4em;\n",
       "  background-color: var(--sklearn-color-background);\n",
       "}\n",
       "\n",
       "#sk-container-id-1 div.sk-container {\n",
       "  /* jupyter's `normalize.less` sets `[hidden] { display: none; }`\n",
       "     but bootstrap.min.css set `[hidden] { display: none !important; }`\n",
       "     so we also need the `!important` here to be able to override the\n",
       "     default hidden behavior on the sphinx rendered scikit-learn.org.\n",
       "     See: https://github.com/scikit-learn/scikit-learn/issues/21755 */\n",
       "  display: inline-block !important;\n",
       "  position: relative;\n",
       "}\n",
       "\n",
       "#sk-container-id-1 div.sk-text-repr-fallback {\n",
       "  display: none;\n",
       "}\n",
       "\n",
       "div.sk-parallel-item,\n",
       "div.sk-serial,\n",
       "div.sk-item {\n",
       "  /* draw centered vertical line to link estimators */\n",
       "  background-image: linear-gradient(var(--sklearn-color-text-on-default-background), var(--sklearn-color-text-on-default-background));\n",
       "  background-size: 2px 100%;\n",
       "  background-repeat: no-repeat;\n",
       "  background-position: center center;\n",
       "}\n",
       "\n",
       "/* Parallel-specific style estimator block */\n",
       "\n",
       "#sk-container-id-1 div.sk-parallel-item::after {\n",
       "  content: \"\";\n",
       "  width: 100%;\n",
       "  border-bottom: 2px solid var(--sklearn-color-text-on-default-background);\n",
       "  flex-grow: 1;\n",
       "}\n",
       "\n",
       "#sk-container-id-1 div.sk-parallel {\n",
       "  display: flex;\n",
       "  align-items: stretch;\n",
       "  justify-content: center;\n",
       "  background-color: var(--sklearn-color-background);\n",
       "  position: relative;\n",
       "}\n",
       "\n",
       "#sk-container-id-1 div.sk-parallel-item {\n",
       "  display: flex;\n",
       "  flex-direction: column;\n",
       "}\n",
       "\n",
       "#sk-container-id-1 div.sk-parallel-item:first-child::after {\n",
       "  align-self: flex-end;\n",
       "  width: 50%;\n",
       "}\n",
       "\n",
       "#sk-container-id-1 div.sk-parallel-item:last-child::after {\n",
       "  align-self: flex-start;\n",
       "  width: 50%;\n",
       "}\n",
       "\n",
       "#sk-container-id-1 div.sk-parallel-item:only-child::after {\n",
       "  width: 0;\n",
       "}\n",
       "\n",
       "/* Serial-specific style estimator block */\n",
       "\n",
       "#sk-container-id-1 div.sk-serial {\n",
       "  display: flex;\n",
       "  flex-direction: column;\n",
       "  align-items: center;\n",
       "  background-color: var(--sklearn-color-background);\n",
       "  padding-right: 1em;\n",
       "  padding-left: 1em;\n",
       "}\n",
       "\n",
       "\n",
       "/* Toggleable style: style used for estimator/Pipeline/ColumnTransformer box that is\n",
       "clickable and can be expanded/collapsed.\n",
       "- Pipeline and ColumnTransformer use this feature and define the default style\n",
       "- Estimators will overwrite some part of the style using the `sk-estimator` class\n",
       "*/\n",
       "\n",
       "/* Pipeline and ColumnTransformer style (default) */\n",
       "\n",
       "#sk-container-id-1 div.sk-toggleable {\n",
       "  /* Default theme specific background. It is overwritten whether we have a\n",
       "  specific estimator or a Pipeline/ColumnTransformer */\n",
       "  background-color: var(--sklearn-color-background);\n",
       "}\n",
       "\n",
       "/* Toggleable label */\n",
       "#sk-container-id-1 label.sk-toggleable__label {\n",
       "  cursor: pointer;\n",
       "  display: block;\n",
       "  width: 100%;\n",
       "  margin-bottom: 0;\n",
       "  padding: 0.5em;\n",
       "  box-sizing: border-box;\n",
       "  text-align: center;\n",
       "}\n",
       "\n",
       "#sk-container-id-1 label.sk-toggleable__label-arrow:before {\n",
       "  /* Arrow on the left of the label */\n",
       "  content: \"▸\";\n",
       "  float: left;\n",
       "  margin-right: 0.25em;\n",
       "  color: var(--sklearn-color-icon);\n",
       "}\n",
       "\n",
       "#sk-container-id-1 label.sk-toggleable__label-arrow:hover:before {\n",
       "  color: var(--sklearn-color-text);\n",
       "}\n",
       "\n",
       "/* Toggleable content - dropdown */\n",
       "\n",
       "#sk-container-id-1 div.sk-toggleable__content {\n",
       "  max-height: 0;\n",
       "  max-width: 0;\n",
       "  overflow: hidden;\n",
       "  text-align: left;\n",
       "  /* unfitted */\n",
       "  background-color: var(--sklearn-color-unfitted-level-0);\n",
       "}\n",
       "\n",
       "#sk-container-id-1 div.sk-toggleable__content.fitted {\n",
       "  /* fitted */\n",
       "  background-color: var(--sklearn-color-fitted-level-0);\n",
       "}\n",
       "\n",
       "#sk-container-id-1 div.sk-toggleable__content pre {\n",
       "  margin: 0.2em;\n",
       "  border-radius: 0.25em;\n",
       "  color: var(--sklearn-color-text);\n",
       "  /* unfitted */\n",
       "  background-color: var(--sklearn-color-unfitted-level-0);\n",
       "}\n",
       "\n",
       "#sk-container-id-1 div.sk-toggleable__content.fitted pre {\n",
       "  /* unfitted */\n",
       "  background-color: var(--sklearn-color-fitted-level-0);\n",
       "}\n",
       "\n",
       "#sk-container-id-1 input.sk-toggleable__control:checked~div.sk-toggleable__content {\n",
       "  /* Expand drop-down */\n",
       "  max-height: 200px;\n",
       "  max-width: 100%;\n",
       "  overflow: auto;\n",
       "}\n",
       "\n",
       "#sk-container-id-1 input.sk-toggleable__control:checked~label.sk-toggleable__label-arrow:before {\n",
       "  content: \"▾\";\n",
       "}\n",
       "\n",
       "/* Pipeline/ColumnTransformer-specific style */\n",
       "\n",
       "#sk-container-id-1 div.sk-label input.sk-toggleable__control:checked~label.sk-toggleable__label {\n",
       "  color: var(--sklearn-color-text);\n",
       "  background-color: var(--sklearn-color-unfitted-level-2);\n",
       "}\n",
       "\n",
       "#sk-container-id-1 div.sk-label.fitted input.sk-toggleable__control:checked~label.sk-toggleable__label {\n",
       "  background-color: var(--sklearn-color-fitted-level-2);\n",
       "}\n",
       "\n",
       "/* Estimator-specific style */\n",
       "\n",
       "/* Colorize estimator box */\n",
       "#sk-container-id-1 div.sk-estimator input.sk-toggleable__control:checked~label.sk-toggleable__label {\n",
       "  /* unfitted */\n",
       "  background-color: var(--sklearn-color-unfitted-level-2);\n",
       "}\n",
       "\n",
       "#sk-container-id-1 div.sk-estimator.fitted input.sk-toggleable__control:checked~label.sk-toggleable__label {\n",
       "  /* fitted */\n",
       "  background-color: var(--sklearn-color-fitted-level-2);\n",
       "}\n",
       "\n",
       "#sk-container-id-1 div.sk-label label.sk-toggleable__label,\n",
       "#sk-container-id-1 div.sk-label label {\n",
       "  /* The background is the default theme color */\n",
       "  color: var(--sklearn-color-text-on-default-background);\n",
       "}\n",
       "\n",
       "/* On hover, darken the color of the background */\n",
       "#sk-container-id-1 div.sk-label:hover label.sk-toggleable__label {\n",
       "  color: var(--sklearn-color-text);\n",
       "  background-color: var(--sklearn-color-unfitted-level-2);\n",
       "}\n",
       "\n",
       "/* Label box, darken color on hover, fitted */\n",
       "#sk-container-id-1 div.sk-label.fitted:hover label.sk-toggleable__label.fitted {\n",
       "  color: var(--sklearn-color-text);\n",
       "  background-color: var(--sklearn-color-fitted-level-2);\n",
       "}\n",
       "\n",
       "/* Estimator label */\n",
       "\n",
       "#sk-container-id-1 div.sk-label label {\n",
       "  font-family: monospace;\n",
       "  font-weight: bold;\n",
       "  display: inline-block;\n",
       "  line-height: 1.2em;\n",
       "}\n",
       "\n",
       "#sk-container-id-1 div.sk-label-container {\n",
       "  text-align: center;\n",
       "}\n",
       "\n",
       "/* Estimator-specific */\n",
       "#sk-container-id-1 div.sk-estimator {\n",
       "  font-family: monospace;\n",
       "  border: 1px dotted var(--sklearn-color-border-box);\n",
       "  border-radius: 0.25em;\n",
       "  box-sizing: border-box;\n",
       "  margin-bottom: 0.5em;\n",
       "  /* unfitted */\n",
       "  background-color: var(--sklearn-color-unfitted-level-0);\n",
       "}\n",
       "\n",
       "#sk-container-id-1 div.sk-estimator.fitted {\n",
       "  /* fitted */\n",
       "  background-color: var(--sklearn-color-fitted-level-0);\n",
       "}\n",
       "\n",
       "/* on hover */\n",
       "#sk-container-id-1 div.sk-estimator:hover {\n",
       "  /* unfitted */\n",
       "  background-color: var(--sklearn-color-unfitted-level-2);\n",
       "}\n",
       "\n",
       "#sk-container-id-1 div.sk-estimator.fitted:hover {\n",
       "  /* fitted */\n",
       "  background-color: var(--sklearn-color-fitted-level-2);\n",
       "}\n",
       "\n",
       "/* Specification for estimator info (e.g. \"i\" and \"?\") */\n",
       "\n",
       "/* Common style for \"i\" and \"?\" */\n",
       "\n",
       ".sk-estimator-doc-link,\n",
       "a:link.sk-estimator-doc-link,\n",
       "a:visited.sk-estimator-doc-link {\n",
       "  float: right;\n",
       "  font-size: smaller;\n",
       "  line-height: 1em;\n",
       "  font-family: monospace;\n",
       "  background-color: var(--sklearn-color-background);\n",
       "  border-radius: 1em;\n",
       "  height: 1em;\n",
       "  width: 1em;\n",
       "  text-decoration: none !important;\n",
       "  margin-left: 1ex;\n",
       "  /* unfitted */\n",
       "  border: var(--sklearn-color-unfitted-level-1) 1pt solid;\n",
       "  color: var(--sklearn-color-unfitted-level-1);\n",
       "}\n",
       "\n",
       ".sk-estimator-doc-link.fitted,\n",
       "a:link.sk-estimator-doc-link.fitted,\n",
       "a:visited.sk-estimator-doc-link.fitted {\n",
       "  /* fitted */\n",
       "  border: var(--sklearn-color-fitted-level-1) 1pt solid;\n",
       "  color: var(--sklearn-color-fitted-level-1);\n",
       "}\n",
       "\n",
       "/* On hover */\n",
       "div.sk-estimator:hover .sk-estimator-doc-link:hover,\n",
       ".sk-estimator-doc-link:hover,\n",
       "div.sk-label-container:hover .sk-estimator-doc-link:hover,\n",
       ".sk-estimator-doc-link:hover {\n",
       "  /* unfitted */\n",
       "  background-color: var(--sklearn-color-unfitted-level-3);\n",
       "  color: var(--sklearn-color-background);\n",
       "  text-decoration: none;\n",
       "}\n",
       "\n",
       "div.sk-estimator.fitted:hover .sk-estimator-doc-link.fitted:hover,\n",
       ".sk-estimator-doc-link.fitted:hover,\n",
       "div.sk-label-container:hover .sk-estimator-doc-link.fitted:hover,\n",
       ".sk-estimator-doc-link.fitted:hover {\n",
       "  /* fitted */\n",
       "  background-color: var(--sklearn-color-fitted-level-3);\n",
       "  color: var(--sklearn-color-background);\n",
       "  text-decoration: none;\n",
       "}\n",
       "\n",
       "/* Span, style for the box shown on hovering the info icon */\n",
       ".sk-estimator-doc-link span {\n",
       "  display: none;\n",
       "  z-index: 9999;\n",
       "  position: relative;\n",
       "  font-weight: normal;\n",
       "  right: .2ex;\n",
       "  padding: .5ex;\n",
       "  margin: .5ex;\n",
       "  width: min-content;\n",
       "  min-width: 20ex;\n",
       "  max-width: 50ex;\n",
       "  color: var(--sklearn-color-text);\n",
       "  box-shadow: 2pt 2pt 4pt #999;\n",
       "  /* unfitted */\n",
       "  background: var(--sklearn-color-unfitted-level-0);\n",
       "  border: .5pt solid var(--sklearn-color-unfitted-level-3);\n",
       "}\n",
       "\n",
       ".sk-estimator-doc-link.fitted span {\n",
       "  /* fitted */\n",
       "  background: var(--sklearn-color-fitted-level-0);\n",
       "  border: var(--sklearn-color-fitted-level-3);\n",
       "}\n",
       "\n",
       ".sk-estimator-doc-link:hover span {\n",
       "  display: block;\n",
       "}\n",
       "\n",
       "/* \"?\"-specific style due to the `<a>` HTML tag */\n",
       "\n",
       "#sk-container-id-1 a.estimator_doc_link {\n",
       "  float: right;\n",
       "  font-size: 1rem;\n",
       "  line-height: 1em;\n",
       "  font-family: monospace;\n",
       "  background-color: var(--sklearn-color-background);\n",
       "  border-radius: 1rem;\n",
       "  height: 1rem;\n",
       "  width: 1rem;\n",
       "  text-decoration: none;\n",
       "  /* unfitted */\n",
       "  color: var(--sklearn-color-unfitted-level-1);\n",
       "  border: var(--sklearn-color-unfitted-level-1) 1pt solid;\n",
       "}\n",
       "\n",
       "#sk-container-id-1 a.estimator_doc_link.fitted {\n",
       "  /* fitted */\n",
       "  border: var(--sklearn-color-fitted-level-1) 1pt solid;\n",
       "  color: var(--sklearn-color-fitted-level-1);\n",
       "}\n",
       "\n",
       "/* On hover */\n",
       "#sk-container-id-1 a.estimator_doc_link:hover {\n",
       "  /* unfitted */\n",
       "  background-color: var(--sklearn-color-unfitted-level-3);\n",
       "  color: var(--sklearn-color-background);\n",
       "  text-decoration: none;\n",
       "}\n",
       "\n",
       "#sk-container-id-1 a.estimator_doc_link.fitted:hover {\n",
       "  /* fitted */\n",
       "  background-color: var(--sklearn-color-fitted-level-3);\n",
       "}\n",
       "</style><div id=\"sk-container-id-1\" class=\"sk-top-container\"><div class=\"sk-text-repr-fallback\"><pre>LinearRegression()</pre><b>In a Jupyter environment, please rerun this cell to show the HTML representation or trust the notebook. <br />On GitHub, the HTML representation is unable to render, please try loading this page with nbviewer.org.</b></div><div class=\"sk-container\" hidden><div class=\"sk-item\"><div class=\"sk-estimator fitted sk-toggleable\"><input class=\"sk-toggleable__control sk-hidden--visually\" id=\"sk-estimator-id-1\" type=\"checkbox\" checked><label for=\"sk-estimator-id-1\" class=\"sk-toggleable__label fitted sk-toggleable__label-arrow fitted\">&nbsp;&nbsp;LinearRegression<a class=\"sk-estimator-doc-link fitted\" rel=\"noreferrer\" target=\"_blank\" href=\"https://scikit-learn.org/1.5/modules/generated/sklearn.linear_model.LinearRegression.html\">?<span>Documentation for LinearRegression</span></a><span class=\"sk-estimator-doc-link fitted\">i<span>Fitted</span></span></label><div class=\"sk-toggleable__content fitted\"><pre>LinearRegression()</pre></div> </div></div></div></div>"
      ],
      "text/plain": [
       "LinearRegression()"
      ]
     },
     "execution_count": 15,
     "metadata": {},
     "output_type": "execute_result"
    }
   ],
   "source": [
    "from sklearn.linear_model import LinearRegression\n",
    "model=LinearRegression()\n",
    "model.fit(X_train,y_train)"
   ]
  },
  {
   "cell_type": "code",
   "execution_count": 16,
   "id": "65c02604",
   "metadata": {},
   "outputs": [
    {
     "data": {
      "text/plain": [
       "array([29.20409793,  8.47486624,  4.89306056, 40.89950117, -8.294818  ])"
      ]
     },
     "execution_count": 16,
     "metadata": {},
     "output_type": "execute_result"
    }
   ],
   "source": [
    "model.coef_ # m in y=mx+c"
   ]
  },
  {
   "cell_type": "code",
   "execution_count": 17,
   "id": "d23af203",
   "metadata": {},
   "outputs": [
    {
     "data": {
      "text/plain": [
       "np.float64(116.65752813253235)"
      ]
     },
     "execution_count": 17,
     "metadata": {},
     "output_type": "execute_result"
    }
   ],
   "source": [
    "model.intercept_ # c in y=mx+c "
   ]
  },
  {
   "cell_type": "code",
   "execution_count": 18,
   "id": "4a62f8e0",
   "metadata": {},
   "outputs": [],
   "source": [
    "y_pred=model.predict(X_test)"
   ]
  },
  {
   "cell_type": "code",
   "execution_count": 19,
   "id": "7cd587d1",
   "metadata": {},
   "outputs": [
    {
     "data": {
      "text/plain": [
       "array([159.64101889, 149.11830251, 148.68185233, 175.60015239,\n",
       "       151.31845247, 145.08269657, 143.09477053, 151.02341943,\n",
       "       135.84448967, 177.01271667, 152.40400153, 145.50120621,\n",
       "       179.38976954, 142.94556957, 121.46048455, 149.25719764,\n",
       "       166.41317858, 146.93737878, 165.53096255, 156.461375  ,\n",
       "       177.98836596, 139.60441485, 141.8103869 , 137.76721874,\n",
       "       168.80754646, 166.98969269, 131.79137454, 129.44993554,\n",
       "       151.01425956, 145.21231414, 177.2469975 , 152.50232317,\n",
       "       127.52116636, 173.45499226, 159.33287528, 186.0733166 ,\n",
       "       164.64881663, 128.94077866, 164.33938145, 159.13872846,\n",
       "       126.31240256, 156.01290743, 142.74842316, 164.43729413,\n",
       "       168.01133306, 142.01375262, 157.50079402, 154.93299423,\n",
       "       157.37118769, 137.35416162, 165.18675923, 129.76473314,\n",
       "       136.22116595, 147.78430544, 173.64047498, 160.1979455 ,\n",
       "       151.62313943, 150.11041094, 169.82059024, 132.92365651,\n",
       "       151.7670495 , 134.04636135, 169.0987503 , 174.7077061 ,\n",
       "       143.62636548, 159.03433008, 148.25357774, 137.12537733,\n",
       "       119.39037108, 158.73890578, 154.38342435, 159.27090511,\n",
       "       152.82948347, 139.32726615, 151.42527668, 171.65839935,\n",
       "       158.70811233, 135.70290731, 134.22123753, 131.36864035,\n",
       "       136.15956303, 138.68317629, 148.13384594, 144.74493724,\n",
       "       146.82151699, 176.53175767, 141.38726879, 140.49387654,\n",
       "       154.64502123, 174.48366342, 157.84983992, 155.48790978,\n",
       "       176.02965267, 151.64194076, 159.74843724, 145.5042744 ,\n",
       "       150.11389694, 163.13456535, 163.23365145, 137.42110781,\n",
       "       141.24927052, 155.18709952, 133.46255312, 175.60066998,\n",
       "       170.47636269, 135.30594953, 139.95790771, 166.75854371,\n",
       "       151.04062521, 144.27743586, 175.78949804, 133.75443364,\n",
       "       141.86442207, 138.55936026, 137.24118924, 136.05402824,\n",
       "       160.11158932, 151.60927988, 174.40559839, 169.0443988 ,\n",
       "       161.79544705, 147.32850585, 163.47340514, 152.9266415 ,\n",
       "       148.02609576, 137.01798485, 150.45921933, 130.03506479,\n",
       "       156.16520773, 161.62121007, 165.0358063 , 172.23661818,\n",
       "       145.43244148, 120.28119929, 153.48623756, 154.16706108,\n",
       "       140.69478111, 163.81895699, 151.41135917, 134.26087106,\n",
       "       151.25635213, 155.43698548, 163.99793781, 142.89090522,\n",
       "       164.39386626, 160.16363754, 130.44141984, 140.51719069,\n",
       "       128.04724687, 141.17880967, 171.28556989, 142.92189472,\n",
       "       172.18791933, 121.04685205, 151.80509665, 154.17552913,\n",
       "       152.21349421, 146.94238496, 147.83867526, 126.73032208,\n",
       "       150.97714002, 132.30483423, 160.45259967, 123.81388051,\n",
       "       187.97750126, 158.69190172, 143.7576824 , 154.19648237,\n",
       "       119.33147705, 130.86740951, 148.52008476, 142.33105051,\n",
       "       135.45621594, 129.91412705, 139.16005005, 148.8134411 ,\n",
       "       120.32103069, 165.01567676, 147.24621208, 145.5005909 ,\n",
       "       151.71217165, 161.59758581, 157.25081278, 160.57691041,\n",
       "       161.26902732, 165.13009553, 150.59751375, 130.62720873,\n",
       "       140.32970237, 144.57287426, 190.78439606, 153.83624654,\n",
       "       155.70386366, 151.27973708, 159.01432142, 127.9800893 ,\n",
       "       166.60115642, 150.2183028 , 133.47120661, 151.88770133,\n",
       "       144.81775805, 166.02833531, 133.90386101, 161.31590302,\n",
       "       175.20570259, 155.34336181, 162.75638332, 141.26341885,\n",
       "       139.094875  , 153.73030832, 131.37429752, 155.52356253,\n",
       "       148.01159606, 133.2328557 , 147.55503418, 176.53380989,\n",
       "       159.87350981, 179.07045299, 180.83812118, 156.8107069 ,\n",
       "       140.72310638, 124.50956005, 132.68724019, 124.04695576,\n",
       "       157.7183318 , 116.45833954, 150.63960464, 148.11889184,\n",
       "       132.39824141, 146.20986665, 131.51590286, 140.31109077,\n",
       "       132.37152768, 155.99334876, 160.77290486, 150.91639264,\n",
       "       150.06144085, 143.7241854 , 158.0505629 , 126.97123547,\n",
       "       134.92351061, 134.99955857, 140.95031575, 131.56291245,\n",
       "       131.06580791, 169.31421468, 126.16869811, 158.55628293,\n",
       "       151.77961346, 156.88512034, 152.53311335, 148.83639035,\n",
       "       153.29301576, 168.92445321, 154.75248668, 136.32095537,\n",
       "       154.12019771, 180.99193871, 156.22029005, 160.00020124,\n",
       "       152.56082525, 152.02534489, 158.35469262, 176.59571399,\n",
       "       171.4634136 , 153.90509332, 158.65198467, 167.48708688,\n",
       "       160.62645148, 141.88212781, 137.40192226, 164.66614694,\n",
       "       168.74394734, 139.0063972 , 159.83476037, 167.89403961,\n",
       "       154.69081042, 123.70242541, 173.36101158, 154.71490036,\n",
       "       132.59611822, 154.05981313, 127.46293476, 122.37953828,\n",
       "       158.66312036, 147.27764421, 152.06899227, 166.42435523,\n",
       "       137.01132419, 166.80338541, 164.92741699, 152.7858727 ,\n",
       "       148.39439882, 123.88143216, 133.11314274, 153.05358198,\n",
       "       124.69352951, 153.17878154, 157.79977788, 135.96843414,\n",
       "       151.36659067, 145.16304258, 163.18367099, 153.67062691,\n",
       "       138.05931625, 153.2032191 , 151.97956297, 161.9487827 ,\n",
       "       147.84692913, 148.80300584, 148.4875382 , 143.67461058,\n",
       "       165.29154023, 161.49740247, 148.63192296, 152.09905981,\n",
       "       162.38556594, 127.36891083, 167.63254733, 168.92763515,\n",
       "       138.7262228 , 127.88849927, 138.256371  , 145.70555313,\n",
       "       165.98389969, 158.81420108, 172.52276832, 141.35719832,\n",
       "       160.48952123, 158.37224103, 158.32690921, 142.53839691,\n",
       "       147.32986823, 140.88021125, 136.97086341, 169.9375744 ,\n",
       "       168.31644484, 167.95483374, 130.4024745 , 151.4476364 ,\n",
       "       147.7632492 , 163.64765684, 168.55984033, 160.29008814,\n",
       "       146.95001008, 167.63616126, 149.07589118, 142.72903605,\n",
       "       142.53431368, 164.69099565, 151.92775915, 146.07325538,\n",
       "       135.24340676, 151.8963917 , 153.43678486, 144.08969423,\n",
       "       139.23475518, 158.8395588 , 129.09168774, 134.31131662,\n",
       "       150.80760184, 129.26911311, 116.06288528, 159.79227016,\n",
       "       168.13658071, 167.29973367, 147.64573018, 154.7171611 ,\n",
       "       137.74952127, 161.57940329, 146.9158445 , 131.23089585,\n",
       "       150.99994228, 172.14146512, 144.44516969, 151.98363024,\n",
       "       159.76066516, 146.2151703 , 134.97737152, 162.47085331,\n",
       "       178.3647785 , 148.34054481, 124.98464426, 142.59245126,\n",
       "       157.4451334 , 187.83715293, 157.37819685, 166.76844601,\n",
       "       141.05027714, 168.83081341, 166.13248901, 176.00701813,\n",
       "       139.42016763, 181.06308804, 163.68491304, 156.9003526 ,\n",
       "       159.34272833, 130.80722439, 129.82319633, 153.50571111,\n",
       "       122.36767597, 147.81192432, 133.83609322, 158.71700812,\n",
       "       177.70628942, 150.46917856, 163.7886918 , 146.92343916,\n",
       "       159.62747851, 157.70064938, 154.63414149, 162.4137346 ,\n",
       "       134.70016385, 129.49114647, 168.26263904, 154.12048197,\n",
       "       150.40889637, 145.66477732, 128.03862843, 135.2949328 ,\n",
       "       156.13440412, 137.63157995, 118.99706674, 155.97085531,\n",
       "       170.37543064, 132.1787539 , 145.50517139, 163.44347531,\n",
       "       125.52820799, 163.43960792, 159.91373682, 152.87121744,\n",
       "       156.64342103, 148.04692863, 159.81815763, 129.95586336,\n",
       "       161.04084908, 174.05909623, 180.43606681, 164.73294286,\n",
       "       150.97124366, 178.28088489, 127.87567236, 147.43165261,\n",
       "       133.724548  , 131.55647858, 162.37234217, 141.66598667,\n",
       "       123.22411581, 160.02593049, 123.94604466, 157.28002804,\n",
       "       142.80929996, 132.06567929, 161.63191064, 132.19080757,\n",
       "       145.99536805, 156.60586395, 147.18792118, 143.92388798,\n",
       "       138.28336797, 129.48999409, 161.5744287 , 141.1972889 ,\n",
       "       152.17253776, 168.35512833, 137.35437027, 158.16753306,\n",
       "       150.89325173, 159.43861311, 145.80292825, 183.84988144,\n",
       "       178.21262185, 147.41851318, 141.20917779, 150.03438201,\n",
       "       154.3105605 , 145.35046874, 154.81150797, 136.82556528,\n",
       "       145.75016705, 142.96118587, 157.53652806, 152.863676  ,\n",
       "       139.0328201 , 141.06271743, 160.28788663, 160.22166938,\n",
       "       135.58820975, 167.2424164 , 150.1914601 , 174.8365344 ,\n",
       "       150.38267394, 138.00916789, 146.55616379, 167.60056442,\n",
       "       155.07308115, 162.27680517, 158.80307918, 153.1246123 ,\n",
       "       129.18193445, 143.3356227 , 152.75427381, 151.4537004 ,\n",
       "       164.18667311, 168.22229144, 165.36141331, 138.23951776,\n",
       "       144.04286936, 126.66105336, 157.15569659, 156.90772988,\n",
       "       137.49792947, 155.69832341, 146.17836669, 159.02173143,\n",
       "       140.19343931, 164.0663624 , 140.77752409, 168.77900777,\n",
       "       125.57958965, 147.73910897, 149.78576252, 124.77981019,\n",
       "       146.6188529 , 164.02739267, 137.32636378, 146.97939495,\n",
       "       154.70760513, 163.55764963, 156.81398076, 144.96784437,\n",
       "       163.03025628, 138.06565013, 151.16582622, 145.16098648,\n",
       "       122.32986495, 179.87908987, 141.43009442, 139.64990592,\n",
       "       157.13553961, 154.32562621, 152.28537929, 146.4039056 ,\n",
       "       141.19449546, 149.90204713, 131.73925042, 164.16958805,\n",
       "       174.54214557, 150.30728977, 160.42486022, 159.25843642,\n",
       "       138.24175512, 142.45196963, 171.61165051, 148.85506404,\n",
       "       166.98902873, 155.80075182, 137.26710764, 155.23217071,\n",
       "       165.08658779, 131.10111973, 170.93316729, 137.73413842,\n",
       "       156.41989153, 153.70035643, 152.37597922, 152.24241766,\n",
       "       138.19083767, 169.82919467, 148.13892423, 169.82518707,\n",
       "       155.73059166, 185.50115562, 185.28863647, 147.01367062,\n",
       "       160.18227731, 180.60378105, 148.10592108, 141.88107044,\n",
       "       155.84632956, 148.54045006, 144.2027882 , 155.1368245 ,\n",
       "       145.45176788, 182.16982126, 145.37811049, 144.66832288,\n",
       "       154.25811929, 136.94377434, 166.0563529 , 134.85128632,\n",
       "       150.8763664 , 121.67351969, 167.80547366, 134.80933516,\n",
       "       153.72602848, 158.35287577, 166.77540501, 132.49692844,\n",
       "       132.34701274, 139.07567361, 165.71944161, 139.96411697,\n",
       "       141.8790931 , 138.98244027, 134.56239744, 142.74138864,\n",
       "       143.10416549, 182.18414358, 162.79459172, 130.1030273 ,\n",
       "       165.8679139 , 157.13967787, 141.37633203, 173.20868797,\n",
       "       128.16631644, 139.13875637, 152.08390813, 168.58304399,\n",
       "       148.52269669, 149.95681219, 162.37618183, 162.40506941,\n",
       "       155.45388287, 126.93526217, 149.54460366, 170.97263697,\n",
       "       170.09932975, 145.28861425])"
      ]
     },
     "execution_count": 19,
     "metadata": {},
     "output_type": "execute_result"
    }
   ],
   "source": [
    "y_pred"
   ]
  },
  {
   "cell_type": "code",
   "execution_count": 20,
   "id": "d43e3ee3",
   "metadata": {},
   "outputs": [
    {
     "data": {
      "text/plain": [
       "array([163.47   , 144.3    , 150.81   , 178.14   , 149.28   , 141.45   ,\n",
       "       173.08   , 157.65   , 135.05   , 178.34   , 149.24   , 146.9    ,\n",
       "       177.62   , 136.99   , 114.32   , 147.44   , 169.89   , 135.03   ,\n",
       "       164.08   , 160.7    , 172.1    , 141.81   , 138.19   , 136.13   ,\n",
       "       170.2    , 166.01   , 132.35   , 193.82125, 150.45   , 193.82125,\n",
       "       177.08   , 151.61   , 128.61   , 173.61   , 155.65   , 183.36   ,\n",
       "       159.77   , 125.94   , 149.7    , 164.26   , 116.93   , 155.52   ,\n",
       "       142.81   , 164.7    , 171.48   , 150.9    , 161.8    , 151.32   ,\n",
       "       152.42   , 134.45   , 160.5    , 123.71   , 130.38   , 143.63   ,\n",
       "       176.72   , 159.91   , 193.82125, 149.25   , 168.74   , 137.62   ,\n",
       "       149.52   , 134.3    , 163.15   , 170.7    , 139.88   , 170.78   ,\n",
       "       137.3    , 131.05   , 113.18   , 154.94   , 151.84   , 152.68   ,\n",
       "       140.57   , 141.67   , 151.68   , 164.69   , 157.89   , 134.73   ,\n",
       "       133.42   , 133.29   , 129.7    , 129.78   , 144.77   , 133.04   ,\n",
       "       148.24   , 193.82125, 136.99   , 132.73   , 151.89   , 168.01   ,\n",
       "       156.14   , 151.79   , 177.74   , 154.26   , 154.63   , 146.48   ,\n",
       "       153.21   , 152.99   , 193.82125, 126.03   , 137.58   , 157.55   ,\n",
       "       125.91   , 171.12   , 169.68   , 127.05   , 131.97   , 168.7    ,\n",
       "       151.57   , 142.13   , 193.82125, 134.91   , 142.35   , 140.56   ,\n",
       "       132.08   , 133.13   , 148.65   , 157.04   , 173.63   , 162.23   ,\n",
       "       152.62   , 166.98   , 165.61   , 160.24   , 151.26   , 138.71   ,\n",
       "       138.38   , 129.32   , 143.2    , 159.81   , 159.12   , 172.96   ,\n",
       "       140.04   , 113.72   , 193.82125, 148.35   , 138.07   , 163.91   ,\n",
       "       150.89   , 130.18   , 148.44   , 150.14   , 170.03   , 141.7    ,\n",
       "       162.8    , 153.45   , 122.56   , 138.28   , 126.94   , 134.04   ,\n",
       "       173.88   , 140.16   , 166.86   , 116.02   , 152.66   , 140.48   ,\n",
       "       153.91   , 146.97   , 152.97   , 117.75   , 154.53   , 139.73   ,\n",
       "       165.32   , 125.14   , 186.19   , 156.     , 141.     , 144.88   ,\n",
       "       115.36   , 117.2    , 136.62   , 141.49   , 136.     , 130.6    ,\n",
       "       144.67   , 143.4    , 115.81   , 171.95   , 148.9    , 142.9    ,\n",
       "       148.84   , 154.85   , 165.06   , 155.21   , 149.64   , 162.37   ,\n",
       "       147.52   , 124.6    , 132.38   , 140.11   , 186.2    , 166.12   ,\n",
       "       149.71   , 146.44   , 173.08   , 123.74   , 165.58   , 149.06   ,\n",
       "       132.66   , 154.37   , 142.4    , 165.28   , 129.83   , 160.08   ,\n",
       "       178.54   , 158.     , 164.33   , 138.54   , 144.01   , 147.99   ,\n",
       "       136.67   , 154.88   , 147.56   , 129.82   , 142.95   , 172.27   ,\n",
       "       154.9    , 169.61   , 175.97   , 162.28   , 131.67   , 117.65   ,\n",
       "       125.22   , 121.7    , 152.57   , 121.48   , 153.88   , 147.9    ,\n",
       "       131.52   , 145.06   , 126.21   , 138.08   , 120.11   , 152.73   ,\n",
       "       161.53   , 143.68   , 146.53   , 134.     , 153.67   , 193.82125,\n",
       "       126.89   , 124.4    , 142.38   , 139.78   , 139.54   , 165.92   ,\n",
       "       129.48   , 156.57   , 150.11   , 149.2    , 152.07   , 139.76   ,\n",
       "       149.37   , 164.87   , 152.32   , 135.28   , 157.05   , 174.45   ,\n",
       "       152.87   , 156.98   , 193.82125, 148.51   , 193.82125, 179.38   ,\n",
       "       160.43   , 158.82   , 155.97   , 179.74   , 163.15   , 139.56   ,\n",
       "       133.25   , 169.31   , 193.82125, 133.2    , 165.36   , 163.69   ,\n",
       "       158.21   , 118.33   , 166.34   , 158.27   , 136.76   , 153.66   ,\n",
       "       127.95   , 122.58   , 146.85   , 152.13   , 144.2    , 158.53   ,\n",
       "       138.21   , 172.51   , 161.11   , 147.2    , 149.38   , 124.26   ,\n",
       "       121.17   , 155.82   , 119.45   , 143.68   , 193.82125, 128.5    ,\n",
       "       148.25   , 149.07   , 155.     , 153.81   , 153.44   , 146.64   ,\n",
       "       157.47   , 163.28   , 138.02   , 146.57   , 139.32   , 135.83   ,\n",
       "       161.98   , 193.82125, 156.85   , 149.23   , 156.46   , 126.82   ,\n",
       "       158.83   , 179.49   , 130.15   , 121.37   , 128.89   , 141.63   ,\n",
       "       166.27   , 158.46   , 164.81   , 138.97   , 159.53   , 160.42   ,\n",
       "       159.54   , 141.51   , 145.41   , 138.61   , 137.75   , 174.2    ,\n",
       "       172.53   , 169.71   , 122.     , 155.15   , 146.67   , 168.37   ,\n",
       "       163.62   , 159.71   , 149.41   , 161.52   , 153.09   , 143.63   ,\n",
       "       140.71   , 164.7    , 148.74   , 140.15   , 138.19   , 149.93   ,\n",
       "       152.56   , 146.77   , 140.98   , 153.02   , 118.63   , 138.37   ,\n",
       "       152.21   , 117.59   , 112.76   , 159.44   , 165.02   , 167.09   ,\n",
       "       140.55   , 157.16   , 133.7    , 156.09   , 193.82125, 122.49   ,\n",
       "       145.87   , 174.5    , 147.87   , 153.77   , 156.24   , 138.93   ,\n",
       "       132.69   , 164.19   , 171.58   , 140.2    , 114.55   , 132.03   ,\n",
       "       165.23   , 182.94   , 157.49   , 165.19   , 147.29   , 163.77   ,\n",
       "       167.99   , 171.84   , 148.22   , 188.55   , 158.9    , 159.09   ,\n",
       "       154.79   , 124.84   , 126.1    , 153.74   , 129.04   , 154.39   ,\n",
       "       139.     , 161.3    , 170.96   , 148.36   , 175.31   , 136.97   ,\n",
       "       160.56   , 151.62   , 161.67   , 162.25   , 132.02   , 134.2    ,\n",
       "       160.99   , 152.8    , 149.85   , 146.74   , 119.79   , 129.02   ,\n",
       "       154.41   , 129.74   , 109.91   , 160.19   , 167.51   , 129.19   ,\n",
       "       145.29   , 152.47   , 125.55   , 161.66   , 153.77   , 155.96   ,\n",
       "       153.41   , 152.29   , 154.87   , 133.14   , 164.13   , 172.46   ,\n",
       "       184.47   , 169.33   , 143.39   , 161.56   , 121.03   , 146.09   ,\n",
       "       134.87   , 129.85   , 151.1    , 142.56   , 126.52   , 155.44   ,\n",
       "       128.84   , 160.54   , 143.18   , 131.1    , 170.54   , 189.94   ,\n",
       "       141.92   , 155.11   , 144.66   , 140.78   , 136.33   , 130.69   ,\n",
       "       160.67   , 135.5    , 143.66   , 164.19   , 138.18   , 162.83   ,\n",
       "       154.22   , 178.18   , 134.75   , 180.35   , 174.46   , 143.37   ,\n",
       "       141.12   , 144.87   , 160.38   , 147.41   , 154.31   , 135.71   ,\n",
       "       142.61   , 142.15   , 153.64   , 148.63   , 136.96   , 138.44   ,\n",
       "       153.91   , 159.12   , 129.55   , 168.36   , 145.42   , 168.99   ,\n",
       "       149.56   , 136.95   , 139.15   , 166.33   , 147.84   , 160.12   ,\n",
       "       160.03   , 156.64   , 114.78   , 137.08   , 150.37   , 146.85   ,\n",
       "       166.98   , 163.27   , 154.71   , 133.37   , 139.97   , 122.54   ,\n",
       "       155.22   , 151.12   , 134.53   , 193.82125, 147.28   , 151.85   ,\n",
       "       136.08   , 160.35   , 135.78   , 167.67   , 108.44   , 154.45   ,\n",
       "       144.76   , 127.9    , 193.82125, 158.35   , 132.31   , 154.27   ,\n",
       "       164.23   , 150.78   , 158.33   , 144.43   , 158.14   , 138.4    ,\n",
       "       141.86   , 132.82   , 154.85   , 173.29   , 150.01   , 137.75   ,\n",
       "       152.74   , 151.57   , 149.45   , 139.33   , 135.1    , 148.21   ,\n",
       "       128.65   , 165.25   , 176.58   , 140.23   , 153.54   , 157.53   ,\n",
       "       132.03   , 137.43   , 171.56   , 152.79   , 170.71   , 150.65   ,\n",
       "       130.29   , 150.2    , 164.89   , 127.03   , 176.78   , 128.37   ,\n",
       "       155.31   , 149.93   , 150.6    , 147.3    , 141.89   , 164.15   ,\n",
       "       135.59   , 167.56   , 150.92   , 190.89   , 185.17   , 138.22   ,\n",
       "       164.72   , 175.     , 150.69   , 141.56   , 161.3    , 145.65   ,\n",
       "       145.07   , 147.08   , 144.51   , 183.75   , 137.31   , 138.05   ,\n",
       "       149.5    , 124.52   , 165.33   , 139.11   , 156.62   , 115.28   ,\n",
       "       169.15   , 133.52   , 145.16   , 160.59   , 178.59   , 123.51   ,\n",
       "       116.67   , 135.65   , 164.05   , 134.64   , 139.37   , 133.48   ,\n",
       "       123.23   , 145.96   , 136.18   , 181.64   , 193.82125, 124.58   ,\n",
       "       165.28   , 154.1    , 136.6    , 177.28   , 129.85   , 193.56   ,\n",
       "       189.49   , 193.82125, 140.25   , 151.91   , 156.16   , 155.21   ,\n",
       "       149.65   , 125.4    , 148.61   , 165.76   , 168.52   , 144.61   ])"
      ]
     },
     "execution_count": 20,
     "metadata": {},
     "output_type": "execute_result"
    }
   ],
   "source": [
    "y_test.values"
   ]
  },
  {
   "cell_type": "markdown",
   "id": "e2491ea8",
   "metadata": {},
   "source": [
    "Evaluation"
   ]
  },
  {
   "cell_type": "code",
   "execution_count": 21,
   "id": "8fe246df",
   "metadata": {},
   "outputs": [],
   "source": [
    "from sklearn.metrics import mean_absolute_error, root_mean_squared_error, mean_squared_error, r2_score"
   ]
  },
  {
   "cell_type": "code",
   "execution_count": 22,
   "id": "c8c4d3a8",
   "metadata": {},
   "outputs": [
    {
     "name": "stdout",
     "output_type": "stream",
     "text": [
      "R Squared Value: 0.6969853787017625\n",
      "Mean Absolute Error: 5.758127068423489\n",
      "Root Mean Squared Error: 9.620950415319475\n",
      "Mean Squared Error: 92.56268689403599\n"
     ]
    }
   ],
   "source": [
    "print(\"R Squared Value:\", r2_score(y_test,y_pred))\n",
    "print(\"Mean Absolute Error:\", mean_absolute_error(y_test,y_pred))\n",
    "print(\"Root Mean Squared Error:\", root_mean_squared_error(y_test,y_pred))\n",
    "print(\"Mean Squared Error:\", mean_squared_error(y_test,y_pred))"
   ]
  },
  {
   "cell_type": "markdown",
   "id": "daca7d4c",
   "metadata": {},
   "source": [
    "Other Regression Models"
   ]
  },
  {
   "cell_type": "code",
   "execution_count": 23,
   "id": "b93284e3",
   "metadata": {},
   "outputs": [
    {
     "name": "stdout",
     "output_type": "stream",
     "text": [
      "KNeighborsRegressor()\n",
      "___________________________\n",
      "R Squared Value: 0.6362321902748989\n",
      "Mean Absolute Error: 6.650666269841269\n",
      "Root Mean Squared Error: 10.541400564912637\n",
      "Mean Squared Error: 111.12112586994047\n",
      "\n",
      "\n",
      "SVR()\n",
      "___________________________\n",
      "R Squared Value: 0.6692508846483882\n",
      "Mean Absolute Error: 6.048514894958417\n",
      "Root Mean Squared Error: 10.051607681301995\n",
      "Mean Squared Error: 101.03481697880926\n",
      "\n",
      "\n",
      "DecisionTreeRegressor()\n",
      "___________________________\n",
      "R Squared Value: 0.24686894668087378\n",
      "Mean Absolute Error: 9.832275793650794\n",
      "Root Mean Squared Error: 15.16776046054238\n",
      "Mean Squared Error: 230.0609573883928\n",
      "\n",
      "\n",
      "RandomForestRegressor()\n",
      "___________________________\n",
      "R Squared Value: 0.6440220852918748\n",
      "Mean Absolute Error: 6.693491349206364\n",
      "Root Mean Squared Error: 10.427920492701976\n",
      "Mean Squared Error: 108.7415258021138\n",
      "\n",
      "\n",
      "GradientBoostingRegressor()\n",
      "___________________________\n",
      "R Squared Value: 0.6761869654068975\n",
      "Mean Absolute Error: 6.223536198363216\n",
      "Root Mean Squared Error: 9.945654017527573\n",
      "Mean Squared Error: 98.91603383636235\n",
      "\n",
      "\n"
     ]
    }
   ],
   "source": [
    "from sklearn.neighbors import KNeighborsRegressor\n",
    "from sklearn.svm import SVR\n",
    "from sklearn.tree import DecisionTreeRegressor\n",
    "from sklearn.ensemble import RandomForestRegressor, GradientBoostingRegressor\n",
    "\n",
    "models=[KNeighborsRegressor(),SVR(), DecisionTreeRegressor(), RandomForestRegressor(), GradientBoostingRegressor()]\n",
    "\n",
    "for model in models:\n",
    "    model.fit(X_train, y_train)\n",
    "    y_pred=model.predict(X_test)\n",
    "    print(model)\n",
    "    print(\"_\"*27)\n",
    "    print(\"R Squared Value:\", r2_score(y_test,y_pred))\n",
    "    print(\"Mean Absolute Error:\", mean_absolute_error(y_test,y_pred))\n",
    "    print(\"Root Mean Squared Error:\", root_mean_squared_error(y_test,y_pred))   \n",
    "    print(\"Mean Squared Error:\", mean_squared_error(y_test,y_pred))\n",
    "    print('\\n')\n",
    "    "
   ]
  },
  {
   "cell_type": "markdown",
   "id": "c64cbabe",
   "metadata": {},
   "source": [
    "The best model pick for this case is  - Linear regression"
   ]
  },
  {
   "cell_type": "markdown",
   "id": "c17579b6",
   "metadata": {},
   "source": [
    "Cross Validation"
   ]
  },
  {
   "cell_type": "code",
   "execution_count": null,
   "id": "4eba82c0",
   "metadata": {},
   "outputs": [
    {
     "name": "stdout",
     "output_type": "stream",
     "text": [
      "0.6590842254343346\n"
     ]
    }
   ],
   "source": [
    "from sklearn.model_selection import cross_val_score\n",
    "print(cross_val_score(LinearRegression(), X_scaled,y,cv=5).mean())"
   ]
  },
  {
   "cell_type": "markdown",
   "id": "b9c9da4a",
   "metadata": {},
   "source": [
    "To Test the model"
   ]
  },
  {
   "cell_type": "code",
   "execution_count": null,
   "id": "395e76f4",
   "metadata": {},
   "outputs": [
    {
     "data": {
      "text/html": [
       "<div>\n",
       "<style scoped>\n",
       "    .dataframe tbody tr th:only-of-type {\n",
       "        vertical-align: middle;\n",
       "    }\n",
       "\n",
       "    .dataframe tbody tr th {\n",
       "        vertical-align: top;\n",
       "    }\n",
       "\n",
       "    .dataframe thead th {\n",
       "        text-align: right;\n",
       "    }\n",
       "</style>\n",
       "<table border=\"1\" class=\"dataframe\">\n",
       "  <thead>\n",
       "    <tr style=\"text-align: right;\">\n",
       "      <th></th>\n",
       "      <th>Age</th>\n",
       "      <th>Weight</th>\n",
       "      <th>Height</th>\n",
       "      <th>BMI</th>\n",
       "      <th>Exercise_Freq</th>\n",
       "    </tr>\n",
       "  </thead>\n",
       "  <tbody>\n",
       "    <tr>\n",
       "      <th>2024</th>\n",
       "      <td>19</td>\n",
       "      <td>50</td>\n",
       "      <td>184</td>\n",
       "      <td>14.77</td>\n",
       "      <td>0</td>\n",
       "    </tr>\n",
       "  </tbody>\n",
       "</table>\n",
       "</div>"
      ],
      "text/plain": [
       "      Age  Weight  Height    BMI  Exercise_Freq\n",
       "2024   19      50     184  14.77              0"
      ]
     },
     "execution_count": 25,
     "metadata": {},
     "output_type": "execute_result"
    }
   ],
   "source": [
    "X.sample(1)  # pull a sample data from X containing features"
   ]
  },
  {
   "cell_type": "code",
   "execution_count": null,
   "id": "ec510ab8",
   "metadata": {},
   "outputs": [
    {
     "name": "stderr",
     "output_type": "stream",
     "text": [
      "C:\\Users\\ajayk\\AppData\\Roaming\\Python\\Python311\\site-packages\\sklearn\\base.py:493: UserWarning: X does not have valid feature names, but MinMaxScaler was fitted with feature names\n",
      "  warnings.warn(\n"
     ]
    }
   ],
   "source": [
    "test_data=[[25,62,169,21,3]]  # provide a sample data matching the features, into a 2D variable to test the model\n",
    "test=minmax.transform(test_data) # Need to scale the test_data since the original model was trained on scaled data"
   ]
  },
  {
   "cell_type": "code",
   "execution_count": 30,
   "id": "79cd6609",
   "metadata": {},
   "outputs": [
    {
     "data": {
      "text/plain": [
       "array([130.32598003])"
      ]
     },
     "execution_count": 30,
     "metadata": {},
     "output_type": "execute_result"
    }
   ],
   "source": [
    "model.predict(test)"
   ]
  },
  {
   "cell_type": "markdown",
   "id": "0f98454a",
   "metadata": {},
   "source": [
    "Deployment"
   ]
  },
  {
   "cell_type": "code",
   "execution_count": 31,
   "id": "452bbca6",
   "metadata": {},
   "outputs": [],
   "source": [
    "data={'model':model, 'scaler': minmax, 'features':list(X.columns)}"
   ]
  },
  {
   "cell_type": "code",
   "execution_count": 32,
   "id": "b057c6b6",
   "metadata": {},
   "outputs": [],
   "source": [
    "import pickle\n",
    "with open('bp_prediction.pkl','wb') as obj1:\n",
    "    pickle.dump(data,obj1)"
   ]
  },
  {
   "cell_type": "code",
   "execution_count": 1,
   "id": "2af94b3d",
   "metadata": {},
   "outputs": [
    {
     "ename": "NameError",
     "evalue": "name 'pickle' is not defined",
     "output_type": "error",
     "traceback": [
      "\u001b[31m---------------------------------------------------------------------------\u001b[39m",
      "\u001b[31mNameError\u001b[39m                                 Traceback (most recent call last)",
      "\u001b[36mCell\u001b[39m\u001b[36m \u001b[39m\u001b[32mIn[1]\u001b[39m\u001b[32m, line 2\u001b[39m\n\u001b[32m      1\u001b[39m \u001b[38;5;28;01mwith\u001b[39;00m \u001b[38;5;28mopen\u001b[39m(\u001b[33m'\u001b[39m\u001b[33mbp_prediction.pkl\u001b[39m\u001b[33m'\u001b[39m,\u001b[33m'\u001b[39m\u001b[33mrb\u001b[39m\u001b[33m'\u001b[39m) \u001b[38;5;28;01mas\u001b[39;00m obj1:\n\u001b[32m----> \u001b[39m\u001b[32m2\u001b[39m     a=\u001b[43mpickle\u001b[49m.load(obj1)\n",
      "\u001b[31mNameError\u001b[39m: name 'pickle' is not defined"
     ]
    }
   ],
   "source": [
    "with open('bp_prediction.pkl','rb') as obj1:\n",
    "    a=pickle.load(obj1)"
   ]
  }
 ],
 "metadata": {
  "kernelspec": {
   "display_name": "Python 3",
   "language": "python",
   "name": "python3"
  },
  "language_info": {
   "codemirror_mode": {
    "name": "ipython",
    "version": 3
   },
   "file_extension": ".py",
   "mimetype": "text/x-python",
   "name": "python",
   "nbconvert_exporter": "python",
   "pygments_lexer": "ipython3",
   "version": "3.11.0"
  }
 },
 "nbformat": 4,
 "nbformat_minor": 5
}
