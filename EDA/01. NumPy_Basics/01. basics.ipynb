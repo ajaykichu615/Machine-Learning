{
 "cells": [
  {
   "cell_type": "markdown",
   "id": "5c83df34",
   "metadata": {},
   "source": [
    " ## Jupyter Notebook Basics"
   ]
  },
  {
   "cell_type": "code",
   "execution_count": 26,
   "id": "e363aa34",
   "metadata": {},
   "outputs": [
    {
     "name": "stdout",
     "output_type": "stream",
     "text": [
      "Palindrome\n"
     ]
    }
   ],
   "source": [
    "a = input('Enter a string:')\n",
    "if a.lower() == a.lower()[::-1]:\n",
    "    print('Palindrome')\n",
    "else:\n",
    "    print('Not Palindrome')    \n"
   ]
  },
  {
   "cell_type": "code",
   "execution_count": 27,
   "id": "a85ee259",
   "metadata": {},
   "outputs": [
    {
     "name": "stdout",
     "output_type": "stream",
     "text": [
      "3000\n"
     ]
    }
   ],
   "source": [
    "b = 30\n",
    "print(b*100)"
   ]
  },
  {
   "cell_type": "markdown",
   "id": "eec6ffb6",
   "metadata": {},
   "source": [
    "#### Numpy - Numerical Python"
   ]
  },
  {
   "cell_type": "markdown",
   "id": "1244ec2f",
   "metadata": {},
   "source": [
    "Python Data Structures\n",
    "\n",
    "List, Tuple, Set, Dictionary"
   ]
  },
  {
   "cell_type": "markdown",
   "id": "3cd10e2c",
   "metadata": {},
   "source": [
    "Arrays --> Not a built in data structure in python.\n",
    "Therefore, with the help of numpy, we use numpy arrays.\n",
    "\n",
    "Properties of numpy arrays:\n",
    "\n",
    "1. Only Homomgeneous data can be added in a numpy array\n",
    "2. Fixed size\n",
    "3. Size and datatype is immutable but values can change\n",
    "4. Contiguous memory allocations\n",
    "5. We can create n dimensional arrays using numpy\n",
    "\n",
    "\n"
   ]
  },
  {
   "cell_type": "code",
   "execution_count": 28,
   "id": "bca6e3b5",
   "metadata": {},
   "outputs": [],
   "source": [
    "import numpy as np"
   ]
  },
  {
   "cell_type": "code",
   "execution_count": 29,
   "id": "7beed814",
   "metadata": {},
   "outputs": [],
   "source": [
    "lst = [43,3,2,123,4,23]\n",
    "arr1 =  np.array(lst)"
   ]
  },
  {
   "cell_type": "code",
   "execution_count": 30,
   "id": "555b3d72",
   "metadata": {},
   "outputs": [
    {
     "data": {
      "text/plain": [
       "array([ 43,   3,   2, 100,   4,  23])"
      ]
     },
     "execution_count": 30,
     "metadata": {},
     "output_type": "execute_result"
    }
   ],
   "source": [
    "arr1.ndim\n",
    "arr1[3] = 100\n",
    "arr1"
   ]
  },
  {
   "cell_type": "code",
   "execution_count": 31,
   "id": "05ad270b",
   "metadata": {},
   "outputs": [
    {
     "data": {
      "text/plain": [
       "array([43,  3,  2,  2,  2,  2])"
      ]
     },
     "execution_count": 31,
     "metadata": {},
     "output_type": "execute_result"
    }
   ],
   "source": [
    "arr1[3:]=2\n",
    "arr1"
   ]
  },
  {
   "cell_type": "code",
   "execution_count": 32,
   "id": "41a16dc7",
   "metadata": {},
   "outputs": [
    {
     "data": {
      "text/plain": [
       "array([20, 20, 20, 20, 20, 20])"
      ]
     },
     "execution_count": 32,
     "metadata": {},
     "output_type": "execute_result"
    }
   ],
   "source": [
    "arr1[:] = 20\n",
    "arr1"
   ]
  },
  {
   "cell_type": "code",
   "execution_count": 33,
   "id": "fe30d0a1",
   "metadata": {},
   "outputs": [
    {
     "data": {
      "text/plain": [
       "array([20,  1,  2,  3,  4, 20])"
      ]
     },
     "execution_count": 33,
     "metadata": {},
     "output_type": "execute_result"
    }
   ],
   "source": [
    "arr1[1:5] = 1,2,3,4\n",
    "arr1"
   ]
  },
  {
   "cell_type": "code",
   "execution_count": 34,
   "id": "e89d8651",
   "metadata": {},
   "outputs": [
    {
     "data": {
      "text/plain": [
       "array([30, 11, 12, 13, 14, 30])"
      ]
     },
     "execution_count": 34,
     "metadata": {},
     "output_type": "execute_result"
    }
   ],
   "source": [
    "arr1 += 10 # broadcasting\n",
    "arr1"
   ]
  },
  {
   "cell_type": "code",
   "execution_count": 35,
   "id": "531e6672",
   "metadata": {},
   "outputs": [
    {
     "data": {
      "text/plain": [
       "array([ True, False,  True,  True,  True,  True])"
      ]
     },
     "execution_count": 35,
     "metadata": {},
     "output_type": "execute_result"
    }
   ],
   "source": [
    "arr1 > 11"
   ]
  },
  {
   "cell_type": "code",
   "execution_count": 36,
   "id": "3adebf5e",
   "metadata": {},
   "outputs": [
    {
     "data": {
      "text/plain": [
       "array([30, 12, 14, 30])"
      ]
     },
     "execution_count": 36,
     "metadata": {},
     "output_type": "execute_result"
    }
   ],
   "source": [
    "arr1[arr1%2==0]"
   ]
  },
  {
   "cell_type": "code",
   "execution_count": 37,
   "id": "52ea49f3",
   "metadata": {},
   "outputs": [
    {
     "data": {
      "text/plain": [
       "array([30, 11, 12,  4,  5,  1])"
      ]
     },
     "execution_count": 37,
     "metadata": {},
     "output_type": "execute_result"
    }
   ],
   "source": [
    "arr1[-1] = True\n",
    "arr1[-2] = 5.5\n",
    "arr1[-3] = '4'\n",
    "arr1"
   ]
  },
  {
   "cell_type": "markdown",
   "id": "86d7a77c",
   "metadata": {},
   "source": [
    "### 2D Array"
   ]
  },
  {
   "cell_type": "code",
   "execution_count": 38,
   "id": "9c03e6ad",
   "metadata": {},
   "outputs": [
    {
     "data": {
      "text/plain": [
       "2"
      ]
     },
     "execution_count": 38,
     "metadata": {},
     "output_type": "execute_result"
    }
   ],
   "source": [
    "lst = [[4,5,6,4],\n",
    "[7,8,9,66],\n",
    "[4,2,3,3],\n",
    "[34,2,1,55]]\n",
    "arr2 = np.array(lst)\n",
    "arr2.ndim # prints number of dimensions  "
   ]
  },
  {
   "cell_type": "code",
   "execution_count": 39,
   "id": "526b9219",
   "metadata": {},
   "outputs": [
    {
     "data": {
      "text/plain": [
       "array([[ 4,  5,  6,  4],\n",
       "       [ 7,  8,  9, 66],\n",
       "       [ 4,  2,  3,  3],\n",
       "       [34,  2,  1, 55]])"
      ]
     },
     "execution_count": 39,
     "metadata": {},
     "output_type": "execute_result"
    }
   ],
   "source": [
    "arr2.shape # (rows,columns)\n",
    "arr2\n"
   ]
  },
  {
   "cell_type": "code",
   "execution_count": 40,
   "id": "413db7e5",
   "metadata": {},
   "outputs": [
    {
     "data": {
      "text/plain": [
       "4"
      ]
     },
     "execution_count": 40,
     "metadata": {},
     "output_type": "execute_result"
    }
   ],
   "source": [
    "arr2.size # number of elements inside array\n",
    "\n",
    "len(arr2)"
   ]
  },
  {
   "cell_type": "code",
   "execution_count": 41,
   "id": "8dca5ef2",
   "metadata": {},
   "outputs": [
    {
     "data": {
      "text/plain": [
       "dtype('int64')"
      ]
     },
     "execution_count": 41,
     "metadata": {},
     "output_type": "execute_result"
    }
   ],
   "source": [
    "arr2.dtype"
   ]
  },
  {
   "cell_type": "code",
   "execution_count": 42,
   "id": "d1fd189c",
   "metadata": {},
   "outputs": [
    {
     "data": {
      "text/plain": [
       "array([[ 4,  5,  6,  4],\n",
       "       [ 7,  8,  9, 66],\n",
       "       [ 4,  2,  3,  3],\n",
       "       [-1,  2,  1, 55]])"
      ]
     },
     "execution_count": 42,
     "metadata": {},
     "output_type": "execute_result"
    }
   ],
   "source": [
    "arr2[3,0] = -1 # to change a value in a 2D array, mention both row & column index. Here '34' changed to '-1'\n",
    "arr2"
   ]
  },
  {
   "cell_type": "code",
   "execution_count": 43,
   "id": "3f5ca22c",
   "metadata": {},
   "outputs": [
    {
     "data": {
      "text/plain": [
       "array([4, 4])"
      ]
     },
     "execution_count": 43,
     "metadata": {},
     "output_type": "execute_result"
    }
   ],
   "source": [
    "arr2[0::2,0]"
   ]
  },
  {
   "cell_type": "markdown",
   "id": "29611247",
   "metadata": {},
   "source": [
    "### Advanced Indexing"
   ]
  },
  {
   "cell_type": "code",
   "execution_count": 44,
   "id": "f941af02",
   "metadata": {},
   "outputs": [
    {
     "data": {
      "text/plain": [
       "array([ 4,  4, -1])"
      ]
     },
     "execution_count": 44,
     "metadata": {},
     "output_type": "execute_result"
    }
   ],
   "source": [
    "arr2[[0,0,3],[0,3,0]]"
   ]
  },
  {
   "cell_type": "code",
   "execution_count": 45,
   "id": "61358430",
   "metadata": {},
   "outputs": [
    {
     "data": {
      "text/plain": [
       "array([[ 4, 10,  6,  4],\n",
       "       [ 7,  8,  9, 66],\n",
       "       [ 4,  2,  3, 10],\n",
       "       [10,  2,  1, 55]])"
      ]
     },
     "execution_count": 45,
     "metadata": {},
     "output_type": "execute_result"
    }
   ],
   "source": [
    "arr2[[0,2,3],[1,3,0]] = 10\n",
    "arr2"
   ]
  },
  {
   "cell_type": "code",
   "execution_count": null,
   "id": "7aeb9a85",
   "metadata": {},
   "outputs": [],
   "source": [
    "arr2[[0,2]] = arr2[[2,0]] # row swapping"
   ]
  },
  {
   "cell_type": "code",
   "execution_count": 47,
   "id": "01dc637c",
   "metadata": {},
   "outputs": [
    {
     "data": {
      "text/plain": [
       "array([[ 4,  2,  3, 10],\n",
       "       [ 7,  8,  9, 66],\n",
       "       [ 4, 10,  6,  4],\n",
       "       [10,  2,  1, 55]])"
      ]
     },
     "execution_count": 47,
     "metadata": {},
     "output_type": "execute_result"
    }
   ],
   "source": [
    "arr2"
   ]
  },
  {
   "cell_type": "code",
   "execution_count": null,
   "id": "9a929da8",
   "metadata": {},
   "outputs": [],
   "source": [
    "arr2[:,[2,3]] = arr2[:,[3,2]] # column swapping "
   ]
  },
  {
   "cell_type": "code",
   "execution_count": 51,
   "id": "4827a515",
   "metadata": {},
   "outputs": [
    {
     "data": {
      "text/plain": [
       "array([[ 4,  2, 10,  3],\n",
       "       [ 7,  8, 66,  9],\n",
       "       [ 4, 10,  4,  6],\n",
       "       [10,  2, 55,  1]])"
      ]
     },
     "execution_count": 51,
     "metadata": {},
     "output_type": "execute_result"
    }
   ],
   "source": [
    "arr2"
   ]
  },
  {
   "cell_type": "code",
   "execution_count": null,
   "id": "9cc047f4",
   "metadata": {},
   "outputs": [
    {
     "data": {
      "text/plain": [
       "array([ 4,  2, 10,  8, 66,  4, 10,  4,  6, 10,  2])"
      ]
     },
     "execution_count": 56,
     "metadata": {},
     "output_type": "execute_result"
    }
   ],
   "source": [
    "arr2[arr2==10] # finding values using conditions\n",
    "arr2[arr2%2==0] # even numbers"
   ]
  },
  {
   "cell_type": "code",
   "execution_count": null,
   "id": "f98ac45b",
   "metadata": {},
   "outputs": [
    {
     "data": {
      "text/plain": [
       "array([10,  8, 66, 10,  6, 10])"
      ]
     },
     "execution_count": 58,
     "metadata": {},
     "output_type": "execute_result"
    }
   ],
   "source": [
    "arr2[(arr2>5)&(arr2%2==0)] # Always returns 1D array"
   ]
  }
 ],
 "metadata": {
  "kernelspec": {
   "display_name": "Python 3",
   "language": "python",
   "name": "python3"
  },
  "language_info": {
   "codemirror_mode": {
    "name": "ipython",
    "version": 3
   },
   "file_extension": ".py",
   "mimetype": "text/x-python",
   "name": "python",
   "nbconvert_exporter": "python",
   "pygments_lexer": "ipython3",
   "version": "3.13.2"
  }
 },
 "nbformat": 4,
 "nbformat_minor": 5
}
